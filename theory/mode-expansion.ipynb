{
 "cells": [
  {
   "cell_type": "code",
   "execution_count": 1,
   "id": "62bd0ef3",
   "metadata": {},
   "outputs": [],
   "source": [
    "from sympy import symbols\n",
    "import sympy as sp\n",
    "from sympy.physics.quantum import Operator, Operator\n",
    "\n",
    "# --- Symbols for spectral overlap ---\n",
    "eta = symbols('eta', real=True, positive=True)\n",
    "\n",
    "# --- Symbols for polarization ---\n",
    "theta = symbols('theta', real=True)\n",
    "phi_1 = symbols('phi_1', real=True)\n",
    "phi_2 = symbols('phi_2', real=True)\n"
   ]
  },
  {
   "cell_type": "code",
   "execution_count": 2,
   "id": "a0c26207",
   "metadata": {},
   "outputs": [
    {
     "data": {
      "text/latex": [
       "$\\displaystyle e^{i \\phi_{1}} \\sin{\\left(\\frac{\\theta}{2} \\right)} Operator\\left(V,a,\\psi\\right) + \\cos{\\left(\\frac{\\theta}{2} \\right)} Operator\\left(H,a,\\psi\\right)$"
      ],
      "text/plain": [
       "exp(I*phi_1)*sin(theta/2)*Operator(V,a,psi) + cos(theta/2)*Operator(H,a,psi)"
      ]
     },
     "execution_count": 2,
     "metadata": {},
     "output_type": "execute_result"
    }
   ],
   "source": [
    "alpha_1 = sp.cos(theta / 2) * Operator('H', 'a', 'psi') + sp.sin(theta / 2) * sp.exp(sp.I * phi_1) * Operator('V', 'a', 'psi')\n",
    "alpha_1"
   ]
  },
  {
   "cell_type": "code",
   "execution_count": 3,
   "id": "f193f971",
   "metadata": {},
   "outputs": [
    {
     "data": {
      "text/latex": [
       "$\\displaystyle \\eta e^{i \\phi_{2}} \\sin{\\left(\\frac{\\theta}{2} \\right)} Operator\\left(V,b,\\psi\\right) + \\eta \\cos{\\left(\\frac{\\theta}{2} \\right)} Operator\\left(H,b,\\psi\\right) + \\sqrt{1 - \\eta^{2}} e^{i \\phi_{2}} \\sin{\\left(\\frac{\\theta}{2} \\right)} Operator\\left(V,b,\\psi_{perp}\\right) + \\sqrt{1 - \\eta^{2}} \\cos{\\left(\\frac{\\theta}{2} \\right)} Operator\\left(H,b,\\psi_{perp}\\right)$"
      ],
      "text/plain": [
       "eta*exp(I*phi_2)*sin(theta/2)*Operator(V,b,psi) + eta*cos(theta/2)*Operator(H,b,psi) + sqrt(1 - eta**2)*exp(I*phi_2)*sin(theta/2)*Operator(V,b,psi_perp) + sqrt(1 - eta**2)*cos(theta/2)*Operator(H,b,psi_perp)"
      ]
     },
     "execution_count": 3,
     "metadata": {},
     "output_type": "execute_result"
    }
   ],
   "source": [
    "alpha_2 = eta * (\n",
    "    sp.cos(theta / 2) * Operator(\"H\", \"b\", \"psi\")\n",
    "    + sp.sin(theta / 2) * sp.exp(sp.I * phi_2) * Operator(\"V\", \"b\", \"psi\")\n",
    ") + sp.sqrt(1 - eta**2) * (\n",
    "    sp.cos(theta / 2) * Operator(\"H\", \"b\", \"psi_perp\")\n",
    "    + sp.sin(theta / 2) * sp.exp(sp.I * phi_2) * Operator(\"V\", \"b\", \"psi_perp\")\n",
    ")\n",
    "alpha_2 = alpha_2.expand(trig=True)\n",
    "alpha_2"
   ]
  },
  {
   "cell_type": "code",
   "execution_count": 4,
   "id": "18334a1c",
   "metadata": {},
   "outputs": [
    {
     "data": {
      "text/latex": [
       "$\\displaystyle \\sqrt{1 - \\eta^{2}} \\cos{\\left(\\frac{\\theta}{2} \\right)} Operator\\left(H,b,\\psi_{perp}\\right)$"
      ],
      "text/plain": [
       "sqrt(1 - eta**2)*cos(theta/2)*Operator(H,b,psi_perp)"
      ]
     },
     "execution_count": 4,
     "metadata": {},
     "output_type": "execute_result"
    }
   ],
   "source": [
    "alpha_2.args[1]"
   ]
  },
  {
   "cell_type": "code",
   "execution_count": 5,
   "id": "2449d721",
   "metadata": {},
   "outputs": [
    {
     "data": {
      "text/latex": [
       "$\\displaystyle \\frac{\\sqrt{2} e^{i \\phi_{1}} \\sin{\\left(\\frac{\\theta}{2} \\right)} Operator\\left(c,V,\\psi\\right)}{2} + \\frac{\\sqrt{2} e^{i \\phi_{1}} \\sin{\\left(\\frac{\\theta}{2} \\right)} Operator\\left(d,V,\\psi\\right)}{2} + \\frac{\\sqrt{2} \\cos{\\left(\\frac{\\theta}{2} \\right)} Operator\\left(c,H,\\psi\\right)}{2} + \\frac{\\sqrt{2} \\cos{\\left(\\frac{\\theta}{2} \\right)} Operator\\left(d,H,\\psi\\right)}{2}$"
      ],
      "text/plain": [
       "sqrt(2)*exp(I*phi_1)*sin(theta/2)*Operator(c,V,psi)/2 + sqrt(2)*exp(I*phi_1)*sin(theta/2)*Operator(d,V,psi)/2 + sqrt(2)*cos(theta/2)*Operator(c,H,psi)/2 + sqrt(2)*cos(theta/2)*Operator(d,H,psi)/2"
      ]
     },
     "execution_count": 5,
     "metadata": {},
     "output_type": "execute_result"
    }
   ],
   "source": [
    "def beam_splitter_transform(op: Operator):\n",
    "\n",
    "    factors = op.args[:-1]\n",
    "    factor = sp.prod(factors)\n",
    "    pol, path, spec = op.args[-1].args\n",
    "\n",
    "    if str(path) == 'a':\n",
    "        new = (1/sp.sqrt(2)) * (Operator(\"c\", pol, spec) + Operator(\"d\", pol, spec))\n",
    "    elif str(path) == 'b':\n",
    "        new = (1/sp.sqrt(2)) * (Operator(\"c\", pol, spec) - Operator(\"d\", pol, spec))\n",
    "    else:\n",
    "        raise ValueError(\"Invalid path\")\n",
    "    terms = factor * new\n",
    "    return terms\n",
    "\n",
    "alpha_1_out_terms = [beam_splitter_transform(term) for term in alpha_1.args]\n",
    "alpha_1_out = sp.expand(sum(alpha_1_out_terms), trig=True)\n",
    "alpha_1_out"
   ]
  },
  {
   "cell_type": "code",
   "execution_count": 6,
   "id": "c620be3a",
   "metadata": {},
   "outputs": [
    {
     "data": {
      "text/latex": [
       "$\\displaystyle \\frac{\\sqrt{2} \\eta e^{i \\phi_{2}} \\sin{\\left(\\frac{\\theta}{2} \\right)} Operator\\left(c,V,\\psi\\right)}{2} - \\frac{\\sqrt{2} \\eta e^{i \\phi_{2}} \\sin{\\left(\\frac{\\theta}{2} \\right)} Operator\\left(d,V,\\psi\\right)}{2} + \\frac{\\sqrt{2} \\eta \\cos{\\left(\\frac{\\theta}{2} \\right)} Operator\\left(c,H,\\psi\\right)}{2} - \\frac{\\sqrt{2} \\eta \\cos{\\left(\\frac{\\theta}{2} \\right)} Operator\\left(d,H,\\psi\\right)}{2} + \\frac{\\sqrt{2} \\sqrt{1 - \\eta^{2}} e^{i \\phi_{2}} \\sin{\\left(\\frac{\\theta}{2} \\right)} Operator\\left(c,V,\\psi_{perp}\\right)}{2} - \\frac{\\sqrt{2} \\sqrt{1 - \\eta^{2}} e^{i \\phi_{2}} \\sin{\\left(\\frac{\\theta}{2} \\right)} Operator\\left(d,V,\\psi_{perp}\\right)}{2} + \\frac{\\sqrt{2} \\sqrt{1 - \\eta^{2}} \\cos{\\left(\\frac{\\theta}{2} \\right)} Operator\\left(c,H,\\psi_{perp}\\right)}{2} - \\frac{\\sqrt{2} \\sqrt{1 - \\eta^{2}} \\cos{\\left(\\frac{\\theta}{2} \\right)} Operator\\left(d,H,\\psi_{perp}\\right)}{2}$"
      ],
      "text/plain": [
       "sqrt(2)*eta*exp(I*phi_2)*sin(theta/2)*Operator(c,V,psi)/2 - sqrt(2)*eta*exp(I*phi_2)*sin(theta/2)*Operator(d,V,psi)/2 + sqrt(2)*eta*cos(theta/2)*Operator(c,H,psi)/2 - sqrt(2)*eta*cos(theta/2)*Operator(d,H,psi)/2 + sqrt(2)*sqrt(1 - eta**2)*exp(I*phi_2)*sin(theta/2)*Operator(c,V,psi_perp)/2 - sqrt(2)*sqrt(1 - eta**2)*exp(I*phi_2)*sin(theta/2)*Operator(d,V,psi_perp)/2 + sqrt(2)*sqrt(1 - eta**2)*cos(theta/2)*Operator(c,H,psi_perp)/2 - sqrt(2)*sqrt(1 - eta**2)*cos(theta/2)*Operator(d,H,psi_perp)/2"
      ]
     },
     "execution_count": 6,
     "metadata": {},
     "output_type": "execute_result"
    }
   ],
   "source": [
    "alpha_2_out_terms = [beam_splitter_transform(term) for term in alpha_2.args]\n",
    "alpha_2_out = sp.expand(sum(alpha_2_out_terms), trig=True)\n",
    "alpha_2_out"
   ]
  },
  {
   "cell_type": "code",
   "execution_count": 7,
   "id": "6eb33654",
   "metadata": {},
   "outputs": [
    {
     "data": {
      "text/latex": [
       "$\\displaystyle - \\frac{\\eta e^{i \\phi_{1}} e^{i \\phi_{2}} \\sin^{2}{\\left(\\frac{\\theta}{2} \\right)} Operator\\left(c,V,\\psi\\right) Operator\\left(d,V,\\psi\\right)}{2} + \\frac{\\eta e^{i \\phi_{1}} e^{i \\phi_{2}} \\sin^{2}{\\left(\\frac{\\theta}{2} \\right)} Operator\\left(c,V,\\psi\\right)^{2}}{2} + \\frac{\\eta e^{i \\phi_{1}} e^{i \\phi_{2}} \\sin^{2}{\\left(\\frac{\\theta}{2} \\right)} Operator\\left(d,V,\\psi\\right) Operator\\left(c,V,\\psi\\right)}{2} - \\frac{\\eta e^{i \\phi_{1}} e^{i \\phi_{2}} \\sin^{2}{\\left(\\frac{\\theta}{2} \\right)} Operator\\left(d,V,\\psi\\right)^{2}}{2} + \\frac{\\eta e^{i \\phi_{1}} \\sin{\\left(\\frac{\\theta}{2} \\right)} \\cos{\\left(\\frac{\\theta}{2} \\right)} Operator\\left(c,V,\\psi\\right) Operator\\left(c,H,\\psi\\right)}{2} - \\frac{\\eta e^{i \\phi_{1}} \\sin{\\left(\\frac{\\theta}{2} \\right)} \\cos{\\left(\\frac{\\theta}{2} \\right)} Operator\\left(c,V,\\psi\\right) Operator\\left(d,H,\\psi\\right)}{2} + \\frac{\\eta e^{i \\phi_{1}} \\sin{\\left(\\frac{\\theta}{2} \\right)} \\cos{\\left(\\frac{\\theta}{2} \\right)} Operator\\left(d,V,\\psi\\right) Operator\\left(c,H,\\psi\\right)}{2} - \\frac{\\eta e^{i \\phi_{1}} \\sin{\\left(\\frac{\\theta}{2} \\right)} \\cos{\\left(\\frac{\\theta}{2} \\right)} Operator\\left(d,V,\\psi\\right) Operator\\left(d,H,\\psi\\right)}{2} + \\frac{\\eta e^{i \\phi_{2}} \\sin{\\left(\\frac{\\theta}{2} \\right)} \\cos{\\left(\\frac{\\theta}{2} \\right)} Operator\\left(c,H,\\psi\\right) Operator\\left(c,V,\\psi\\right)}{2} - \\frac{\\eta e^{i \\phi_{2}} \\sin{\\left(\\frac{\\theta}{2} \\right)} \\cos{\\left(\\frac{\\theta}{2} \\right)} Operator\\left(c,H,\\psi\\right) Operator\\left(d,V,\\psi\\right)}{2} + \\frac{\\eta e^{i \\phi_{2}} \\sin{\\left(\\frac{\\theta}{2} \\right)} \\cos{\\left(\\frac{\\theta}{2} \\right)} Operator\\left(d,H,\\psi\\right) Operator\\left(c,V,\\psi\\right)}{2} - \\frac{\\eta e^{i \\phi_{2}} \\sin{\\left(\\frac{\\theta}{2} \\right)} \\cos{\\left(\\frac{\\theta}{2} \\right)} Operator\\left(d,H,\\psi\\right) Operator\\left(d,V,\\psi\\right)}{2} - \\frac{\\eta \\cos^{2}{\\left(\\frac{\\theta}{2} \\right)} Operator\\left(c,H,\\psi\\right) Operator\\left(d,H,\\psi\\right)}{2} + \\frac{\\eta \\cos^{2}{\\left(\\frac{\\theta}{2} \\right)} Operator\\left(c,H,\\psi\\right)^{2}}{2} + \\frac{\\eta \\cos^{2}{\\left(\\frac{\\theta}{2} \\right)} Operator\\left(d,H,\\psi\\right) Operator\\left(c,H,\\psi\\right)}{2} - \\frac{\\eta \\cos^{2}{\\left(\\frac{\\theta}{2} \\right)} Operator\\left(d,H,\\psi\\right)^{2}}{2} + \\frac{\\sqrt{1 - \\eta^{2}} e^{i \\phi_{1}} e^{i \\phi_{2}} \\sin^{2}{\\left(\\frac{\\theta}{2} \\right)} Operator\\left(c,V,\\psi\\right) Operator\\left(c,V,\\psi_{perp}\\right)}{2} - \\frac{\\sqrt{1 - \\eta^{2}} e^{i \\phi_{1}} e^{i \\phi_{2}} \\sin^{2}{\\left(\\frac{\\theta}{2} \\right)} Operator\\left(c,V,\\psi\\right) Operator\\left(d,V,\\psi_{perp}\\right)}{2} + \\frac{\\sqrt{1 - \\eta^{2}} e^{i \\phi_{1}} e^{i \\phi_{2}} \\sin^{2}{\\left(\\frac{\\theta}{2} \\right)} Operator\\left(d,V,\\psi\\right) Operator\\left(c,V,\\psi_{perp}\\right)}{2} - \\frac{\\sqrt{1 - \\eta^{2}} e^{i \\phi_{1}} e^{i \\phi_{2}} \\sin^{2}{\\left(\\frac{\\theta}{2} \\right)} Operator\\left(d,V,\\psi\\right) Operator\\left(d,V,\\psi_{perp}\\right)}{2} + \\frac{\\sqrt{1 - \\eta^{2}} e^{i \\phi_{1}} \\sin{\\left(\\frac{\\theta}{2} \\right)} \\cos{\\left(\\frac{\\theta}{2} \\right)} Operator\\left(c,V,\\psi\\right) Operator\\left(c,H,\\psi_{perp}\\right)}{2} - \\frac{\\sqrt{1 - \\eta^{2}} e^{i \\phi_{1}} \\sin{\\left(\\frac{\\theta}{2} \\right)} \\cos{\\left(\\frac{\\theta}{2} \\right)} Operator\\left(c,V,\\psi\\right) Operator\\left(d,H,\\psi_{perp}\\right)}{2} + \\frac{\\sqrt{1 - \\eta^{2}} e^{i \\phi_{1}} \\sin{\\left(\\frac{\\theta}{2} \\right)} \\cos{\\left(\\frac{\\theta}{2} \\right)} Operator\\left(d,V,\\psi\\right) Operator\\left(c,H,\\psi_{perp}\\right)}{2} - \\frac{\\sqrt{1 - \\eta^{2}} e^{i \\phi_{1}} \\sin{\\left(\\frac{\\theta}{2} \\right)} \\cos{\\left(\\frac{\\theta}{2} \\right)} Operator\\left(d,V,\\psi\\right) Operator\\left(d,H,\\psi_{perp}\\right)}{2} + \\frac{\\sqrt{1 - \\eta^{2}} e^{i \\phi_{2}} \\sin{\\left(\\frac{\\theta}{2} \\right)} \\cos{\\left(\\frac{\\theta}{2} \\right)} Operator\\left(c,H,\\psi\\right) Operator\\left(c,V,\\psi_{perp}\\right)}{2} - \\frac{\\sqrt{1 - \\eta^{2}} e^{i \\phi_{2}} \\sin{\\left(\\frac{\\theta}{2} \\right)} \\cos{\\left(\\frac{\\theta}{2} \\right)} Operator\\left(c,H,\\psi\\right) Operator\\left(d,V,\\psi_{perp}\\right)}{2} + \\frac{\\sqrt{1 - \\eta^{2}} e^{i \\phi_{2}} \\sin{\\left(\\frac{\\theta}{2} \\right)} \\cos{\\left(\\frac{\\theta}{2} \\right)} Operator\\left(d,H,\\psi\\right) Operator\\left(c,V,\\psi_{perp}\\right)}{2} - \\frac{\\sqrt{1 - \\eta^{2}} e^{i \\phi_{2}} \\sin{\\left(\\frac{\\theta}{2} \\right)} \\cos{\\left(\\frac{\\theta}{2} \\right)} Operator\\left(d,H,\\psi\\right) Operator\\left(d,V,\\psi_{perp}\\right)}{2} + \\frac{\\sqrt{1 - \\eta^{2}} \\cos^{2}{\\left(\\frac{\\theta}{2} \\right)} Operator\\left(c,H,\\psi\\right) Operator\\left(c,H,\\psi_{perp}\\right)}{2} - \\frac{\\sqrt{1 - \\eta^{2}} \\cos^{2}{\\left(\\frac{\\theta}{2} \\right)} Operator\\left(c,H,\\psi\\right) Operator\\left(d,H,\\psi_{perp}\\right)}{2} + \\frac{\\sqrt{1 - \\eta^{2}} \\cos^{2}{\\left(\\frac{\\theta}{2} \\right)} Operator\\left(d,H,\\psi\\right) Operator\\left(c,H,\\psi_{perp}\\right)}{2} - \\frac{\\sqrt{1 - \\eta^{2}} \\cos^{2}{\\left(\\frac{\\theta}{2} \\right)} Operator\\left(d,H,\\psi\\right) Operator\\left(d,H,\\psi_{perp}\\right)}{2}$"
      ],
      "text/plain": [
       "-eta*exp(I*phi_1)*exp(I*phi_2)*sin(theta/2)**2*Operator(c,V,psi)*Operator(d,V,psi)/2 + eta*exp(I*phi_1)*exp(I*phi_2)*sin(theta/2)**2*Operator(c,V,psi)**2/2 + eta*exp(I*phi_1)*exp(I*phi_2)*sin(theta/2)**2*Operator(d,V,psi)*Operator(c,V,psi)/2 - eta*exp(I*phi_1)*exp(I*phi_2)*sin(theta/2)**2*Operator(d,V,psi)**2/2 + eta*exp(I*phi_1)*sin(theta/2)*cos(theta/2)*Operator(c,V,psi)*Operator(c,H,psi)/2 - eta*exp(I*phi_1)*sin(theta/2)*cos(theta/2)*Operator(c,V,psi)*Operator(d,H,psi)/2 + eta*exp(I*phi_1)*sin(theta/2)*cos(theta/2)*Operator(d,V,psi)*Operator(c,H,psi)/2 - eta*exp(I*phi_1)*sin(theta/2)*cos(theta/2)*Operator(d,V,psi)*Operator(d,H,psi)/2 + eta*exp(I*phi_2)*sin(theta/2)*cos(theta/2)*Operator(c,H,psi)*Operator(c,V,psi)/2 - eta*exp(I*phi_2)*sin(theta/2)*cos(theta/2)*Operator(c,H,psi)*Operator(d,V,psi)/2 + eta*exp(I*phi_2)*sin(theta/2)*cos(theta/2)*Operator(d,H,psi)*Operator(c,V,psi)/2 - eta*exp(I*phi_2)*sin(theta/2)*cos(theta/2)*Operator(d,H,psi)*Operator(d,V,psi)/2 - eta*cos(theta/2)**2*Operator(c,H,psi)*Operator(d,H,psi)/2 + eta*cos(theta/2)**2*Operator(c,H,psi)**2/2 + eta*cos(theta/2)**2*Operator(d,H,psi)*Operator(c,H,psi)/2 - eta*cos(theta/2)**2*Operator(d,H,psi)**2/2 + sqrt(1 - eta**2)*exp(I*phi_1)*exp(I*phi_2)*sin(theta/2)**2*Operator(c,V,psi)*Operator(c,V,psi_perp)/2 - sqrt(1 - eta**2)*exp(I*phi_1)*exp(I*phi_2)*sin(theta/2)**2*Operator(c,V,psi)*Operator(d,V,psi_perp)/2 + sqrt(1 - eta**2)*exp(I*phi_1)*exp(I*phi_2)*sin(theta/2)**2*Operator(d,V,psi)*Operator(c,V,psi_perp)/2 - sqrt(1 - eta**2)*exp(I*phi_1)*exp(I*phi_2)*sin(theta/2)**2*Operator(d,V,psi)*Operator(d,V,psi_perp)/2 + sqrt(1 - eta**2)*exp(I*phi_1)*sin(theta/2)*cos(theta/2)*Operator(c,V,psi)*Operator(c,H,psi_perp)/2 - sqrt(1 - eta**2)*exp(I*phi_1)*sin(theta/2)*cos(theta/2)*Operator(c,V,psi)*Operator(d,H,psi_perp)/2 + sqrt(1 - eta**2)*exp(I*phi_1)*sin(theta/2)*cos(theta/2)*Operator(d,V,psi)*Operator(c,H,psi_perp)/2 - sqrt(1 - eta**2)*exp(I*phi_1)*sin(theta/2)*cos(theta/2)*Operator(d,V,psi)*Operator(d,H,psi_perp)/2 + sqrt(1 - eta**2)*exp(I*phi_2)*sin(theta/2)*cos(theta/2)*Operator(c,H,psi)*Operator(c,V,psi_perp)/2 - sqrt(1 - eta**2)*exp(I*phi_2)*sin(theta/2)*cos(theta/2)*Operator(c,H,psi)*Operator(d,V,psi_perp)/2 + sqrt(1 - eta**2)*exp(I*phi_2)*sin(theta/2)*cos(theta/2)*Operator(d,H,psi)*Operator(c,V,psi_perp)/2 - sqrt(1 - eta**2)*exp(I*phi_2)*sin(theta/2)*cos(theta/2)*Operator(d,H,psi)*Operator(d,V,psi_perp)/2 + sqrt(1 - eta**2)*cos(theta/2)**2*Operator(c,H,psi)*Operator(c,H,psi_perp)/2 - sqrt(1 - eta**2)*cos(theta/2)**2*Operator(c,H,psi)*Operator(d,H,psi_perp)/2 + sqrt(1 - eta**2)*cos(theta/2)**2*Operator(d,H,psi)*Operator(c,H,psi_perp)/2 - sqrt(1 - eta**2)*cos(theta/2)**2*Operator(d,H,psi)*Operator(d,H,psi_perp)/2"
      ]
     },
     "execution_count": 7,
     "metadata": {},
     "output_type": "execute_result"
    }
   ],
   "source": [
    "bs_out = alpha_1_out * alpha_2_out\n",
    "bs_out = sp.simplify(bs_out)\n",
    "bs_out = sp.expand(bs_out, trig=True)\n",
    "bs_out"
   ]
  },
  {
   "cell_type": "code",
   "execution_count": 62,
   "id": "a18ed383",
   "metadata": {},
   "outputs": [
    {
     "data": {
      "text/latex": [
       "$\\displaystyle - \\frac{\\eta e^{i \\phi_{1}} e^{i \\phi_{2}} \\sin^{2}{\\left(\\frac{\\theta}{2} \\right)} Operator\\left(c,V,\\psi\\right) Operator\\left(d,V,\\psi\\right)}{2} + \\frac{\\eta e^{i \\phi_{1}} e^{i \\phi_{2}} \\sin^{2}{\\left(\\frac{\\theta}{2} \\right)} Operator\\left(c,V,\\psi\\right)^{2}}{2} + \\frac{\\eta e^{i \\phi_{1}} e^{i \\phi_{2}} \\sin^{2}{\\left(\\frac{\\theta}{2} \\right)} Operator\\left(d,V,\\psi\\right) Operator\\left(c,V,\\psi\\right)}{2} - \\frac{\\eta e^{i \\phi_{1}} e^{i \\phi_{2}} \\sin^{2}{\\left(\\frac{\\theta}{2} \\right)} Operator\\left(d,V,\\psi\\right)^{2}}{2} + \\frac{\\eta e^{i \\phi_{1}} \\sin{\\left(\\theta \\right)} Operator\\left(c,V,\\psi\\right) Operator\\left(c,H,\\psi\\right)}{4} - \\frac{\\eta e^{i \\phi_{1}} \\sin{\\left(\\theta \\right)} Operator\\left(c,V,\\psi\\right) Operator\\left(d,H,\\psi\\right)}{4} + \\frac{\\eta e^{i \\phi_{1}} \\sin{\\left(\\theta \\right)} Operator\\left(d,V,\\psi\\right) Operator\\left(c,H,\\psi\\right)}{4} - \\frac{\\eta e^{i \\phi_{1}} \\sin{\\left(\\theta \\right)} Operator\\left(d,V,\\psi\\right) Operator\\left(d,H,\\psi\\right)}{4} + \\frac{\\eta e^{i \\phi_{2}} \\sin{\\left(\\theta \\right)} Operator\\left(c,H,\\psi\\right) Operator\\left(c,V,\\psi\\right)}{4} - \\frac{\\eta e^{i \\phi_{2}} \\sin{\\left(\\theta \\right)} Operator\\left(c,H,\\psi\\right) Operator\\left(d,V,\\psi\\right)}{4} + \\frac{\\eta e^{i \\phi_{2}} \\sin{\\left(\\theta \\right)} Operator\\left(d,H,\\psi\\right) Operator\\left(c,V,\\psi\\right)}{4} - \\frac{\\eta e^{i \\phi_{2}} \\sin{\\left(\\theta \\right)} Operator\\left(d,H,\\psi\\right) Operator\\left(d,V,\\psi\\right)}{4} - \\frac{\\eta \\cos^{2}{\\left(\\frac{\\theta}{2} \\right)} Operator\\left(c,H,\\psi\\right) Operator\\left(d,H,\\psi\\right)}{2} + \\frac{\\eta \\cos^{2}{\\left(\\frac{\\theta}{2} \\right)} Operator\\left(c,H,\\psi\\right)^{2}}{2} + \\frac{\\eta \\cos^{2}{\\left(\\frac{\\theta}{2} \\right)} Operator\\left(d,H,\\psi\\right) Operator\\left(c,H,\\psi\\right)}{2} - \\frac{\\eta \\cos^{2}{\\left(\\frac{\\theta}{2} \\right)} Operator\\left(d,H,\\psi\\right)^{2}}{2} + \\frac{\\sqrt{1 - \\eta^{2}} e^{i \\phi_{1}} e^{i \\phi_{2}} \\sin^{2}{\\left(\\frac{\\theta}{2} \\right)} Operator\\left(c,V,\\psi\\right) Operator\\left(c,V,\\psi_{perp}\\right)}{2} - \\frac{\\sqrt{1 - \\eta^{2}} e^{i \\phi_{1}} e^{i \\phi_{2}} \\sin^{2}{\\left(\\frac{\\theta}{2} \\right)} Operator\\left(c,V,\\psi\\right) Operator\\left(d,V,\\psi_{perp}\\right)}{2} + \\frac{\\sqrt{1 - \\eta^{2}} e^{i \\phi_{1}} e^{i \\phi_{2}} \\sin^{2}{\\left(\\frac{\\theta}{2} \\right)} Operator\\left(d,V,\\psi\\right) Operator\\left(c,V,\\psi_{perp}\\right)}{2} - \\frac{\\sqrt{1 - \\eta^{2}} e^{i \\phi_{1}} e^{i \\phi_{2}} \\sin^{2}{\\left(\\frac{\\theta}{2} \\right)} Operator\\left(d,V,\\psi\\right) Operator\\left(d,V,\\psi_{perp}\\right)}{2} + \\frac{\\sqrt{1 - \\eta^{2}} e^{i \\phi_{1}} \\sin{\\left(\\theta \\right)} Operator\\left(c,V,\\psi\\right) Operator\\left(c,H,\\psi_{perp}\\right)}{4} - \\frac{\\sqrt{1 - \\eta^{2}} e^{i \\phi_{1}} \\sin{\\left(\\theta \\right)} Operator\\left(c,V,\\psi\\right) Operator\\left(d,H,\\psi_{perp}\\right)}{4} + \\frac{\\sqrt{1 - \\eta^{2}} e^{i \\phi_{1}} \\sin{\\left(\\theta \\right)} Operator\\left(d,V,\\psi\\right) Operator\\left(c,H,\\psi_{perp}\\right)}{4} - \\frac{\\sqrt{1 - \\eta^{2}} e^{i \\phi_{1}} \\sin{\\left(\\theta \\right)} Operator\\left(d,V,\\psi\\right) Operator\\left(d,H,\\psi_{perp}\\right)}{4} + \\frac{\\sqrt{1 - \\eta^{2}} e^{i \\phi_{2}} \\sin{\\left(\\theta \\right)} Operator\\left(c,H,\\psi\\right) Operator\\left(c,V,\\psi_{perp}\\right)}{4} - \\frac{\\sqrt{1 - \\eta^{2}} e^{i \\phi_{2}} \\sin{\\left(\\theta \\right)} Operator\\left(c,H,\\psi\\right) Operator\\left(d,V,\\psi_{perp}\\right)}{4} + \\frac{\\sqrt{1 - \\eta^{2}} e^{i \\phi_{2}} \\sin{\\left(\\theta \\right)} Operator\\left(d,H,\\psi\\right) Operator\\left(c,V,\\psi_{perp}\\right)}{4} - \\frac{\\sqrt{1 - \\eta^{2}} e^{i \\phi_{2}} \\sin{\\left(\\theta \\right)} Operator\\left(d,H,\\psi\\right) Operator\\left(d,V,\\psi_{perp}\\right)}{4} + \\frac{\\sqrt{1 - \\eta^{2}} \\cos^{2}{\\left(\\frac{\\theta}{2} \\right)} Operator\\left(c,H,\\psi\\right) Operator\\left(c,H,\\psi_{perp}\\right)}{2} - \\frac{\\sqrt{1 - \\eta^{2}} \\cos^{2}{\\left(\\frac{\\theta}{2} \\right)} Operator\\left(c,H,\\psi\\right) Operator\\left(d,H,\\psi_{perp}\\right)}{2} + \\frac{\\sqrt{1 - \\eta^{2}} \\cos^{2}{\\left(\\frac{\\theta}{2} \\right)} Operator\\left(d,H,\\psi\\right) Operator\\left(c,H,\\psi_{perp}\\right)}{2} - \\frac{\\sqrt{1 - \\eta^{2}} \\cos^{2}{\\left(\\frac{\\theta}{2} \\right)} Operator\\left(d,H,\\psi\\right) Operator\\left(d,H,\\psi_{perp}\\right)}{2}$"
      ],
      "text/plain": [
       "-eta*exp(I*phi_1)*exp(I*phi_2)*sin(theta/2)**2*Operator(c,V,psi)*Operator(d,V,psi)/2 + eta*exp(I*phi_1)*exp(I*phi_2)*sin(theta/2)**2*Operator(c,V,psi)**2/2 + eta*exp(I*phi_1)*exp(I*phi_2)*sin(theta/2)**2*Operator(d,V,psi)*Operator(c,V,psi)/2 - eta*exp(I*phi_1)*exp(I*phi_2)*sin(theta/2)**2*Operator(d,V,psi)**2/2 + eta*exp(I*phi_1)*sin(theta)*Operator(c,V,psi)*Operator(c,H,psi)/4 - eta*exp(I*phi_1)*sin(theta)*Operator(c,V,psi)*Operator(d,H,psi)/4 + eta*exp(I*phi_1)*sin(theta)*Operator(d,V,psi)*Operator(c,H,psi)/4 - eta*exp(I*phi_1)*sin(theta)*Operator(d,V,psi)*Operator(d,H,psi)/4 + eta*exp(I*phi_2)*sin(theta)*Operator(c,H,psi)*Operator(c,V,psi)/4 - eta*exp(I*phi_2)*sin(theta)*Operator(c,H,psi)*Operator(d,V,psi)/4 + eta*exp(I*phi_2)*sin(theta)*Operator(d,H,psi)*Operator(c,V,psi)/4 - eta*exp(I*phi_2)*sin(theta)*Operator(d,H,psi)*Operator(d,V,psi)/4 - eta*cos(theta/2)**2*Operator(c,H,psi)*Operator(d,H,psi)/2 + eta*cos(theta/2)**2*Operator(c,H,psi)**2/2 + eta*cos(theta/2)**2*Operator(d,H,psi)*Operator(c,H,psi)/2 - eta*cos(theta/2)**2*Operator(d,H,psi)**2/2 + sqrt(1 - eta**2)*exp(I*phi_1)*exp(I*phi_2)*sin(theta/2)**2*Operator(c,V,psi)*Operator(c,V,psi_perp)/2 - sqrt(1 - eta**2)*exp(I*phi_1)*exp(I*phi_2)*sin(theta/2)**2*Operator(c,V,psi)*Operator(d,V,psi_perp)/2 + sqrt(1 - eta**2)*exp(I*phi_1)*exp(I*phi_2)*sin(theta/2)**2*Operator(d,V,psi)*Operator(c,V,psi_perp)/2 - sqrt(1 - eta**2)*exp(I*phi_1)*exp(I*phi_2)*sin(theta/2)**2*Operator(d,V,psi)*Operator(d,V,psi_perp)/2 + sqrt(1 - eta**2)*exp(I*phi_1)*sin(theta)*Operator(c,V,psi)*Operator(c,H,psi_perp)/4 - sqrt(1 - eta**2)*exp(I*phi_1)*sin(theta)*Operator(c,V,psi)*Operator(d,H,psi_perp)/4 + sqrt(1 - eta**2)*exp(I*phi_1)*sin(theta)*Operator(d,V,psi)*Operator(c,H,psi_perp)/4 - sqrt(1 - eta**2)*exp(I*phi_1)*sin(theta)*Operator(d,V,psi)*Operator(d,H,psi_perp)/4 + sqrt(1 - eta**2)*exp(I*phi_2)*sin(theta)*Operator(c,H,psi)*Operator(c,V,psi_perp)/4 - sqrt(1 - eta**2)*exp(I*phi_2)*sin(theta)*Operator(c,H,psi)*Operator(d,V,psi_perp)/4 + sqrt(1 - eta**2)*exp(I*phi_2)*sin(theta)*Operator(d,H,psi)*Operator(c,V,psi_perp)/4 - sqrt(1 - eta**2)*exp(I*phi_2)*sin(theta)*Operator(d,H,psi)*Operator(d,V,psi_perp)/4 + sqrt(1 - eta**2)*cos(theta/2)**2*Operator(c,H,psi)*Operator(c,H,psi_perp)/2 - sqrt(1 - eta**2)*cos(theta/2)**2*Operator(c,H,psi)*Operator(d,H,psi_perp)/2 + sqrt(1 - eta**2)*cos(theta/2)**2*Operator(d,H,psi)*Operator(c,H,psi_perp)/2 - sqrt(1 - eta**2)*cos(theta/2)**2*Operator(d,H,psi)*Operator(d,H,psi_perp)/2"
      ]
     },
     "execution_count": 62,
     "metadata": {},
     "output_type": "execute_result"
    }
   ],
   "source": [
    "# trace out the psi/psi_perp states\n",
    "bs_out = bs_out.subs(Operator('psi', 'a', 'psi'), 0)\n",
    "bs_out = bs_out.subs(Operator('psi_perp', 'b', 'psi_perp'), 0)\n",
    "bs_out = sp.simplify(bs_out)\n",
    "bs_out = sp.expand(bs_out, trig=True)\n",
    "bs_out"
   ]
  },
  {
   "cell_type": "markdown",
   "id": "0932391c",
   "metadata": {},
   "source": [
    "# Trace out psi"
   ]
  },
  {
   "cell_type": "code",
   "execution_count": 80,
   "id": "25e80a38",
   "metadata": {},
   "outputs": [
    {
     "data": {
      "text/latex": [
       "$\\displaystyle - \\frac{\\eta e^{i \\phi_{1}} e^{i \\phi_{2}} \\sin^{2}{\\left(\\frac{\\theta}{2} \\right)} Operator\\left(c,V,\\psi\\right) Operator\\left(d,V,\\psi\\right)}{2} + \\frac{\\eta e^{i \\phi_{1}} e^{i \\phi_{2}} \\sin^{2}{\\left(\\frac{\\theta}{2} \\right)} Operator\\left(c,V,\\psi\\right)^{2}}{2} + \\frac{\\eta e^{i \\phi_{1}} e^{i \\phi_{2}} \\sin^{2}{\\left(\\frac{\\theta}{2} \\right)} Operator\\left(d,V,\\psi\\right) Operator\\left(c,V,\\psi\\right)}{2} - \\frac{\\eta e^{i \\phi_{1}} e^{i \\phi_{2}} \\sin^{2}{\\left(\\frac{\\theta}{2} \\right)} Operator\\left(d,V,\\psi\\right)^{2}}{2} + \\frac{\\eta e^{i \\phi_{1}} \\sin{\\left(\\theta \\right)} Operator\\left(c,V,\\psi\\right) Operator\\left(c,H,\\psi\\right)}{4} - \\frac{\\eta e^{i \\phi_{1}} \\sin{\\left(\\theta \\right)} Operator\\left(c,V,\\psi\\right) Operator\\left(d,H,\\psi\\right)}{4} + \\frac{\\eta e^{i \\phi_{1}} \\sin{\\left(\\theta \\right)} Operator\\left(d,V,\\psi\\right) Operator\\left(c,H,\\psi\\right)}{4} - \\frac{\\eta e^{i \\phi_{1}} \\sin{\\left(\\theta \\right)} Operator\\left(d,V,\\psi\\right) Operator\\left(d,H,\\psi\\right)}{4} + \\frac{\\eta e^{i \\phi_{2}} \\sin{\\left(\\theta \\right)} Operator\\left(c,H,\\psi\\right) Operator\\left(c,V,\\psi\\right)}{4} - \\frac{\\eta e^{i \\phi_{2}} \\sin{\\left(\\theta \\right)} Operator\\left(c,H,\\psi\\right) Operator\\left(d,V,\\psi\\right)}{4} + \\frac{\\eta e^{i \\phi_{2}} \\sin{\\left(\\theta \\right)} Operator\\left(d,H,\\psi\\right) Operator\\left(c,V,\\psi\\right)}{4} - \\frac{\\eta e^{i \\phi_{2}} \\sin{\\left(\\theta \\right)} Operator\\left(d,H,\\psi\\right) Operator\\left(d,V,\\psi\\right)}{4} - \\frac{\\eta \\cos^{2}{\\left(\\frac{\\theta}{2} \\right)} Operator\\left(c,H,\\psi\\right) Operator\\left(d,H,\\psi\\right)}{2} + \\frac{\\eta \\cos^{2}{\\left(\\frac{\\theta}{2} \\right)} Operator\\left(c,H,\\psi\\right)^{2}}{2} + \\frac{\\eta \\cos^{2}{\\left(\\frac{\\theta}{2} \\right)} Operator\\left(d,H,\\psi\\right) Operator\\left(c,H,\\psi\\right)}{2} - \\frac{\\eta \\cos^{2}{\\left(\\frac{\\theta}{2} \\right)} Operator\\left(d,H,\\psi\\right)^{2}}{2}$"
      ],
      "text/plain": [
       "-eta*exp(I*phi_1)*exp(I*phi_2)*sin(theta/2)**2*Operator(c,V,psi)*Operator(d,V,psi)/2 + eta*exp(I*phi_1)*exp(I*phi_2)*sin(theta/2)**2*Operator(c,V,psi)**2/2 + eta*exp(I*phi_1)*exp(I*phi_2)*sin(theta/2)**2*Operator(d,V,psi)*Operator(c,V,psi)/2 - eta*exp(I*phi_1)*exp(I*phi_2)*sin(theta/2)**2*Operator(d,V,psi)**2/2 + eta*exp(I*phi_1)*sin(theta)*Operator(c,V,psi)*Operator(c,H,psi)/4 - eta*exp(I*phi_1)*sin(theta)*Operator(c,V,psi)*Operator(d,H,psi)/4 + eta*exp(I*phi_1)*sin(theta)*Operator(d,V,psi)*Operator(c,H,psi)/4 - eta*exp(I*phi_1)*sin(theta)*Operator(d,V,psi)*Operator(d,H,psi)/4 + eta*exp(I*phi_2)*sin(theta)*Operator(c,H,psi)*Operator(c,V,psi)/4 - eta*exp(I*phi_2)*sin(theta)*Operator(c,H,psi)*Operator(d,V,psi)/4 + eta*exp(I*phi_2)*sin(theta)*Operator(d,H,psi)*Operator(c,V,psi)/4 - eta*exp(I*phi_2)*sin(theta)*Operator(d,H,psi)*Operator(d,V,psi)/4 - eta*cos(theta/2)**2*Operator(c,H,psi)*Operator(d,H,psi)/2 + eta*cos(theta/2)**2*Operator(c,H,psi)**2/2 + eta*cos(theta/2)**2*Operator(d,H,psi)*Operator(c,H,psi)/2 - eta*cos(theta/2)**2*Operator(d,H,psi)**2/2"
      ]
     },
     "execution_count": 80,
     "metadata": {},
     "output_type": "execute_result"
    }
   ],
   "source": [
    "# To trace out the psi states, we can use the fact that\n",
    "# <psi|psi> = 1 and <psi_perp|psi_perp> = 1, and all other inner products are zero.\n",
    "\n",
    "\n",
    "bs_out_partial_traced_terms = []\n",
    "for i, term in enumerate(bs_out.args):\n",
    "    operators = [o for o in term.args if isinstance(o, Operator)]\n",
    "    prod = sp.prod([o for o in term.args if not isinstance(o, Operator)])\n",
    "    if len(operators) == 2:\n",
    "        if operators[0].args[-1] == operators[1].args[-1]:\n",
    "            bs_out_partial_traced_terms.append(term)\n",
    "    else:\n",
    "        bs_out_partial_traced_terms.append(term)\n",
    "        \n",
    "bs_out_partial_traced = sp.expand(sum(bs_out_partial_traced_terms), trig=True)\n",
    "bs_out_partial_traced\n",
    "\n"
   ]
  },
  {
   "cell_type": "code",
   "execution_count": null,
   "id": "2f7b10c5",
   "metadata": {},
   "outputs": [],
   "source": [
    "# ensure it is a valid operator\n",
    "bs_out_partial_traced = sp.simplify(bs_out_partial_traced)\n",
    "bs_out_partial_traced = sp.expand(bs_out_partial_traced, trig=True)\n",
    "bs_out_partial_traced = bs_out_partial_traced.subs(Operator('psi', 'a', 'psi'), 0)\n",
    "bs_out_partial_traced = bs_out_partial_traced.subs(Operator('psi_perp', 'b', 'psi_perp'), 0)\n",
    "bs_out_partial_traced = sp.simplify(bs_out_partial_traced)\n",
    "bs_out_partial_traced = sp.expand(bs_out_partial_traced, trig=True)\n",
    "bs_out_partial_traced"
   ]
  },
  {
   "cell_type": "markdown",
   "id": "3fd66b62",
   "metadata": {},
   "source": [
    "# Relevant projectors"
   ]
  },
  {
   "cell_type": "code",
   "execution_count": 114,
   "id": "b33d086c",
   "metadata": {},
   "outputs": [
    {
     "data": {
      "text/latex": [
       "$\\displaystyle Operator\\left(c,H,\\psi\\right)^{2}$"
      ],
      "text/plain": [
       "Operator(c,H,psi)**2"
      ]
     },
     "execution_count": 114,
     "metadata": {},
     "output_type": "execute_result"
    }
   ],
   "source": [
    "# get the sum of the coefficients of the following terms\n",
    "H1H1 = Operator(\"c\", \"H\", \"psi\") * Operator(\"c\", \"H\", \"psi\")\n",
    "H2H2 = Operator(\"d\", \"H\", \"psi\") * Operator(\"d\", \"H\", \"psi\")\n",
    "\n",
    "V1V1 = Operator(\"c\", \"V\", \"psi\") * Operator(\"c\", \"V\", \"psi\")\n",
    "V2V2 = Operator(\"d\", \"V\", \"psi\") * Operator(\"d\", \"V\", \"psi\")\n",
    "\n",
    "H1V1 = Operator(\"c\", \"H\", \"psi\") * Operator(\"c\", \"V\", \"psi\")\n",
    "H2V2 = Operator(\"d\", \"H\", \"psi\") * Operator(\"d\", \"V\", \"psi\")\n",
    "\n",
    "H1H2 = Operator(\"c\", \"H\", \"psi\") * Operator(\"d\", \"H\", \"psi\")\n",
    "H2H1 = Operator(\"d\", \"H\", \"psi\") * Operator(\"c\", \"H\", \"psi\")\n",
    "\n",
    "V1V2 = Operator(\"c\", \"V\", \"psi\") * Operator(\"d\", \"V\", \"psi\")\n",
    "V2V1 = Operator(\"d\", \"V\", \"psi\") * Operator(\"c\", \"V\", \"psi\")\n",
    "\n",
    "H1V2 = Operator(\"c\", \"H\", \"psi\") * Operator(\"d\", \"V\", \"psi\")\n",
    "V2H1 = Operator(\"d\", \"V\", \"psi\") * Operator(\"c\", \"H\", \"psi\")\n",
    "\n",
    "V1H2 = Operator(\"c\", \"V\", \"psi\") * Operator(\"d\", \"H\", \"psi\")\n",
    "H2V1 = Operator(\"d\", \"H\", \"psi\") * Operator(\"c\", \"V\", \"psi\")\n",
    "\n",
    "H1H1"
   ]
  },
  {
   "cell_type": "markdown",
   "id": "c94d79ac",
   "metadata": {},
   "source": [
    "# With eta = 1\n",
    "Should recover the original probabilities"
   ]
  },
  {
   "cell_type": "code",
   "execution_count": 98,
   "id": "765175f4",
   "metadata": {},
   "outputs": [
    {
     "data": {
      "text/latex": [
       "$\\displaystyle - \\frac{e^{i \\phi_{1}} e^{i \\phi_{2}} \\sin^{2}{\\left(\\frac{\\theta}{2} \\right)} Operator\\left(c,V,\\psi\\right) Operator\\left(d,V,\\psi\\right)}{2} + \\frac{e^{i \\phi_{1}} e^{i \\phi_{2}} \\sin^{2}{\\left(\\frac{\\theta}{2} \\right)} Operator\\left(c,V,\\psi\\right)^{2}}{2} + \\frac{e^{i \\phi_{1}} e^{i \\phi_{2}} \\sin^{2}{\\left(\\frac{\\theta}{2} \\right)} Operator\\left(d,V,\\psi\\right) Operator\\left(c,V,\\psi\\right)}{2} - \\frac{e^{i \\phi_{1}} e^{i \\phi_{2}} \\sin^{2}{\\left(\\frac{\\theta}{2} \\right)} Operator\\left(d,V,\\psi\\right)^{2}}{2} + \\frac{e^{i \\phi_{1}} \\sin{\\left(\\theta \\right)} Operator\\left(c,V,\\psi\\right) Operator\\left(c,H,\\psi\\right)}{4} - \\frac{e^{i \\phi_{1}} \\sin{\\left(\\theta \\right)} Operator\\left(c,V,\\psi\\right) Operator\\left(d,H,\\psi\\right)}{4} + \\frac{e^{i \\phi_{1}} \\sin{\\left(\\theta \\right)} Operator\\left(d,V,\\psi\\right) Operator\\left(c,H,\\psi\\right)}{4} - \\frac{e^{i \\phi_{1}} \\sin{\\left(\\theta \\right)} Operator\\left(d,V,\\psi\\right) Operator\\left(d,H,\\psi\\right)}{4} + \\frac{e^{i \\phi_{2}} \\sin{\\left(\\theta \\right)} Operator\\left(c,H,\\psi\\right) Operator\\left(c,V,\\psi\\right)}{4} - \\frac{e^{i \\phi_{2}} \\sin{\\left(\\theta \\right)} Operator\\left(c,H,\\psi\\right) Operator\\left(d,V,\\psi\\right)}{4} + \\frac{e^{i \\phi_{2}} \\sin{\\left(\\theta \\right)} Operator\\left(d,H,\\psi\\right) Operator\\left(c,V,\\psi\\right)}{4} - \\frac{e^{i \\phi_{2}} \\sin{\\left(\\theta \\right)} Operator\\left(d,H,\\psi\\right) Operator\\left(d,V,\\psi\\right)}{4} - \\frac{\\cos^{2}{\\left(\\frac{\\theta}{2} \\right)} Operator\\left(c,H,\\psi\\right) Operator\\left(d,H,\\psi\\right)}{2} + \\frac{\\cos^{2}{\\left(\\frac{\\theta}{2} \\right)} Operator\\left(c,H,\\psi\\right)^{2}}{2} + \\frac{\\cos^{2}{\\left(\\frac{\\theta}{2} \\right)} Operator\\left(d,H,\\psi\\right) Operator\\left(c,H,\\psi\\right)}{2} - \\frac{\\cos^{2}{\\left(\\frac{\\theta}{2} \\right)} Operator\\left(d,H,\\psi\\right)^{2}}{2}$"
      ],
      "text/plain": [
       "-exp(I*phi_1)*exp(I*phi_2)*sin(theta/2)**2*Operator(c,V,psi)*Operator(d,V,psi)/2 + exp(I*phi_1)*exp(I*phi_2)*sin(theta/2)**2*Operator(c,V,psi)**2/2 + exp(I*phi_1)*exp(I*phi_2)*sin(theta/2)**2*Operator(d,V,psi)*Operator(c,V,psi)/2 - exp(I*phi_1)*exp(I*phi_2)*sin(theta/2)**2*Operator(d,V,psi)**2/2 + exp(I*phi_1)*sin(theta)*Operator(c,V,psi)*Operator(c,H,psi)/4 - exp(I*phi_1)*sin(theta)*Operator(c,V,psi)*Operator(d,H,psi)/4 + exp(I*phi_1)*sin(theta)*Operator(d,V,psi)*Operator(c,H,psi)/4 - exp(I*phi_1)*sin(theta)*Operator(d,V,psi)*Operator(d,H,psi)/4 + exp(I*phi_2)*sin(theta)*Operator(c,H,psi)*Operator(c,V,psi)/4 - exp(I*phi_2)*sin(theta)*Operator(c,H,psi)*Operator(d,V,psi)/4 + exp(I*phi_2)*sin(theta)*Operator(d,H,psi)*Operator(c,V,psi)/4 - exp(I*phi_2)*sin(theta)*Operator(d,H,psi)*Operator(d,V,psi)/4 - cos(theta/2)**2*Operator(c,H,psi)*Operator(d,H,psi)/2 + cos(theta/2)**2*Operator(c,H,psi)**2/2 + cos(theta/2)**2*Operator(d,H,psi)*Operator(c,H,psi)/2 - cos(theta/2)**2*Operator(d,H,psi)**2/2"
      ]
     },
     "execution_count": 98,
     "metadata": {},
     "output_type": "execute_result"
    }
   ],
   "source": [
    "# try for eta = 1\n",
    "bs_out_eta_1 = bs_out_partial_traced.subs(eta, 1)\n",
    "bs_out_eta_1 = sp.simplify(bs_out_eta_1)\n",
    "bs_out_eta_1 = sp.expand(bs_out_eta_1, trig=True)\n",
    "bs_out_eta_1"
   ]
  },
  {
   "cell_type": "code",
   "execution_count": 119,
   "id": "b88d1cac",
   "metadata": {},
   "outputs": [
    {
     "data": {
      "text/latex": [
       "$\\displaystyle \\frac{\\cos^{4}{\\left(\\frac{\\theta}{2} \\right)}}{4}$"
      ],
      "text/plain": [
       "cos(theta/2)**4/4"
      ]
     },
     "execution_count": 119,
     "metadata": {},
     "output_type": "execute_result"
    }
   ],
   "source": [
    "coeff_H1H1 = sp.expand(bs_out_eta_1.coeff(H1H1) **2, trig=True)\n",
    "\n",
    "sp.expand(coeff_H1H1, trig=True)\n",
    "coeff_H1H1"
   ]
  },
  {
   "cell_type": "code",
   "execution_count": 116,
   "id": "71bbba27",
   "metadata": {},
   "outputs": [
    {
     "data": {
      "text/latex": [
       "$\\displaystyle 0$"
      ],
      "text/plain": [
       "0"
      ]
     },
     "execution_count": 116,
     "metadata": {},
     "output_type": "execute_result"
    }
   ],
   "source": [
    "coeff_V1V2 = bs_out_eta_1.coeff(V1V2) + bs_out_eta_1.coeff(V2V1)\n",
    "p_V1V2 = sp.expand(coeff_V1V2 * coeff_V1V2.adjoint(), trig=True)\n",
    "\n",
    "p_V1V2"
   ]
  },
  {
   "cell_type": "code",
   "execution_count": null,
   "id": "d33db751",
   "metadata": {},
   "outputs": [],
   "source": [
    "p_V1V1 = sp.expand(bs_out_eta_1.coeff(V1V1) ** 2, trig=True)"
   ]
  }
 ],
 "metadata": {
  "kernelspec": {
   "display_name": ".venv",
   "language": "python",
   "name": "python3"
  },
  "language_info": {
   "codemirror_mode": {
    "name": "ipython",
    "version": 3
   },
   "file_extension": ".py",
   "mimetype": "text/x-python",
   "name": "python",
   "nbconvert_exporter": "python",
   "pygments_lexer": "ipython3",
   "version": "3.13.2"
  }
 },
 "nbformat": 4,
 "nbformat_minor": 5
}
