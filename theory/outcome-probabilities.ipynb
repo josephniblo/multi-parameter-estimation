{
 "cells": [
  {
   "cell_type": "code",
   "execution_count": 2,
   "metadata": {},
   "outputs": [],
   "source": [
    "import sympy as sp\n",
    "import numpy as np"
   ]
  },
  {
   "cell_type": "code",
   "execution_count": 3,
   "metadata": {},
   "outputs": [],
   "source": [
    "# Choose a basis as:\n",
    "# H1 = [1, 0, 0, 0]\n",
    "# V1 = [0, 1, 0, 0]\n",
    "# H2 = [0, 0, 1, 0]\n",
    "# V2 = [0, 0, 0, 1]"
   ]
  },
  {
   "cell_type": "code",
   "execution_count": 4,
   "metadata": {},
   "outputs": [
    {
     "data": {
      "text/latex": [
       "$\\displaystyle Operator\\left(H,1\\right)^{\\dagger}$"
      ],
      "text/plain": [
       "Dagger(Operator(H,1))"
      ]
     },
     "execution_count": 4,
     "metadata": {},
     "output_type": "execute_result"
    }
   ],
   "source": [
    "# import quantum operators from sympy\n",
    "from sympy.physics.quantum import TensorProduct, Dagger, Operator\n",
    "\n",
    "# a_dag = Operator('H', 1)\n",
    "a = Operator('H', 1)\n",
    "a_dag = Dagger(a)\n",
    "a_dag"
   ]
  },
  {
   "cell_type": "code",
   "execution_count": 5,
   "metadata": {},
   "outputs": [],
   "source": [
    "a_h_1 = Operator('H', 1)\n",
    "a_v_1 = Operator('V', 1)\n",
    "a_h_2 = Operator('H', 2)\n",
    "a_v_2 = Operator('V', 2)\n",
    "\n",
    "a_dag_h_1 = Dagger(a_h_1)\n",
    "a_dag_v_1 = Dagger(a_v_1)\n",
    "a_dag_h_2 = Dagger(a_h_2)\n",
    "a_dag_v_2 = Dagger(a_v_2)"
   ]
  },
  {
   "cell_type": "code",
   "execution_count": 6,
   "metadata": {},
   "outputs": [],
   "source": [
    "rules = {\n",
    "    (a_dag_h_1 * a_h_1 - a_h_1 * a_dag_h_1): 1,\n",
    "    (a_dag_v_1 * a_v_1 - a_v_1 * a_dag_v_1): 1,\n",
    "    (a_dag_h_2 * a_h_2 - a_h_2 * a_dag_h_2): 1,\n",
    "    (a_dag_v_2 * a_v_2 - a_v_2 * a_dag_v_2): 1,\n",
    "    \n",
    "    (a_dag_h_1 * a_v_1 - a_v_1 * a_dag_h_1): 0,\n",
    "    (a_dag_v_1 * a_h_1 - a_h_1 * a_dag_v_1): 0,\n",
    "    (a_dag_h_2 * a_v_2 - a_v_2 * a_dag_h_2): 0,\n",
    "    (a_dag_v_2 * a_h_2 - a_h_2 * a_dag_v_2): 0,\n",
    "    (a_dag_h_1 * a_h_2 - a_h_2 * a_dag_h_1): 0,\n",
    "    (a_dag_v_1 * a_v_2 - a_v_2 * a_dag_v_1): 0,\n",
    "    (a_dag_h_2 * a_h_1 - a_h_1 * a_dag_h_2): 0,\n",
    "    (a_dag_v_2 * a_v_1 - a_v_1 * a_dag_v_2): 0,\n",
    "    (a_dag_h_1 * a_dag_h_2 - a_dag_h_2 * a_dag_h_1): 0,\n",
    "    (a_dag_v_1 * a_dag_v_2 - a_dag_v_2 * a_dag_v_1): 0,\n",
    "    (a_dag_h_2 * a_dag_h_1 - a_dag_h_1 * a_dag_h_2): 0,\n",
    "    (a_dag_v_2 * a_dag_v_1 - a_dag_v_1 * a_dag_v_2): 0,\n",
    "    (a_dag_h_1 * a_dag_v_1 - a_dag_v_1 * a_dag_h_1): 0,\n",
    "    (a_dag_v_1 * a_dag_h_1 - a_dag_h_1 * a_dag_v_1): 0,\n",
    "    (a_dag_h_2 * a_dag_v_2 - a_dag_v_2 * a_dag_h_2): 0,\n",
    "    (a_dag_v_2 * a_dag_h_2 - a_dag_h_2 * a_dag_v_2): 0,\n",
    "}"
   ]
  },
  {
   "cell_type": "code",
   "execution_count": 7,
   "metadata": {},
   "outputs": [],
   "source": [
    "theta = sp.symbols('theta', real=True)\n",
    "phi_1 = sp.symbols('phi_1', real=True, )\n",
    "phi_2 = sp.symbols('phi_2', real=True)"
   ]
  },
  {
   "cell_type": "code",
   "execution_count": 8,
   "metadata": {},
   "outputs": [
    {
     "data": {
      "text/latex": [
       "$\\displaystyle e^{i \\phi_{1}} \\sin{\\left(\\frac{\\theta}{2} \\right)} Operator\\left(V,1\\right)^{\\dagger} + \\cos{\\left(\\frac{\\theta}{2} \\right)} Operator\\left(H,1\\right)^{\\dagger}$"
      ],
      "text/plain": [
       "exp(I*phi_1)*sin(theta/2)*Dagger(Operator(V,1)) + cos(theta/2)*Dagger(Operator(H,1))"
      ]
     },
     "execution_count": 8,
     "metadata": {},
     "output_type": "execute_result"
    }
   ],
   "source": [
    "alpha_1 = (\n",
    "    sp.cos(theta / 2) * Dagger(Operator('H', 1)) + \n",
    "    sp.sin(theta / 2) * sp.exp(sp.I * phi_1) * Dagger(Operator('V', 1))\n",
    ")\n",
    "alpha_2 = (\n",
    "    sp.cos(theta / 2) * Dagger(Operator('H', 2)) + \n",
    "    sp.sin(theta / 2) * sp.exp(sp.I * phi_2) * Dagger(Operator('V', 2))\n",
    ")\n",
    "\n",
    "alpha_1"
   ]
  },
  {
   "cell_type": "code",
   "execution_count": 9,
   "metadata": {},
   "outputs": [
    {
     "data": {
      "text/latex": [
       "$\\displaystyle 1$"
      ],
      "text/plain": [
       "1"
      ]
     },
     "execution_count": 9,
     "metadata": {},
     "output_type": "execute_result"
    }
   ],
   "source": [
    "(a_dag_h_1 * a_h_1 - a_h_1 * a_dag_h_1).subs(rules).simplify()"
   ]
  },
  {
   "cell_type": "code",
   "execution_count": 10,
   "metadata": {},
   "outputs": [
    {
     "data": {
      "text/latex": [
       "$\\displaystyle e^{i \\phi_{1}} e^{i \\phi_{2}} \\sin^{2}{\\left(\\frac{\\theta}{2} \\right)} Operator\\left(V,1\\right)^{\\dagger} Operator\\left(V,2\\right)^{\\dagger} + e^{i \\phi_{1}} \\sin{\\left(\\frac{\\theta}{2} \\right)} \\cos{\\left(\\frac{\\theta}{2} \\right)} Operator\\left(V,1\\right)^{\\dagger} Operator\\left(H,2\\right)^{\\dagger} + e^{i \\phi_{2}} \\sin{\\left(\\frac{\\theta}{2} \\right)} \\cos{\\left(\\frac{\\theta}{2} \\right)} Operator\\left(H,1\\right)^{\\dagger} Operator\\left(V,2\\right)^{\\dagger} + \\cos^{2}{\\left(\\frac{\\theta}{2} \\right)} Operator\\left(H,1\\right)^{\\dagger} Operator\\left(H,2\\right)^{\\dagger}$"
      ],
      "text/plain": [
       "exp(I*phi_1)*exp(I*phi_2)*sin(theta/2)**2*Dagger(Operator(V,1))*Dagger(Operator(V,2)) + exp(I*phi_1)*sin(theta/2)*cos(theta/2)*Dagger(Operator(V,1))*Dagger(Operator(H,2)) + exp(I*phi_2)*sin(theta/2)*cos(theta/2)*Dagger(Operator(H,1))*Dagger(Operator(V,2)) + cos(theta/2)**2*Dagger(Operator(H,1))*Dagger(Operator(H,2))"
      ]
     },
     "execution_count": 10,
     "metadata": {},
     "output_type": "execute_result"
    }
   ],
   "source": [
    "psi = (alpha_1 * alpha_2)\n",
    "psi = psi.subs(rules)\n",
    "psi = psi.simplify()\n",
    "psi = psi.expand()\n",
    "psi"
   ]
  },
  {
   "cell_type": "code",
   "execution_count": 11,
   "metadata": {},
   "outputs": [
    {
     "data": {
      "text/latex": [
       "$\\displaystyle 1$"
      ],
      "text/plain": [
       "1"
      ]
     },
     "execution_count": 11,
     "metadata": {},
     "output_type": "execute_result"
    }
   ],
   "source": [
    "# check psi state is normalized\n",
    "\n",
    "# get all the coefficients of pairs of operators\n",
    "coeffs = {\n",
    "    (a_dag_h_1, a_dag_h_1): psi.coeff(a_dag_h_1 * a_dag_h_1),\n",
    "    (a_dag_h_2, a_dag_h_2): psi.coeff(a_dag_h_2 * a_dag_h_2),\n",
    "    (a_dag_v_1, a_dag_v_1): psi.coeff(a_dag_v_1 * a_dag_v_1),\n",
    "    (a_dag_v_2, a_dag_v_2): psi.coeff(a_dag_v_2 * a_dag_v_2),\n",
    "    (a_dag_h_1, a_dag_v_1): psi.coeff(a_dag_h_1 * a_dag_v_1) + psi.coeff(a_dag_v_1 * a_dag_h_1),\n",
    "    (a_dag_h_2, a_dag_v_2): psi.coeff(a_dag_h_2 * a_dag_v_2) + psi.coeff(a_dag_v_2 * a_dag_h_2),\n",
    "    (a_dag_h_1, a_dag_h_2): psi.coeff(a_dag_h_1 * a_dag_h_2) + psi.coeff(a_dag_h_2 * a_dag_h_1),\n",
    "    (a_dag_v_1, a_dag_v_2): psi.coeff(a_dag_v_1 * a_dag_v_2) + psi.coeff(a_dag_v_2 * a_dag_v_1),\n",
    "    (a_dag_h_1, a_dag_v_2): psi.coeff(a_dag_h_1 * a_dag_v_2) + psi.coeff(a_dag_v_2 * a_dag_h_1),\n",
    "    (a_dag_v_1, a_dag_h_2): psi.coeff(a_dag_v_1 * a_dag_h_2) + psi.coeff(a_dag_h_2 * a_dag_v_1)\n",
    "}\n",
    "\n",
    "# calculate the norm of the state\n",
    "norm = sum(coeffs[key] * sp.conjugate(coeffs[key]) for key in coeffs)\n",
    "# simplify the norm\n",
    "norm = norm.simplify()\n",
    "sp.trigsimp(norm)"
   ]
  },
  {
   "cell_type": "code",
   "execution_count": 12,
   "metadata": {},
   "outputs": [],
   "source": [
    "def beamsplitter_transform(expr):\n",
    "    # Define dummy symbols for substitution to avoid self-reference\n",
    "    a1h, a2h = sp.symbols('a1h a2h', commutative=False)\n",
    "    a1v, a2v = sp.symbols('a1v a2v', commutative=False)\n",
    "\n",
    "    # Substitute original operators with dummies\n",
    "    expr = expr.subs({\n",
    "        a_dag_h_1: a1h,\n",
    "        a_dag_h_2: a2h,\n",
    "        a_dag_v_1: a1v,\n",
    "        a_dag_v_2: a2v,\n",
    "    })\n",
    "\n",
    "    # Apply beam splitter transformation\n",
    "    expr = expr.subs({\n",
    "        a1h: 1/sp.sqrt(2) * (a_dag_h_1 + a_dag_h_2),\n",
    "        a2h: 1/sp.sqrt(2) * (-a_dag_h_1 + a_dag_h_2),\n",
    "        a1v: 1/sp.sqrt(2) * (a_dag_v_1 + a_dag_v_2),\n",
    "        a2v: 1/sp.sqrt(2) * (-a_dag_v_1 + a_dag_v_2),\n",
    "    })\n",
    "\n",
    "    # Aply the rules for commutation relations\n",
    "    expr = expr.subs(rules)\n",
    "\n",
    "    return sp.simplify(expr)"
   ]
  },
  {
   "cell_type": "code",
   "execution_count": 13,
   "metadata": {},
   "outputs": [
    {
     "data": {
      "text/latex": [
       "$\\displaystyle \\frac{e^{i \\phi_{1}} e^{i \\phi_{2}} \\sin^{2}{\\left(\\frac{\\theta}{2} \\right)} Operator\\left(V,1\\right)^{\\dagger} Operator\\left(V,2\\right)^{\\dagger}}{2} - \\frac{e^{i \\phi_{1}} e^{i \\phi_{2}} \\sin^{2}{\\left(\\frac{\\theta}{2} \\right)} \\left(Operator\\left(V,1\\right)^{\\dagger}\\right)^{2}}{2} - \\frac{e^{i \\phi_{1}} e^{i \\phi_{2}} \\sin^{2}{\\left(\\frac{\\theta}{2} \\right)} Operator\\left(V,2\\right)^{\\dagger} Operator\\left(V,1\\right)^{\\dagger}}{2} + \\frac{e^{i \\phi_{1}} e^{i \\phi_{2}} \\sin^{2}{\\left(\\frac{\\theta}{2} \\right)} \\left(Operator\\left(V,2\\right)^{\\dagger}\\right)^{2}}{2} - \\frac{e^{i \\phi_{1}} \\sin{\\left(\\theta \\right)} Operator\\left(V,1\\right)^{\\dagger} Operator\\left(H,1\\right)^{\\dagger}}{4} + \\frac{e^{i \\phi_{1}} \\sin{\\left(\\theta \\right)} Operator\\left(V,1\\right)^{\\dagger} Operator\\left(H,2\\right)^{\\dagger}}{4} - \\frac{e^{i \\phi_{1}} \\sin{\\left(\\theta \\right)} Operator\\left(V,2\\right)^{\\dagger} Operator\\left(H,1\\right)^{\\dagger}}{4} + \\frac{e^{i \\phi_{1}} \\sin{\\left(\\theta \\right)} Operator\\left(V,2\\right)^{\\dagger} Operator\\left(H,2\\right)^{\\dagger}}{4} - \\frac{e^{i \\phi_{2}} \\sin{\\left(\\theta \\right)} Operator\\left(H,1\\right)^{\\dagger} Operator\\left(V,1\\right)^{\\dagger}}{4} + \\frac{e^{i \\phi_{2}} \\sin{\\left(\\theta \\right)} Operator\\left(H,1\\right)^{\\dagger} Operator\\left(V,2\\right)^{\\dagger}}{4} - \\frac{e^{i \\phi_{2}} \\sin{\\left(\\theta \\right)} Operator\\left(H,2\\right)^{\\dagger} Operator\\left(V,1\\right)^{\\dagger}}{4} + \\frac{e^{i \\phi_{2}} \\sin{\\left(\\theta \\right)} Operator\\left(H,2\\right)^{\\dagger} Operator\\left(V,2\\right)^{\\dagger}}{4} + \\frac{\\cos^{2}{\\left(\\frac{\\theta}{2} \\right)} Operator\\left(H,1\\right)^{\\dagger} Operator\\left(H,2\\right)^{\\dagger}}{2} - \\frac{\\cos^{2}{\\left(\\frac{\\theta}{2} \\right)} \\left(Operator\\left(H,1\\right)^{\\dagger}\\right)^{2}}{2} - \\frac{\\cos^{2}{\\left(\\frac{\\theta}{2} \\right)} Operator\\left(H,2\\right)^{\\dagger} Operator\\left(H,1\\right)^{\\dagger}}{2} + \\frac{\\cos^{2}{\\left(\\frac{\\theta}{2} \\right)} \\left(Operator\\left(H,2\\right)^{\\dagger}\\right)^{2}}{2}$"
      ],
      "text/plain": [
       "exp(I*phi_1)*exp(I*phi_2)*sin(theta/2)**2*Dagger(Operator(V,1))*Dagger(Operator(V,2))/2 - exp(I*phi_1)*exp(I*phi_2)*sin(theta/2)**2*Dagger(Operator(V,1))**2/2 - exp(I*phi_1)*exp(I*phi_2)*sin(theta/2)**2*Dagger(Operator(V,2))*Dagger(Operator(V,1))/2 + exp(I*phi_1)*exp(I*phi_2)*sin(theta/2)**2*Dagger(Operator(V,2))**2/2 - exp(I*phi_1)*sin(theta)*Dagger(Operator(V,1))*Dagger(Operator(H,1))/4 + exp(I*phi_1)*sin(theta)*Dagger(Operator(V,1))*Dagger(Operator(H,2))/4 - exp(I*phi_1)*sin(theta)*Dagger(Operator(V,2))*Dagger(Operator(H,1))/4 + exp(I*phi_1)*sin(theta)*Dagger(Operator(V,2))*Dagger(Operator(H,2))/4 - exp(I*phi_2)*sin(theta)*Dagger(Operator(H,1))*Dagger(Operator(V,1))/4 + exp(I*phi_2)*sin(theta)*Dagger(Operator(H,1))*Dagger(Operator(V,2))/4 - exp(I*phi_2)*sin(theta)*Dagger(Operator(H,2))*Dagger(Operator(V,1))/4 + exp(I*phi_2)*sin(theta)*Dagger(Operator(H,2))*Dagger(Operator(V,2))/4 + cos(theta/2)**2*Dagger(Operator(H,1))*Dagger(Operator(H,2))/2 - cos(theta/2)**2*Dagger(Operator(H,1))**2/2 - cos(theta/2)**2*Dagger(Operator(H,2))*Dagger(Operator(H,1))/2 + cos(theta/2)**2*Dagger(Operator(H,2))**2/2"
      ]
     },
     "execution_count": 13,
     "metadata": {},
     "output_type": "execute_result"
    }
   ],
   "source": [
    "output_state = beamsplitter_transform(psi).expand().subs(rules).simplify().expand()\n",
    "output_state"
   ]
  },
  {
   "cell_type": "code",
   "execution_count": 31,
   "metadata": {},
   "outputs": [
    {
     "data": {
      "text/latex": [
       "$\\displaystyle \\frac{e^{- 2 i \\left(\\phi_{1} + \\phi_{2}\\right)} \\left(\\frac{\\left(1 - \\cos{\\left(2 \\theta \\right)}\\right) e^{i \\left(\\phi_{1} + \\phi_{2}\\right)} \\left(- Operator\\left(V,1\\right) Operator\\left(V,2\\right) Operator\\left(H,1\\right)^{\\dagger} Operator\\left(H,2\\right)^{\\dagger} + Operator\\left(V,1\\right) Operator\\left(V,2\\right) \\left(Operator\\left(H,1\\right)^{\\dagger}\\right)^{2} + Operator\\left(V,1\\right) Operator\\left(V,2\\right) Operator\\left(H,2\\right)^{\\dagger} Operator\\left(H,1\\right)^{\\dagger} - Operator\\left(V,1\\right) Operator\\left(V,2\\right) \\left(Operator\\left(H,2\\right)^{\\dagger}\\right)^{2} - Operator\\left(V,1\\right)^{2} Operator\\left(H,1\\right)^{\\dagger} Operator\\left(H,2\\right)^{\\dagger} + Operator\\left(V,1\\right)^{2} \\left(Operator\\left(H,1\\right)^{\\dagger}\\right)^{2} + Operator\\left(V,1\\right)^{2} Operator\\left(H,2\\right)^{\\dagger} Operator\\left(H,1\\right)^{\\dagger} - Operator\\left(V,1\\right)^{2} \\left(Operator\\left(H,2\\right)^{\\dagger}\\right)^{2} + Operator\\left(V,2\\right) Operator\\left(V,1\\right) Operator\\left(H,1\\right)^{\\dagger} Operator\\left(H,2\\right)^{\\dagger} - Operator\\left(V,2\\right) Operator\\left(V,1\\right) \\left(Operator\\left(H,1\\right)^{\\dagger}\\right)^{2} - Operator\\left(V,2\\right) Operator\\left(V,1\\right) Operator\\left(H,2\\right)^{\\dagger} Operator\\left(H,1\\right)^{\\dagger} + Operator\\left(V,2\\right) Operator\\left(V,1\\right) \\left(Operator\\left(H,2\\right)^{\\dagger}\\right)^{2} + Operator\\left(V,2\\right)^{2} Operator\\left(H,1\\right)^{\\dagger} Operator\\left(H,2\\right)^{\\dagger} - Operator\\left(V,2\\right)^{2} \\left(Operator\\left(H,1\\right)^{\\dagger}\\right)^{2} - Operator\\left(V,2\\right)^{2} Operator\\left(H,2\\right)^{\\dagger} Operator\\left(H,1\\right)^{\\dagger} + Operator\\left(V,2\\right)^{2} \\left(Operator\\left(H,2\\right)^{\\dagger}\\right)^{2}\\right)}{2} + e^{2 i \\left(\\phi_{1} + \\phi_{2}\\right)} \\left(- \\frac{\\left(1 - \\cos{\\left(2 \\theta \\right)}\\right) e^{i \\left(\\phi_{1} + \\phi_{2}\\right)} Operator\\left(H,1\\right) Operator\\left(H,2\\right) Operator\\left(V,1\\right)^{\\dagger} Operator\\left(V,2\\right)^{\\dagger}}{2} + \\frac{\\left(1 - \\cos{\\left(2 \\theta \\right)}\\right) e^{i \\left(\\phi_{1} + \\phi_{2}\\right)} Operator\\left(H,1\\right) Operator\\left(H,2\\right) \\left(Operator\\left(V,1\\right)^{\\dagger}\\right)^{2}}{2} + \\frac{\\left(1 - \\cos{\\left(2 \\theta \\right)}\\right) e^{i \\left(\\phi_{1} + \\phi_{2}\\right)} Operator\\left(H,1\\right) Operator\\left(H,2\\right) Operator\\left(V,2\\right)^{\\dagger} Operator\\left(V,1\\right)^{\\dagger}}{2} - \\frac{\\left(1 - \\cos{\\left(2 \\theta \\right)}\\right) e^{i \\left(\\phi_{1} + \\phi_{2}\\right)} Operator\\left(H,1\\right) Operator\\left(H,2\\right) \\left(Operator\\left(V,2\\right)^{\\dagger}\\right)^{2}}{2} - \\frac{\\left(1 - \\cos{\\left(2 \\theta \\right)}\\right) e^{i \\left(\\phi_{1} + \\phi_{2}\\right)} Operator\\left(H,1\\right)^{2} Operator\\left(V,1\\right)^{\\dagger} Operator\\left(V,2\\right)^{\\dagger}}{2} + \\frac{\\left(1 - \\cos{\\left(2 \\theta \\right)}\\right) e^{i \\left(\\phi_{1} + \\phi_{2}\\right)} Operator\\left(H,1\\right)^{2} \\left(Operator\\left(V,1\\right)^{\\dagger}\\right)^{2}}{2} + \\frac{\\left(1 - \\cos{\\left(2 \\theta \\right)}\\right) e^{i \\left(\\phi_{1} + \\phi_{2}\\right)} Operator\\left(H,1\\right)^{2} Operator\\left(V,2\\right)^{\\dagger} Operator\\left(V,1\\right)^{\\dagger}}{2} - \\frac{\\left(1 - \\cos{\\left(2 \\theta \\right)}\\right) e^{i \\left(\\phi_{1} + \\phi_{2}\\right)} Operator\\left(H,1\\right)^{2} \\left(Operator\\left(V,2\\right)^{\\dagger}\\right)^{2}}{2} + \\frac{\\left(1 - \\cos{\\left(2 \\theta \\right)}\\right) e^{i \\left(\\phi_{1} + \\phi_{2}\\right)} Operator\\left(H,2\\right) Operator\\left(H,1\\right) Operator\\left(V,1\\right)^{\\dagger} Operator\\left(V,2\\right)^{\\dagger}}{2} - \\frac{\\left(1 - \\cos{\\left(2 \\theta \\right)}\\right) e^{i \\left(\\phi_{1} + \\phi_{2}\\right)} Operator\\left(H,2\\right) Operator\\left(H,1\\right) \\left(Operator\\left(V,1\\right)^{\\dagger}\\right)^{2}}{2} - \\frac{\\left(1 - \\cos{\\left(2 \\theta \\right)}\\right) e^{i \\left(\\phi_{1} + \\phi_{2}\\right)} Operator\\left(H,2\\right) Operator\\left(H,1\\right) Operator\\left(V,2\\right)^{\\dagger} Operator\\left(V,1\\right)^{\\dagger}}{2} + \\frac{\\left(1 - \\cos{\\left(2 \\theta \\right)}\\right) e^{i \\left(\\phi_{1} + \\phi_{2}\\right)} Operator\\left(H,2\\right) Operator\\left(H,1\\right) \\left(Operator\\left(V,2\\right)^{\\dagger}\\right)^{2}}{2} + \\frac{\\left(1 - \\cos{\\left(2 \\theta \\right)}\\right) e^{i \\left(\\phi_{1} + \\phi_{2}\\right)} Operator\\left(H,2\\right)^{2} Operator\\left(V,1\\right)^{\\dagger} Operator\\left(V,2\\right)^{\\dagger}}{2} - \\frac{\\left(1 - \\cos{\\left(2 \\theta \\right)}\\right) e^{i \\left(\\phi_{1} + \\phi_{2}\\right)} Operator\\left(H,2\\right)^{2} \\left(Operator\\left(V,1\\right)^{\\dagger}\\right)^{2}}{2} - \\frac{\\left(1 - \\cos{\\left(2 \\theta \\right)}\\right) e^{i \\left(\\phi_{1} + \\phi_{2}\\right)} Operator\\left(H,2\\right)^{2} Operator\\left(V,2\\right)^{\\dagger} Operator\\left(V,1\\right)^{\\dagger}}{2} + \\frac{\\left(1 - \\cos{\\left(2 \\theta \\right)}\\right) e^{i \\left(\\phi_{1} + \\phi_{2}\\right)} Operator\\left(H,2\\right)^{2} \\left(Operator\\left(V,2\\right)^{\\dagger}\\right)^{2}}{2} - 2 e^{i \\phi_{1}} \\sin^{2}{\\left(\\frac{\\theta}{2} \\right)} \\sin{\\left(\\theta \\right)} Operator\\left(V,1\\right) Operator\\left(H,1\\right) Operator\\left(V,1\\right)^{\\dagger} Operator\\left(V,2\\right)^{\\dagger} + 2 e^{i \\phi_{1}} \\sin^{2}{\\left(\\frac{\\theta}{2} \\right)} \\sin{\\left(\\theta \\right)} Operator\\left(V,1\\right) Operator\\left(H,1\\right) \\left(Operator\\left(V,1\\right)^{\\dagger}\\right)^{2} + 2 e^{i \\phi_{1}} \\sin^{2}{\\left(\\frac{\\theta}{2} \\right)} \\sin{\\left(\\theta \\right)} Operator\\left(V,1\\right) Operator\\left(H,1\\right) Operator\\left(V,2\\right)^{\\dagger} Operator\\left(V,1\\right)^{\\dagger} - 2 e^{i \\phi_{1}} \\sin^{2}{\\left(\\frac{\\theta}{2} \\right)} \\sin{\\left(\\theta \\right)} Operator\\left(V,1\\right) Operator\\left(H,1\\right) \\left(Operator\\left(V,2\\right)^{\\dagger}\\right)^{2} - 2 e^{i \\phi_{1}} \\sin^{2}{\\left(\\frac{\\theta}{2} \\right)} \\sin{\\left(\\theta \\right)} Operator\\left(V,1\\right) Operator\\left(H,2\\right) Operator\\left(V,1\\right)^{\\dagger} Operator\\left(V,2\\right)^{\\dagger} + 2 e^{i \\phi_{1}} \\sin^{2}{\\left(\\frac{\\theta}{2} \\right)} \\sin{\\left(\\theta \\right)} Operator\\left(V,1\\right) Operator\\left(H,2\\right) \\left(Operator\\left(V,1\\right)^{\\dagger}\\right)^{2} + 2 e^{i \\phi_{1}} \\sin^{2}{\\left(\\frac{\\theta}{2} \\right)} \\sin{\\left(\\theta \\right)} Operator\\left(V,1\\right) Operator\\left(H,2\\right) Operator\\left(V,2\\right)^{\\dagger} Operator\\left(V,1\\right)^{\\dagger} - 2 e^{i \\phi_{1}} \\sin^{2}{\\left(\\frac{\\theta}{2} \\right)} \\sin{\\left(\\theta \\right)} Operator\\left(V,1\\right) Operator\\left(H,2\\right) \\left(Operator\\left(V,2\\right)^{\\dagger}\\right)^{2} + 2 e^{i \\phi_{1}} \\sin^{2}{\\left(\\frac{\\theta}{2} \\right)} \\sin{\\left(\\theta \\right)} Operator\\left(V,2\\right) Operator\\left(H,1\\right) Operator\\left(V,1\\right)^{\\dagger} Operator\\left(V,2\\right)^{\\dagger} - 2 e^{i \\phi_{1}} \\sin^{2}{\\left(\\frac{\\theta}{2} \\right)} \\sin{\\left(\\theta \\right)} Operator\\left(V,2\\right) Operator\\left(H,1\\right) \\left(Operator\\left(V,1\\right)^{\\dagger}\\right)^{2} - 2 e^{i \\phi_{1}} \\sin^{2}{\\left(\\frac{\\theta}{2} \\right)} \\sin{\\left(\\theta \\right)} Operator\\left(V,2\\right) Operator\\left(H,1\\right) Operator\\left(V,2\\right)^{\\dagger} Operator\\left(V,1\\right)^{\\dagger} + 2 e^{i \\phi_{1}} \\sin^{2}{\\left(\\frac{\\theta}{2} \\right)} \\sin{\\left(\\theta \\right)} Operator\\left(V,2\\right) Operator\\left(H,1\\right) \\left(Operator\\left(V,2\\right)^{\\dagger}\\right)^{2} + 2 e^{i \\phi_{1}} \\sin^{2}{\\left(\\frac{\\theta}{2} \\right)} \\sin{\\left(\\theta \\right)} Operator\\left(V,2\\right) Operator\\left(H,2\\right) Operator\\left(V,1\\right)^{\\dagger} Operator\\left(V,2\\right)^{\\dagger} - 2 e^{i \\phi_{1}} \\sin^{2}{\\left(\\frac{\\theta}{2} \\right)} \\sin{\\left(\\theta \\right)} Operator\\left(V,2\\right) Operator\\left(H,2\\right) \\left(Operator\\left(V,1\\right)^{\\dagger}\\right)^{2} - 2 e^{i \\phi_{1}} \\sin^{2}{\\left(\\frac{\\theta}{2} \\right)} \\sin{\\left(\\theta \\right)} Operator\\left(V,2\\right) Operator\\left(H,2\\right) Operator\\left(V,2\\right)^{\\dagger} Operator\\left(V,1\\right)^{\\dagger} + 2 e^{i \\phi_{1}} \\sin^{2}{\\left(\\frac{\\theta}{2} \\right)} \\sin{\\left(\\theta \\right)} Operator\\left(V,2\\right) Operator\\left(H,2\\right) \\left(Operator\\left(V,2\\right)^{\\dagger}\\right)^{2} + 2 e^{i \\phi_{1}} \\sin{\\left(\\theta \\right)} \\cos^{2}{\\left(\\frac{\\theta}{2} \\right)} Operator\\left(H,1\\right) Operator\\left(H,2\\right) Operator\\left(V,1\\right)^{\\dagger} Operator\\left(H,1\\right)^{\\dagger} - 2 e^{i \\phi_{1}} \\sin{\\left(\\theta \\right)} \\cos^{2}{\\left(\\frac{\\theta}{2} \\right)} Operator\\left(H,1\\right) Operator\\left(H,2\\right) Operator\\left(V,1\\right)^{\\dagger} Operator\\left(H,2\\right)^{\\dagger} + 2 e^{i \\phi_{1}} \\sin{\\left(\\theta \\right)} \\cos^{2}{\\left(\\frac{\\theta}{2} \\right)} Operator\\left(H,1\\right) Operator\\left(H,2\\right) Operator\\left(V,2\\right)^{\\dagger} Operator\\left(H,1\\right)^{\\dagger} - 2 e^{i \\phi_{1}} \\sin{\\left(\\theta \\right)} \\cos^{2}{\\left(\\frac{\\theta}{2} \\right)} Operator\\left(H,1\\right) Operator\\left(H,2\\right) Operator\\left(V,2\\right)^{\\dagger} Operator\\left(H,2\\right)^{\\dagger} + 2 e^{i \\phi_{1}} \\sin{\\left(\\theta \\right)} \\cos^{2}{\\left(\\frac{\\theta}{2} \\right)} Operator\\left(H,1\\right)^{2} Operator\\left(V,1\\right)^{\\dagger} Operator\\left(H,1\\right)^{\\dagger} - 2 e^{i \\phi_{1}} \\sin{\\left(\\theta \\right)} \\cos^{2}{\\left(\\frac{\\theta}{2} \\right)} Operator\\left(H,1\\right)^{2} Operator\\left(V,1\\right)^{\\dagger} Operator\\left(H,2\\right)^{\\dagger} + 2 e^{i \\phi_{1}} \\sin{\\left(\\theta \\right)} \\cos^{2}{\\left(\\frac{\\theta}{2} \\right)} Operator\\left(H,1\\right)^{2} Operator\\left(V,2\\right)^{\\dagger} Operator\\left(H,1\\right)^{\\dagger} - 2 e^{i \\phi_{1}} \\sin{\\left(\\theta \\right)} \\cos^{2}{\\left(\\frac{\\theta}{2} \\right)} Operator\\left(H,1\\right)^{2} Operator\\left(V,2\\right)^{\\dagger} Operator\\left(H,2\\right)^{\\dagger} - 2 e^{i \\phi_{1}} \\sin{\\left(\\theta \\right)} \\cos^{2}{\\left(\\frac{\\theta}{2} \\right)} Operator\\left(H,2\\right) Operator\\left(H,1\\right) Operator\\left(V,1\\right)^{\\dagger} Operator\\left(H,1\\right)^{\\dagger} + 2 e^{i \\phi_{1}} \\sin{\\left(\\theta \\right)} \\cos^{2}{\\left(\\frac{\\theta}{2} \\right)} Operator\\left(H,2\\right) Operator\\left(H,1\\right) Operator\\left(V,1\\right)^{\\dagger} Operator\\left(H,2\\right)^{\\dagger} - 2 e^{i \\phi_{1}} \\sin{\\left(\\theta \\right)} \\cos^{2}{\\left(\\frac{\\theta}{2} \\right)} Operator\\left(H,2\\right) Operator\\left(H,1\\right) Operator\\left(V,2\\right)^{\\dagger} Operator\\left(H,1\\right)^{\\dagger} + 2 e^{i \\phi_{1}} \\sin{\\left(\\theta \\right)} \\cos^{2}{\\left(\\frac{\\theta}{2} \\right)} Operator\\left(H,2\\right) Operator\\left(H,1\\right) Operator\\left(V,2\\right)^{\\dagger} Operator\\left(H,2\\right)^{\\dagger} - 2 e^{i \\phi_{1}} \\sin{\\left(\\theta \\right)} \\cos^{2}{\\left(\\frac{\\theta}{2} \\right)} Operator\\left(H,2\\right)^{2} Operator\\left(V,1\\right)^{\\dagger} Operator\\left(H,1\\right)^{\\dagger} + 2 e^{i \\phi_{1}} \\sin{\\left(\\theta \\right)} \\cos^{2}{\\left(\\frac{\\theta}{2} \\right)} Operator\\left(H,2\\right)^{2} Operator\\left(V,1\\right)^{\\dagger} Operator\\left(H,2\\right)^{\\dagger} - 2 e^{i \\phi_{1}} \\sin{\\left(\\theta \\right)} \\cos^{2}{\\left(\\frac{\\theta}{2} \\right)} Operator\\left(H,2\\right)^{2} Operator\\left(V,2\\right)^{\\dagger} Operator\\left(H,1\\right)^{\\dagger} + 2 e^{i \\phi_{1}} \\sin{\\left(\\theta \\right)} \\cos^{2}{\\left(\\frac{\\theta}{2} \\right)} Operator\\left(H,2\\right)^{2} Operator\\left(V,2\\right)^{\\dagger} Operator\\left(H,2\\right)^{\\dagger} - 2 e^{i \\phi_{2}} \\sin^{2}{\\left(\\frac{\\theta}{2} \\right)} \\sin{\\left(\\theta \\right)} Operator\\left(H,1\\right) Operator\\left(V,1\\right) Operator\\left(V,1\\right)^{\\dagger} Operator\\left(V,2\\right)^{\\dagger} + 2 e^{i \\phi_{2}} \\sin^{2}{\\left(\\frac{\\theta}{2} \\right)} \\sin{\\left(\\theta \\right)} Operator\\left(H,1\\right) Operator\\left(V,1\\right) Operator\\left(V,2\\right)^{\\dagger} Operator\\left(V,1\\right)^{\\dagger} - 2 e^{i \\phi_{2}} \\sin^{2}{\\left(\\frac{\\theta}{2} \\right)} \\sin{\\left(\\theta \\right)} Operator\\left(H,1\\right) Operator\\left(V,1\\right) \\left(Operator\\left(V,2\\right)^{\\dagger}\\right)^{2} + 2 e^{i \\phi_{2}} \\sin^{2}{\\left(\\frac{\\theta}{2} \\right)} \\sin{\\left(\\theta \\right)} Operator\\left(H,1\\right) Operator\\left(V,1\\right)^{3} - 2 e^{i \\phi_{2}} \\sin^{2}{\\left(\\frac{\\theta}{2} \\right)} \\sin{\\left(\\theta \\right)} Operator\\left(H,1\\right) Operator\\left(V,2\\right) Operator\\left(V,1\\right)^{\\dagger} Operator\\left(V,2\\right)^{\\dagger} + 2 e^{i \\phi_{2}} \\sin^{2}{\\left(\\frac{\\theta}{2} \\right)} \\sin{\\left(\\theta \\right)} Operator\\left(H,1\\right) Operator\\left(V,2\\right) \\left(Operator\\left(V,1\\right)^{\\dagger}\\right)^{2} + 2 e^{i \\phi_{2}} \\sin^{2}{\\left(\\frac{\\theta}{2} \\right)} \\sin{\\left(\\theta \\right)} Operator\\left(H,1\\right) Operator\\left(V,2\\right) Operator\\left(V,2\\right)^{\\dagger} Operator\\left(V,1\\right)^{\\dagger} - 2 e^{i \\phi_{2}} \\sin^{2}{\\left(\\frac{\\theta}{2} \\right)} \\sin{\\left(\\theta \\right)} Operator\\left(H,1\\right) Operator\\left(V,2\\right)^{3} + 2 e^{i \\phi_{2}} \\sin^{2}{\\left(\\frac{\\theta}{2} \\right)} \\sin{\\left(\\theta \\right)} Operator\\left(H,2\\right) Operator\\left(V,1\\right) Operator\\left(V,1\\right)^{\\dagger} Operator\\left(V,2\\right)^{\\dagger} - 2 e^{i \\phi_{2}} \\sin^{2}{\\left(\\frac{\\theta}{2} \\right)} \\sin{\\left(\\theta \\right)} Operator\\left(H,2\\right) Operator\\left(V,1\\right) Operator\\left(V,2\\right)^{\\dagger} Operator\\left(V,1\\right)^{\\dagger} + 2 e^{i \\phi_{2}} \\sin^{2}{\\left(\\frac{\\theta}{2} \\right)} \\sin{\\left(\\theta \\right)} Operator\\left(H,2\\right) Operator\\left(V,1\\right) \\left(Operator\\left(V,2\\right)^{\\dagger}\\right)^{2} - 2 e^{i \\phi_{2}} \\sin^{2}{\\left(\\frac{\\theta}{2} \\right)} \\sin{\\left(\\theta \\right)} Operator\\left(H,2\\right) Operator\\left(V,1\\right)^{3} + 2 e^{i \\phi_{2}} \\sin^{2}{\\left(\\frac{\\theta}{2} \\right)} \\sin{\\left(\\theta \\right)} Operator\\left(H,2\\right) Operator\\left(V,2\\right) Operator\\left(V,1\\right)^{\\dagger} Operator\\left(V,2\\right)^{\\dagger} - 2 e^{i \\phi_{2}} \\sin^{2}{\\left(\\frac{\\theta}{2} \\right)} \\sin{\\left(\\theta \\right)} Operator\\left(H,2\\right) Operator\\left(V,2\\right) \\left(Operator\\left(V,1\\right)^{\\dagger}\\right)^{2} - 2 e^{i \\phi_{2}} \\sin^{2}{\\left(\\frac{\\theta}{2} \\right)} \\sin{\\left(\\theta \\right)} Operator\\left(H,2\\right) Operator\\left(V,2\\right) Operator\\left(V,2\\right)^{\\dagger} Operator\\left(V,1\\right)^{\\dagger} + 2 e^{i \\phi_{2}} \\sin^{2}{\\left(\\frac{\\theta}{2} \\right)} \\sin{\\left(\\theta \\right)} Operator\\left(H,2\\right) Operator\\left(V,2\\right)^{3} + 2 e^{i \\phi_{2}} \\sin{\\left(\\theta \\right)} \\cos^{2}{\\left(\\frac{\\theta}{2} \\right)} Operator\\left(H,1\\right) Operator\\left(H,2\\right) Operator\\left(H,1\\right)^{\\dagger} Operator\\left(V,1\\right)^{\\dagger} - 2 e^{i \\phi_{2}} \\sin{\\left(\\theta \\right)} \\cos^{2}{\\left(\\frac{\\theta}{2} \\right)} Operator\\left(H,1\\right) Operator\\left(H,2\\right) Operator\\left(H,1\\right)^{\\dagger} Operator\\left(V,2\\right)^{\\dagger} + 2 e^{i \\phi_{2}} \\sin{\\left(\\theta \\right)} \\cos^{2}{\\left(\\frac{\\theta}{2} \\right)} Operator\\left(H,1\\right) Operator\\left(H,2\\right) Operator\\left(H,2\\right)^{\\dagger} Operator\\left(V,1\\right)^{\\dagger} - 2 e^{i \\phi_{2}} \\sin{\\left(\\theta \\right)} \\cos^{2}{\\left(\\frac{\\theta}{2} \\right)} Operator\\left(H,1\\right) Operator\\left(H,2\\right) Operator\\left(H,2\\right)^{\\dagger} Operator\\left(V,2\\right)^{\\dagger} + 2 e^{i \\phi_{2}} \\sin{\\left(\\theta \\right)} \\cos^{2}{\\left(\\frac{\\theta}{2} \\right)} Operator\\left(H,1\\right)^{2} Operator\\left(H,1\\right)^{\\dagger} Operator\\left(V,1\\right)^{\\dagger} - 2 e^{i \\phi_{2}} \\sin{\\left(\\theta \\right)} \\cos^{2}{\\left(\\frac{\\theta}{2} \\right)} Operator\\left(H,1\\right)^{2} Operator\\left(H,1\\right)^{\\dagger} Operator\\left(V,2\\right)^{\\dagger} + 2 e^{i \\phi_{2}} \\sin{\\left(\\theta \\right)} \\cos^{2}{\\left(\\frac{\\theta}{2} \\right)} Operator\\left(H,1\\right)^{2} Operator\\left(H,2\\right)^{\\dagger} Operator\\left(V,1\\right)^{\\dagger} - 2 e^{i \\phi_{2}} \\sin{\\left(\\theta \\right)} \\cos^{2}{\\left(\\frac{\\theta}{2} \\right)} Operator\\left(H,1\\right)^{2} Operator\\left(H,2\\right)^{\\dagger} Operator\\left(V,2\\right)^{\\dagger} - 2 e^{i \\phi_{2}} \\sin{\\left(\\theta \\right)} \\cos^{2}{\\left(\\frac{\\theta}{2} \\right)} Operator\\left(H,2\\right) Operator\\left(H,1\\right) Operator\\left(H,1\\right)^{\\dagger} Operator\\left(V,1\\right)^{\\dagger} + 2 e^{i \\phi_{2}} \\sin{\\left(\\theta \\right)} \\cos^{2}{\\left(\\frac{\\theta}{2} \\right)} Operator\\left(H,2\\right) Operator\\left(H,1\\right) Operator\\left(H,1\\right)^{\\dagger} Operator\\left(V,2\\right)^{\\dagger} - 2 e^{i \\phi_{2}} \\sin{\\left(\\theta \\right)} \\cos^{2}{\\left(\\frac{\\theta}{2} \\right)} Operator\\left(H,2\\right) Operator\\left(H,1\\right) Operator\\left(H,2\\right)^{\\dagger} Operator\\left(V,1\\right)^{\\dagger} + 2 e^{i \\phi_{2}} \\sin{\\left(\\theta \\right)} \\cos^{2}{\\left(\\frac{\\theta}{2} \\right)} Operator\\left(H,2\\right) Operator\\left(H,1\\right) Operator\\left(H,2\\right)^{\\dagger} Operator\\left(V,2\\right)^{\\dagger} - 2 e^{i \\phi_{2}} \\sin{\\left(\\theta \\right)} \\cos^{2}{\\left(\\frac{\\theta}{2} \\right)} Operator\\left(H,2\\right)^{2} Operator\\left(H,1\\right)^{\\dagger} Operator\\left(V,1\\right)^{\\dagger} + 2 e^{i \\phi_{2}} \\sin{\\left(\\theta \\right)} \\cos^{2}{\\left(\\frac{\\theta}{2} \\right)} Operator\\left(H,2\\right)^{2} Operator\\left(H,1\\right)^{\\dagger} Operator\\left(V,2\\right)^{\\dagger} - 2 e^{i \\phi_{2}} \\sin{\\left(\\theta \\right)} \\cos^{2}{\\left(\\frac{\\theta}{2} \\right)} Operator\\left(H,2\\right)^{2} Operator\\left(H,2\\right)^{\\dagger} Operator\\left(V,1\\right)^{\\dagger} + 2 e^{i \\phi_{2}} \\sin{\\left(\\theta \\right)} \\cos^{2}{\\left(\\frac{\\theta}{2} \\right)} Operator\\left(H,2\\right)^{2} Operator\\left(H,2\\right)^{\\dagger} Operator\\left(V,2\\right)^{\\dagger} - 4 \\sin^{4}{\\left(\\frac{\\theta}{2} \\right)} Operator\\left(V,1\\right) Operator\\left(V,2\\right) Operator\\left(V,1\\right)^{\\dagger} Operator\\left(V,2\\right)^{\\dagger} + 4 \\sin^{4}{\\left(\\frac{\\theta}{2} \\right)} Operator\\left(V,1\\right) Operator\\left(V,2\\right) \\left(Operator\\left(V,1\\right)^{\\dagger}\\right)^{2} + 4 \\sin^{4}{\\left(\\frac{\\theta}{2} \\right)} Operator\\left(V,1\\right) Operator\\left(V,2\\right) Operator\\left(V,2\\right)^{\\dagger} Operator\\left(V,1\\right)^{\\dagger} - 4 \\sin^{4}{\\left(\\frac{\\theta}{2} \\right)} Operator\\left(V,1\\right) Operator\\left(V,2\\right)^{3} - 4 \\sin^{4}{\\left(\\frac{\\theta}{2} \\right)} Operator\\left(V,1\\right)^{2} Operator\\left(V,1\\right)^{\\dagger} Operator\\left(V,2\\right)^{\\dagger} + 4 \\sin^{4}{\\left(\\frac{\\theta}{2} \\right)} Operator\\left(V,1\\right)^{2} \\left(Operator\\left(V,1\\right)^{\\dagger}\\right)^{2} + 4 \\sin^{4}{\\left(\\frac{\\theta}{2} \\right)} Operator\\left(V,1\\right)^{2} Operator\\left(V,2\\right)^{\\dagger} Operator\\left(V,1\\right)^{\\dagger} - 4 \\sin^{4}{\\left(\\frac{\\theta}{2} \\right)} Operator\\left(V,1\\right)^{2} \\left(Operator\\left(V,2\\right)^{\\dagger}\\right)^{2} + 4 \\sin^{4}{\\left(\\frac{\\theta}{2} \\right)} Operator\\left(V,2\\right) Operator\\left(V,1\\right) Operator\\left(V,1\\right)^{\\dagger} Operator\\left(V,2\\right)^{\\dagger} - 4 \\sin^{4}{\\left(\\frac{\\theta}{2} \\right)} Operator\\left(V,2\\right) Operator\\left(V,1\\right) Operator\\left(V,2\\right)^{\\dagger} Operator\\left(V,1\\right)^{\\dagger} + 4 \\sin^{4}{\\left(\\frac{\\theta}{2} \\right)} Operator\\left(V,2\\right) Operator\\left(V,1\\right) \\left(Operator\\left(V,2\\right)^{\\dagger}\\right)^{2} - 4 \\sin^{4}{\\left(\\frac{\\theta}{2} \\right)} Operator\\left(V,2\\right) Operator\\left(V,1\\right)^{3} + 4 \\sin^{4}{\\left(\\frac{\\theta}{2} \\right)} Operator\\left(V,2\\right)^{2} Operator\\left(V,1\\right)^{\\dagger} Operator\\left(V,2\\right)^{\\dagger} - 4 \\sin^{4}{\\left(\\frac{\\theta}{2} \\right)} Operator\\left(V,2\\right)^{2} \\left(Operator\\left(V,1\\right)^{\\dagger}\\right)^{2} - 4 \\sin^{4}{\\left(\\frac{\\theta}{2} \\right)} Operator\\left(V,2\\right)^{2} Operator\\left(V,2\\right)^{\\dagger} Operator\\left(V,1\\right)^{\\dagger} + 4 \\sin^{4}{\\left(\\frac{\\theta}{2} \\right)} Operator\\left(V,2\\right)^{2} \\left(Operator\\left(V,2\\right)^{\\dagger}\\right)^{2} + \\sin^{2}{\\left(\\theta \\right)} Operator\\left(H,1\\right) Operator\\left(V,1\\right) Operator\\left(V,1\\right)^{\\dagger} Operator\\left(H,1\\right)^{\\dagger} - \\sin^{2}{\\left(\\theta \\right)} Operator\\left(H,1\\right) Operator\\left(V,1\\right) Operator\\left(V,1\\right)^{\\dagger} Operator\\left(H,2\\right)^{\\dagger} + \\sin^{2}{\\left(\\theta \\right)} Operator\\left(H,1\\right) Operator\\left(V,1\\right) Operator\\left(V,2\\right)^{\\dagger} Operator\\left(H,1\\right)^{\\dagger} - \\sin^{2}{\\left(\\theta \\right)} Operator\\left(H,1\\right) Operator\\left(V,1\\right) Operator\\left(V,2\\right)^{\\dagger} Operator\\left(H,2\\right)^{\\dagger} + \\sin^{2}{\\left(\\theta \\right)} Operator\\left(H,1\\right) Operator\\left(V,2\\right) Operator\\left(V,1\\right)^{\\dagger} Operator\\left(H,1\\right)^{\\dagger} - \\sin^{2}{\\left(\\theta \\right)} Operator\\left(H,1\\right) Operator\\left(V,2\\right) Operator\\left(V,1\\right)^{\\dagger} Operator\\left(H,2\\right)^{\\dagger} + \\sin^{2}{\\left(\\theta \\right)} Operator\\left(H,1\\right) Operator\\left(V,2\\right) Operator\\left(V,2\\right)^{\\dagger} Operator\\left(H,1\\right)^{\\dagger} - \\sin^{2}{\\left(\\theta \\right)} Operator\\left(H,1\\right) Operator\\left(V,2\\right) Operator\\left(V,2\\right)^{\\dagger} Operator\\left(H,2\\right)^{\\dagger} - \\sin^{2}{\\left(\\theta \\right)} Operator\\left(H,2\\right) Operator\\left(V,1\\right) Operator\\left(V,1\\right)^{\\dagger} Operator\\left(H,1\\right)^{\\dagger} + \\sin^{2}{\\left(\\theta \\right)} Operator\\left(H,2\\right) Operator\\left(V,1\\right) Operator\\left(V,1\\right)^{\\dagger} Operator\\left(H,2\\right)^{\\dagger} - \\sin^{2}{\\left(\\theta \\right)} Operator\\left(H,2\\right) Operator\\left(V,1\\right) Operator\\left(V,2\\right)^{\\dagger} Operator\\left(H,1\\right)^{\\dagger} + \\sin^{2}{\\left(\\theta \\right)} Operator\\left(H,2\\right) Operator\\left(V,1\\right) Operator\\left(V,2\\right)^{\\dagger} Operator\\left(H,2\\right)^{\\dagger} - \\sin^{2}{\\left(\\theta \\right)} Operator\\left(H,2\\right) Operator\\left(V,2\\right) Operator\\left(V,1\\right)^{\\dagger} Operator\\left(H,1\\right)^{\\dagger} + \\sin^{2}{\\left(\\theta \\right)} Operator\\left(H,2\\right) Operator\\left(V,2\\right) Operator\\left(V,1\\right)^{\\dagger} Operator\\left(H,2\\right)^{\\dagger} - \\sin^{2}{\\left(\\theta \\right)} Operator\\left(H,2\\right) Operator\\left(V,2\\right) Operator\\left(V,2\\right)^{\\dagger} Operator\\left(H,1\\right)^{\\dagger} + \\sin^{2}{\\left(\\theta \\right)} Operator\\left(H,2\\right) Operator\\left(V,2\\right) Operator\\left(V,2\\right)^{\\dagger} Operator\\left(H,2\\right)^{\\dagger} + \\sin^{2}{\\left(\\theta \\right)} Operator\\left(V,1\\right) Operator\\left(H,1\\right) Operator\\left(H,1\\right)^{\\dagger} Operator\\left(V,1\\right)^{\\dagger} - \\sin^{2}{\\left(\\theta \\right)} Operator\\left(V,1\\right) Operator\\left(H,1\\right) Operator\\left(H,1\\right)^{\\dagger} Operator\\left(V,2\\right)^{\\dagger} + \\sin^{2}{\\left(\\theta \\right)} Operator\\left(V,1\\right) Operator\\left(H,1\\right) Operator\\left(H,2\\right)^{\\dagger} Operator\\left(V,1\\right)^{\\dagger} - \\sin^{2}{\\left(\\theta \\right)} Operator\\left(V,1\\right) Operator\\left(H,1\\right) Operator\\left(H,2\\right)^{\\dagger} Operator\\left(V,2\\right)^{\\dagger} + \\sin^{2}{\\left(\\theta \\right)} Operator\\left(V,1\\right) Operator\\left(H,2\\right) Operator\\left(H,1\\right)^{\\dagger} Operator\\left(V,1\\right)^{\\dagger} - \\sin^{2}{\\left(\\theta \\right)} Operator\\left(V,1\\right) Operator\\left(H,2\\right) Operator\\left(H,1\\right)^{\\dagger} Operator\\left(V,2\\right)^{\\dagger} + \\sin^{2}{\\left(\\theta \\right)} Operator\\left(V,1\\right) Operator\\left(H,2\\right) Operator\\left(H,2\\right)^{\\dagger} Operator\\left(V,1\\right)^{\\dagger} - \\sin^{2}{\\left(\\theta \\right)} Operator\\left(V,1\\right) Operator\\left(H,2\\right) Operator\\left(H,2\\right)^{\\dagger} Operator\\left(V,2\\right)^{\\dagger} - \\sin^{2}{\\left(\\theta \\right)} Operator\\left(V,2\\right) Operator\\left(H,1\\right) Operator\\left(H,1\\right)^{\\dagger} Operator\\left(V,1\\right)^{\\dagger} + \\sin^{2}{\\left(\\theta \\right)} Operator\\left(V,2\\right) Operator\\left(H,1\\right) Operator\\left(H,1\\right)^{\\dagger} Operator\\left(V,2\\right)^{\\dagger} - \\sin^{2}{\\left(\\theta \\right)} Operator\\left(V,2\\right) Operator\\left(H,1\\right) Operator\\left(H,2\\right)^{\\dagger} Operator\\left(V,1\\right)^{\\dagger} + \\sin^{2}{\\left(\\theta \\right)} Operator\\left(V,2\\right) Operator\\left(H,1\\right) Operator\\left(H,2\\right)^{\\dagger} Operator\\left(V,2\\right)^{\\dagger} - \\sin^{2}{\\left(\\theta \\right)} Operator\\left(V,2\\right) Operator\\left(H,2\\right) Operator\\left(H,1\\right)^{\\dagger} Operator\\left(V,1\\right)^{\\dagger} + \\sin^{2}{\\left(\\theta \\right)} Operator\\left(V,2\\right) Operator\\left(H,2\\right) Operator\\left(H,1\\right)^{\\dagger} Operator\\left(V,2\\right)^{\\dagger} - \\sin^{2}{\\left(\\theta \\right)} Operator\\left(V,2\\right) Operator\\left(H,2\\right) Operator\\left(H,2\\right)^{\\dagger} Operator\\left(V,1\\right)^{\\dagger} + \\sin^{2}{\\left(\\theta \\right)} Operator\\left(V,2\\right) Operator\\left(H,2\\right) Operator\\left(H,2\\right)^{\\dagger} Operator\\left(V,2\\right)^{\\dagger} - 4 \\cos^{4}{\\left(\\frac{\\theta}{2} \\right)} Operator\\left(H,1\\right) Operator\\left(H,2\\right) Operator\\left(H,1\\right)^{\\dagger} Operator\\left(H,2\\right)^{\\dagger} + 4 \\cos^{4}{\\left(\\frac{\\theta}{2} \\right)} Operator\\left(H,1\\right) Operator\\left(H,2\\right) \\left(Operator\\left(H,1\\right)^{\\dagger}\\right)^{2} + 4 \\cos^{4}{\\left(\\frac{\\theta}{2} \\right)} Operator\\left(H,1\\right) Operator\\left(H,2\\right) Operator\\left(H,2\\right)^{\\dagger} Operator\\left(H,1\\right)^{\\dagger} - 4 \\cos^{4}{\\left(\\frac{\\theta}{2} \\right)} Operator\\left(H,1\\right) Operator\\left(H,2\\right)^{3} - 4 \\cos^{4}{\\left(\\frac{\\theta}{2} \\right)} Operator\\left(H,1\\right)^{2} Operator\\left(H,1\\right)^{\\dagger} Operator\\left(H,2\\right)^{\\dagger} + 4 \\cos^{4}{\\left(\\frac{\\theta}{2} \\right)} Operator\\left(H,1\\right)^{2} \\left(Operator\\left(H,1\\right)^{\\dagger}\\right)^{2} + 4 \\cos^{4}{\\left(\\frac{\\theta}{2} \\right)} Operator\\left(H,1\\right)^{2} Operator\\left(H,2\\right)^{\\dagger} Operator\\left(H,1\\right)^{\\dagger} - 4 \\cos^{4}{\\left(\\frac{\\theta}{2} \\right)} Operator\\left(H,1\\right)^{2} \\left(Operator\\left(H,2\\right)^{\\dagger}\\right)^{2} + 4 \\cos^{4}{\\left(\\frac{\\theta}{2} \\right)} Operator\\left(H,2\\right) Operator\\left(H,1\\right) Operator\\left(H,1\\right)^{\\dagger} Operator\\left(H,2\\right)^{\\dagger} - 4 \\cos^{4}{\\left(\\frac{\\theta}{2} \\right)} Operator\\left(H,2\\right) Operator\\left(H,1\\right) Operator\\left(H,2\\right)^{\\dagger} Operator\\left(H,1\\right)^{\\dagger} + 4 \\cos^{4}{\\left(\\frac{\\theta}{2} \\right)} Operator\\left(H,2\\right) Operator\\left(H,1\\right) \\left(Operator\\left(H,2\\right)^{\\dagger}\\right)^{2} - 4 \\cos^{4}{\\left(\\frac{\\theta}{2} \\right)} Operator\\left(H,2\\right) Operator\\left(H,1\\right)^{3} + 4 \\cos^{4}{\\left(\\frac{\\theta}{2} \\right)} Operator\\left(H,2\\right)^{2} Operator\\left(H,1\\right)^{\\dagger} Operator\\left(H,2\\right)^{\\dagger} - 4 \\cos^{4}{\\left(\\frac{\\theta}{2} \\right)} Operator\\left(H,2\\right)^{2} \\left(Operator\\left(H,1\\right)^{\\dagger}\\right)^{2} - 4 \\cos^{4}{\\left(\\frac{\\theta}{2} \\right)} Operator\\left(H,2\\right)^{2} Operator\\left(H,2\\right)^{\\dagger} Operator\\left(H,1\\right)^{\\dagger} + 4 \\cos^{4}{\\left(\\frac{\\theta}{2} \\right)} Operator\\left(H,2\\right)^{2} \\left(Operator\\left(H,2\\right)^{\\dagger}\\right)^{2}\\right) + e^{i \\left(\\phi_{1} + 2 \\phi_{2}\\right)} \\sin{\\left(\\theta \\right)} \\left(e^{i \\phi_{2}} \\sin{\\left(\\theta \\right)} Operator\\left(H,1\\right) Operator\\left(V,1\\right) Operator\\left(H,1\\right)^{\\dagger} Operator\\left(V,1\\right)^{\\dagger} - e^{i \\phi_{2}} \\sin{\\left(\\theta \\right)} Operator\\left(H,1\\right) Operator\\left(V,1\\right) Operator\\left(H,1\\right)^{\\dagger} Operator\\left(V,2\\right)^{\\dagger} + e^{i \\phi_{2}} \\sin{\\left(\\theta \\right)} Operator\\left(H,1\\right) Operator\\left(V,1\\right) Operator\\left(H,2\\right)^{\\dagger} Operator\\left(V,1\\right)^{\\dagger} - e^{i \\phi_{2}} \\sin{\\left(\\theta \\right)} Operator\\left(H,1\\right) Operator\\left(V,1\\right) Operator\\left(H,2\\right)^{\\dagger} Operator\\left(V,2\\right)^{\\dagger} + e^{i \\phi_{2}} \\sin{\\left(\\theta \\right)} Operator\\left(H,1\\right) Operator\\left(V,2\\right) Operator\\left(H,1\\right)^{\\dagger} Operator\\left(V,1\\right)^{\\dagger} - e^{i \\phi_{2}} \\sin{\\left(\\theta \\right)} Operator\\left(H,1\\right) Operator\\left(V,2\\right) Operator\\left(H,1\\right)^{\\dagger} Operator\\left(V,2\\right)^{\\dagger} + e^{i \\phi_{2}} \\sin{\\left(\\theta \\right)} Operator\\left(H,1\\right) Operator\\left(V,2\\right) Operator\\left(H,2\\right)^{\\dagger} Operator\\left(V,1\\right)^{\\dagger} - e^{i \\phi_{2}} \\sin{\\left(\\theta \\right)} Operator\\left(H,1\\right) Operator\\left(V,2\\right) Operator\\left(H,2\\right)^{\\dagger} Operator\\left(V,2\\right)^{\\dagger} - e^{i \\phi_{2}} \\sin{\\left(\\theta \\right)} Operator\\left(H,2\\right) Operator\\left(V,1\\right) Operator\\left(H,1\\right)^{\\dagger} Operator\\left(V,1\\right)^{\\dagger} + e^{i \\phi_{2}} \\sin{\\left(\\theta \\right)} Operator\\left(H,2\\right) Operator\\left(V,1\\right) Operator\\left(H,1\\right)^{\\dagger} Operator\\left(V,2\\right)^{\\dagger} - e^{i \\phi_{2}} \\sin{\\left(\\theta \\right)} Operator\\left(H,2\\right) Operator\\left(V,1\\right) Operator\\left(H,2\\right)^{\\dagger} Operator\\left(V,1\\right)^{\\dagger} + e^{i \\phi_{2}} \\sin{\\left(\\theta \\right)} Operator\\left(H,2\\right) Operator\\left(V,1\\right) Operator\\left(H,2\\right)^{\\dagger} Operator\\left(V,2\\right)^{\\dagger} - e^{i \\phi_{2}} \\sin{\\left(\\theta \\right)} Operator\\left(H,2\\right) Operator\\left(V,2\\right) Operator\\left(H,1\\right)^{\\dagger} Operator\\left(V,1\\right)^{\\dagger} + e^{i \\phi_{2}} \\sin{\\left(\\theta \\right)} Operator\\left(H,2\\right) Operator\\left(V,2\\right) Operator\\left(H,1\\right)^{\\dagger} Operator\\left(V,2\\right)^{\\dagger} - e^{i \\phi_{2}} \\sin{\\left(\\theta \\right)} Operator\\left(H,2\\right) Operator\\left(V,2\\right) Operator\\left(H,2\\right)^{\\dagger} Operator\\left(V,1\\right)^{\\dagger} + e^{i \\phi_{2}} \\sin{\\left(\\theta \\right)} Operator\\left(H,2\\right) Operator\\left(V,2\\right) Operator\\left(H,2\\right)^{\\dagger} Operator\\left(V,2\\right)^{\\dagger} + 2 \\sin^{2}{\\left(\\frac{\\theta}{2} \\right)} Operator\\left(V,1\\right) Operator\\left(V,2\\right) Operator\\left(H,1\\right)^{\\dagger} Operator\\left(V,1\\right)^{\\dagger} - 2 \\sin^{2}{\\left(\\frac{\\theta}{2} \\right)} Operator\\left(V,1\\right) Operator\\left(V,2\\right) Operator\\left(H,1\\right)^{\\dagger} Operator\\left(V,2\\right)^{\\dagger} + 2 \\sin^{2}{\\left(\\frac{\\theta}{2} \\right)} Operator\\left(V,1\\right) Operator\\left(V,2\\right) Operator\\left(H,2\\right)^{\\dagger} Operator\\left(V,1\\right)^{\\dagger} - 2 \\sin^{2}{\\left(\\frac{\\theta}{2} \\right)} Operator\\left(V,1\\right) Operator\\left(V,2\\right) Operator\\left(H,2\\right)^{\\dagger} Operator\\left(V,2\\right)^{\\dagger} + 2 \\sin^{2}{\\left(\\frac{\\theta}{2} \\right)} Operator\\left(V,1\\right)^{2} Operator\\left(H,1\\right)^{\\dagger} Operator\\left(V,1\\right)^{\\dagger} - 2 \\sin^{2}{\\left(\\frac{\\theta}{2} \\right)} Operator\\left(V,1\\right)^{2} Operator\\left(H,1\\right)^{\\dagger} Operator\\left(V,2\\right)^{\\dagger} + 2 \\sin^{2}{\\left(\\frac{\\theta}{2} \\right)} Operator\\left(V,1\\right)^{2} Operator\\left(H,2\\right)^{\\dagger} Operator\\left(V,1\\right)^{\\dagger} - 2 \\sin^{2}{\\left(\\frac{\\theta}{2} \\right)} Operator\\left(V,1\\right)^{2} Operator\\left(H,2\\right)^{\\dagger} Operator\\left(V,2\\right)^{\\dagger} - 2 \\sin^{2}{\\left(\\frac{\\theta}{2} \\right)} Operator\\left(V,2\\right) Operator\\left(V,1\\right) Operator\\left(H,1\\right)^{\\dagger} Operator\\left(V,1\\right)^{\\dagger} + 2 \\sin^{2}{\\left(\\frac{\\theta}{2} \\right)} Operator\\left(V,2\\right) Operator\\left(V,1\\right) Operator\\left(H,1\\right)^{\\dagger} Operator\\left(V,2\\right)^{\\dagger} - 2 \\sin^{2}{\\left(\\frac{\\theta}{2} \\right)} Operator\\left(V,2\\right) Operator\\left(V,1\\right) Operator\\left(H,2\\right)^{\\dagger} Operator\\left(V,1\\right)^{\\dagger} + 2 \\sin^{2}{\\left(\\frac{\\theta}{2} \\right)} Operator\\left(V,2\\right) Operator\\left(V,1\\right) Operator\\left(H,2\\right)^{\\dagger} Operator\\left(V,2\\right)^{\\dagger} - 2 \\sin^{2}{\\left(\\frac{\\theta}{2} \\right)} Operator\\left(V,2\\right)^{2} Operator\\left(H,1\\right)^{\\dagger} Operator\\left(V,1\\right)^{\\dagger} + 2 \\sin^{2}{\\left(\\frac{\\theta}{2} \\right)} Operator\\left(V,2\\right)^{2} Operator\\left(H,1\\right)^{\\dagger} Operator\\left(V,2\\right)^{\\dagger} - 2 \\sin^{2}{\\left(\\frac{\\theta}{2} \\right)} Operator\\left(V,2\\right)^{2} Operator\\left(H,2\\right)^{\\dagger} Operator\\left(V,1\\right)^{\\dagger} + 2 \\sin^{2}{\\left(\\frac{\\theta}{2} \\right)} Operator\\left(V,2\\right)^{2} Operator\\left(H,2\\right)^{\\dagger} Operator\\left(V,2\\right)^{\\dagger} - 2 \\cos^{2}{\\left(\\frac{\\theta}{2} \\right)} Operator\\left(H,1\\right) Operator\\left(V,1\\right) Operator\\left(H,1\\right)^{\\dagger} Operator\\left(H,2\\right)^{\\dagger} + 2 \\cos^{2}{\\left(\\frac{\\theta}{2} \\right)} Operator\\left(H,1\\right) Operator\\left(V,1\\right) \\left(Operator\\left(H,1\\right)^{\\dagger}\\right)^{2} + 2 \\cos^{2}{\\left(\\frac{\\theta}{2} \\right)} Operator\\left(H,1\\right) Operator\\left(V,1\\right) Operator\\left(H,2\\right)^{\\dagger} Operator\\left(H,1\\right)^{\\dagger} - 2 \\cos^{2}{\\left(\\frac{\\theta}{2} \\right)} Operator\\left(H,1\\right) Operator\\left(V,1\\right) \\left(Operator\\left(H,2\\right)^{\\dagger}\\right)^{2} - 2 \\cos^{2}{\\left(\\frac{\\theta}{2} \\right)} Operator\\left(H,1\\right) Operator\\left(V,2\\right) Operator\\left(H,1\\right)^{\\dagger} Operator\\left(H,2\\right)^{\\dagger} + 2 \\cos^{2}{\\left(\\frac{\\theta}{2} \\right)} Operator\\left(H,1\\right) Operator\\left(V,2\\right) \\left(Operator\\left(H,1\\right)^{\\dagger}\\right)^{2} + 2 \\cos^{2}{\\left(\\frac{\\theta}{2} \\right)} Operator\\left(H,1\\right) Operator\\left(V,2\\right) Operator\\left(H,2\\right)^{\\dagger} Operator\\left(H,1\\right)^{\\dagger} - 2 \\cos^{2}{\\left(\\frac{\\theta}{2} \\right)} Operator\\left(H,1\\right) Operator\\left(V,2\\right) \\left(Operator\\left(H,2\\right)^{\\dagger}\\right)^{2} + 2 \\cos^{2}{\\left(\\frac{\\theta}{2} \\right)} Operator\\left(H,2\\right) Operator\\left(V,1\\right) Operator\\left(H,1\\right)^{\\dagger} Operator\\left(H,2\\right)^{\\dagger} - 2 \\cos^{2}{\\left(\\frac{\\theta}{2} \\right)} Operator\\left(H,2\\right) Operator\\left(V,1\\right) \\left(Operator\\left(H,1\\right)^{\\dagger}\\right)^{2} - 2 \\cos^{2}{\\left(\\frac{\\theta}{2} \\right)} Operator\\left(H,2\\right) Operator\\left(V,1\\right) Operator\\left(H,2\\right)^{\\dagger} Operator\\left(H,1\\right)^{\\dagger} + 2 \\cos^{2}{\\left(\\frac{\\theta}{2} \\right)} Operator\\left(H,2\\right) Operator\\left(V,1\\right) \\left(Operator\\left(H,2\\right)^{\\dagger}\\right)^{2} + 2 \\cos^{2}{\\left(\\frac{\\theta}{2} \\right)} Operator\\left(H,2\\right) Operator\\left(V,2\\right) Operator\\left(H,1\\right)^{\\dagger} Operator\\left(H,2\\right)^{\\dagger} - 2 \\cos^{2}{\\left(\\frac{\\theta}{2} \\right)} Operator\\left(H,2\\right) Operator\\left(V,2\\right) \\left(Operator\\left(H,1\\right)^{\\dagger}\\right)^{2} - 2 \\cos^{2}{\\left(\\frac{\\theta}{2} \\right)} Operator\\left(H,2\\right) Operator\\left(V,2\\right) Operator\\left(H,2\\right)^{\\dagger} Operator\\left(H,1\\right)^{\\dagger} + 2 \\cos^{2}{\\left(\\frac{\\theta}{2} \\right)} Operator\\left(H,2\\right) Operator\\left(V,2\\right) \\left(Operator\\left(H,2\\right)^{\\dagger}\\right)^{2}\\right) + e^{i \\left(2 \\phi_{1} + \\phi_{2}\\right)} \\sin{\\left(\\theta \\right)} \\left(e^{i \\phi_{1}} \\sin{\\left(\\theta \\right)} Operator\\left(V,1\\right) Operator\\left(H,1\\right) Operator\\left(V,1\\right)^{\\dagger} Operator\\left(H,1\\right)^{\\dagger} - e^{i \\phi_{1}} \\sin{\\left(\\theta \\right)} Operator\\left(V,1\\right) Operator\\left(H,1\\right) Operator\\left(V,1\\right)^{\\dagger} Operator\\left(H,2\\right)^{\\dagger} + e^{i \\phi_{1}} \\sin{\\left(\\theta \\right)} Operator\\left(V,1\\right) Operator\\left(H,1\\right) Operator\\left(V,2\\right)^{\\dagger} Operator\\left(H,1\\right)^{\\dagger} - e^{i \\phi_{1}} \\sin{\\left(\\theta \\right)} Operator\\left(V,1\\right) Operator\\left(H,1\\right) Operator\\left(V,2\\right)^{\\dagger} Operator\\left(H,2\\right)^{\\dagger} + e^{i \\phi_{1}} \\sin{\\left(\\theta \\right)} Operator\\left(V,1\\right) Operator\\left(H,2\\right) Operator\\left(V,1\\right)^{\\dagger} Operator\\left(H,1\\right)^{\\dagger} - e^{i \\phi_{1}} \\sin{\\left(\\theta \\right)} Operator\\left(V,1\\right) Operator\\left(H,2\\right) Operator\\left(V,1\\right)^{\\dagger} Operator\\left(H,2\\right)^{\\dagger} + e^{i \\phi_{1}} \\sin{\\left(\\theta \\right)} Operator\\left(V,1\\right) Operator\\left(H,2\\right) Operator\\left(V,2\\right)^{\\dagger} Operator\\left(H,1\\right)^{\\dagger} - e^{i \\phi_{1}} \\sin{\\left(\\theta \\right)} Operator\\left(V,1\\right) Operator\\left(H,2\\right) Operator\\left(V,2\\right)^{\\dagger} Operator\\left(H,2\\right)^{\\dagger} - e^{i \\phi_{1}} \\sin{\\left(\\theta \\right)} Operator\\left(V,2\\right) Operator\\left(H,1\\right) Operator\\left(V,1\\right)^{\\dagger} Operator\\left(H,1\\right)^{\\dagger} + e^{i \\phi_{1}} \\sin{\\left(\\theta \\right)} Operator\\left(V,2\\right) Operator\\left(H,1\\right) Operator\\left(V,1\\right)^{\\dagger} Operator\\left(H,2\\right)^{\\dagger} - e^{i \\phi_{1}} \\sin{\\left(\\theta \\right)} Operator\\left(V,2\\right) Operator\\left(H,1\\right) Operator\\left(V,2\\right)^{\\dagger} Operator\\left(H,1\\right)^{\\dagger} + e^{i \\phi_{1}} \\sin{\\left(\\theta \\right)} Operator\\left(V,2\\right) Operator\\left(H,1\\right) Operator\\left(V,2\\right)^{\\dagger} Operator\\left(H,2\\right)^{\\dagger} - e^{i \\phi_{1}} \\sin{\\left(\\theta \\right)} Operator\\left(V,2\\right) Operator\\left(H,2\\right) Operator\\left(V,1\\right)^{\\dagger} Operator\\left(H,1\\right)^{\\dagger} + e^{i \\phi_{1}} \\sin{\\left(\\theta \\right)} Operator\\left(V,2\\right) Operator\\left(H,2\\right) Operator\\left(V,1\\right)^{\\dagger} Operator\\left(H,2\\right)^{\\dagger} - e^{i \\phi_{1}} \\sin{\\left(\\theta \\right)} Operator\\left(V,2\\right) Operator\\left(H,2\\right) Operator\\left(V,2\\right)^{\\dagger} Operator\\left(H,1\\right)^{\\dagger} + e^{i \\phi_{1}} \\sin{\\left(\\theta \\right)} Operator\\left(V,2\\right) Operator\\left(H,2\\right) Operator\\left(V,2\\right)^{\\dagger} Operator\\left(H,2\\right)^{\\dagger} + 2 \\sin^{2}{\\left(\\frac{\\theta}{2} \\right)} Operator\\left(V,1\\right) Operator\\left(V,2\\right) Operator\\left(V,1\\right)^{\\dagger} Operator\\left(H,1\\right)^{\\dagger} - 2 \\sin^{2}{\\left(\\frac{\\theta}{2} \\right)} Operator\\left(V,1\\right) Operator\\left(V,2\\right) Operator\\left(V,1\\right)^{\\dagger} Operator\\left(H,2\\right)^{\\dagger} + 2 \\sin^{2}{\\left(\\frac{\\theta}{2} \\right)} Operator\\left(V,1\\right) Operator\\left(V,2\\right) Operator\\left(V,2\\right)^{\\dagger} Operator\\left(H,1\\right)^{\\dagger} - 2 \\sin^{2}{\\left(\\frac{\\theta}{2} \\right)} Operator\\left(V,1\\right) Operator\\left(V,2\\right) Operator\\left(V,2\\right)^{\\dagger} Operator\\left(H,2\\right)^{\\dagger} + 2 \\sin^{2}{\\left(\\frac{\\theta}{2} \\right)} Operator\\left(V,1\\right)^{2} Operator\\left(V,1\\right)^{\\dagger} Operator\\left(H,1\\right)^{\\dagger} - 2 \\sin^{2}{\\left(\\frac{\\theta}{2} \\right)} Operator\\left(V,1\\right)^{2} Operator\\left(V,1\\right)^{\\dagger} Operator\\left(H,2\\right)^{\\dagger} + 2 \\sin^{2}{\\left(\\frac{\\theta}{2} \\right)} Operator\\left(V,1\\right)^{2} Operator\\left(V,2\\right)^{\\dagger} Operator\\left(H,1\\right)^{\\dagger} - 2 \\sin^{2}{\\left(\\frac{\\theta}{2} \\right)} Operator\\left(V,1\\right)^{2} Operator\\left(V,2\\right)^{\\dagger} Operator\\left(H,2\\right)^{\\dagger} - 2 \\sin^{2}{\\left(\\frac{\\theta}{2} \\right)} Operator\\left(V,2\\right) Operator\\left(V,1\\right) Operator\\left(V,1\\right)^{\\dagger} Operator\\left(H,1\\right)^{\\dagger} + 2 \\sin^{2}{\\left(\\frac{\\theta}{2} \\right)} Operator\\left(V,2\\right) Operator\\left(V,1\\right) Operator\\left(V,1\\right)^{\\dagger} Operator\\left(H,2\\right)^{\\dagger} - 2 \\sin^{2}{\\left(\\frac{\\theta}{2} \\right)} Operator\\left(V,2\\right) Operator\\left(V,1\\right) Operator\\left(V,2\\right)^{\\dagger} Operator\\left(H,1\\right)^{\\dagger} + 2 \\sin^{2}{\\left(\\frac{\\theta}{2} \\right)} Operator\\left(V,2\\right) Operator\\left(V,1\\right) Operator\\left(V,2\\right)^{\\dagger} Operator\\left(H,2\\right)^{\\dagger} - 2 \\sin^{2}{\\left(\\frac{\\theta}{2} \\right)} Operator\\left(V,2\\right)^{2} Operator\\left(V,1\\right)^{\\dagger} Operator\\left(H,1\\right)^{\\dagger} + 2 \\sin^{2}{\\left(\\frac{\\theta}{2} \\right)} Operator\\left(V,2\\right)^{2} Operator\\left(V,1\\right)^{\\dagger} Operator\\left(H,2\\right)^{\\dagger} - 2 \\sin^{2}{\\left(\\frac{\\theta}{2} \\right)} Operator\\left(V,2\\right)^{2} Operator\\left(V,2\\right)^{\\dagger} Operator\\left(H,1\\right)^{\\dagger} + 2 \\sin^{2}{\\left(\\frac{\\theta}{2} \\right)} Operator\\left(V,2\\right)^{2} Operator\\left(V,2\\right)^{\\dagger} Operator\\left(H,2\\right)^{\\dagger} - 2 \\cos^{2}{\\left(\\frac{\\theta}{2} \\right)} Operator\\left(V,1\\right) Operator\\left(H,1\\right) Operator\\left(H,1\\right)^{\\dagger} Operator\\left(H,2\\right)^{\\dagger} + 2 \\cos^{2}{\\left(\\frac{\\theta}{2} \\right)} Operator\\left(V,1\\right) Operator\\left(H,1\\right) Operator\\left(H,2\\right)^{\\dagger} Operator\\left(H,1\\right)^{\\dagger} - 2 \\cos^{2}{\\left(\\frac{\\theta}{2} \\right)} Operator\\left(V,1\\right) Operator\\left(H,1\\right) \\left(Operator\\left(H,2\\right)^{\\dagger}\\right)^{2} + 2 \\cos^{2}{\\left(\\frac{\\theta}{2} \\right)} Operator\\left(V,1\\right) Operator\\left(H,1\\right)^{3} - 2 \\cos^{2}{\\left(\\frac{\\theta}{2} \\right)} Operator\\left(V,1\\right) Operator\\left(H,2\\right) Operator\\left(H,1\\right)^{\\dagger} Operator\\left(H,2\\right)^{\\dagger} + 2 \\cos^{2}{\\left(\\frac{\\theta}{2} \\right)} Operator\\left(V,1\\right) Operator\\left(H,2\\right) \\left(Operator\\left(H,1\\right)^{\\dagger}\\right)^{2} + 2 \\cos^{2}{\\left(\\frac{\\theta}{2} \\right)} Operator\\left(V,1\\right) Operator\\left(H,2\\right) Operator\\left(H,2\\right)^{\\dagger} Operator\\left(H,1\\right)^{\\dagger} - 2 \\cos^{2}{\\left(\\frac{\\theta}{2} \\right)} Operator\\left(V,1\\right) Operator\\left(H,2\\right)^{3} + 2 \\cos^{2}{\\left(\\frac{\\theta}{2} \\right)} Operator\\left(V,2\\right) Operator\\left(H,1\\right) Operator\\left(H,1\\right)^{\\dagger} Operator\\left(H,2\\right)^{\\dagger} - 2 \\cos^{2}{\\left(\\frac{\\theta}{2} \\right)} Operator\\left(V,2\\right) Operator\\left(H,1\\right) Operator\\left(H,2\\right)^{\\dagger} Operator\\left(H,1\\right)^{\\dagger} + 2 \\cos^{2}{\\left(\\frac{\\theta}{2} \\right)} Operator\\left(V,2\\right) Operator\\left(H,1\\right) \\left(Operator\\left(H,2\\right)^{\\dagger}\\right)^{2} - 2 \\cos^{2}{\\left(\\frac{\\theta}{2} \\right)} Operator\\left(V,2\\right) Operator\\left(H,1\\right)^{3} + 2 \\cos^{2}{\\left(\\frac{\\theta}{2} \\right)} Operator\\left(V,2\\right) Operator\\left(H,2\\right) Operator\\left(H,1\\right)^{\\dagger} Operator\\left(H,2\\right)^{\\dagger} - 2 \\cos^{2}{\\left(\\frac{\\theta}{2} \\right)} Operator\\left(V,2\\right) Operator\\left(H,2\\right) \\left(Operator\\left(H,1\\right)^{\\dagger}\\right)^{2} - 2 \\cos^{2}{\\left(\\frac{\\theta}{2} \\right)} Operator\\left(V,2\\right) Operator\\left(H,2\\right) Operator\\left(H,2\\right)^{\\dagger} Operator\\left(H,1\\right)^{\\dagger} + 2 \\cos^{2}{\\left(\\frac{\\theta}{2} \\right)} Operator\\left(V,2\\right) Operator\\left(H,2\\right)^{3}\\right)\\right)}{16}$"
      ],
      "text/plain": [
       "exp(-2*I*(phi_1 + phi_2))*((1 - cos(2*theta))*exp(I*(phi_1 + phi_2))*(-Operator(V,1)*Operator(V,2)*Dagger(Operator(H,1))*Dagger(Operator(H,2)) + Operator(V,1)*Operator(V,2)*Dagger(Operator(H,1))**2 + Operator(V,1)*Operator(V,2)*Dagger(Operator(H,2))*Dagger(Operator(H,1)) - Operator(V,1)*Operator(V,2)*Dagger(Operator(H,2))**2 - Operator(V,1)**2*Dagger(Operator(H,1))*Dagger(Operator(H,2)) + Operator(V,1)**2*Dagger(Operator(H,1))**2 + Operator(V,1)**2*Dagger(Operator(H,2))*Dagger(Operator(H,1)) - Operator(V,1)**2*Dagger(Operator(H,2))**2 + Operator(V,2)*Operator(V,1)*Dagger(Operator(H,1))*Dagger(Operator(H,2)) - Operator(V,2)*Operator(V,1)*Dagger(Operator(H,1))**2 - Operator(V,2)*Operator(V,1)*Dagger(Operator(H,2))*Dagger(Operator(H,1)) + Operator(V,2)*Operator(V,1)*Dagger(Operator(H,2))**2 + Operator(V,2)**2*Dagger(Operator(H,1))*Dagger(Operator(H,2)) - Operator(V,2)**2*Dagger(Operator(H,1))**2 - Operator(V,2)**2*Dagger(Operator(H,2))*Dagger(Operator(H,1)) + Operator(V,2)**2*Dagger(Operator(H,2))**2)/2 + exp(2*I*(phi_1 + phi_2))*(-(1 - cos(2*theta))*exp(I*(phi_1 + phi_2))*Operator(H,1)*Operator(H,2)*Dagger(Operator(V,1))*Dagger(Operator(V,2))/2 + (1 - cos(2*theta))*exp(I*(phi_1 + phi_2))*Operator(H,1)*Operator(H,2)*Dagger(Operator(V,1))**2/2 + (1 - cos(2*theta))*exp(I*(phi_1 + phi_2))*Operator(H,1)*Operator(H,2)*Dagger(Operator(V,2))*Dagger(Operator(V,1))/2 - (1 - cos(2*theta))*exp(I*(phi_1 + phi_2))*Operator(H,1)*Operator(H,2)*Dagger(Operator(V,2))**2/2 - (1 - cos(2*theta))*exp(I*(phi_1 + phi_2))*Operator(H,1)**2*Dagger(Operator(V,1))*Dagger(Operator(V,2))/2 + (1 - cos(2*theta))*exp(I*(phi_1 + phi_2))*Operator(H,1)**2*Dagger(Operator(V,1))**2/2 + (1 - cos(2*theta))*exp(I*(phi_1 + phi_2))*Operator(H,1)**2*Dagger(Operator(V,2))*Dagger(Operator(V,1))/2 - (1 - cos(2*theta))*exp(I*(phi_1 + phi_2))*Operator(H,1)**2*Dagger(Operator(V,2))**2/2 + (1 - cos(2*theta))*exp(I*(phi_1 + phi_2))*Operator(H,2)*Operator(H,1)*Dagger(Operator(V,1))*Dagger(Operator(V,2))/2 - (1 - cos(2*theta))*exp(I*(phi_1 + phi_2))*Operator(H,2)*Operator(H,1)*Dagger(Operator(V,1))**2/2 - (1 - cos(2*theta))*exp(I*(phi_1 + phi_2))*Operator(H,2)*Operator(H,1)*Dagger(Operator(V,2))*Dagger(Operator(V,1))/2 + (1 - cos(2*theta))*exp(I*(phi_1 + phi_2))*Operator(H,2)*Operator(H,1)*Dagger(Operator(V,2))**2/2 + (1 - cos(2*theta))*exp(I*(phi_1 + phi_2))*Operator(H,2)**2*Dagger(Operator(V,1))*Dagger(Operator(V,2))/2 - (1 - cos(2*theta))*exp(I*(phi_1 + phi_2))*Operator(H,2)**2*Dagger(Operator(V,1))**2/2 - (1 - cos(2*theta))*exp(I*(phi_1 + phi_2))*Operator(H,2)**2*Dagger(Operator(V,2))*Dagger(Operator(V,1))/2 + (1 - cos(2*theta))*exp(I*(phi_1 + phi_2))*Operator(H,2)**2*Dagger(Operator(V,2))**2/2 - 2*exp(I*phi_1)*sin(theta/2)**2*sin(theta)*Operator(V,1)*Operator(H,1)*Dagger(Operator(V,1))*Dagger(Operator(V,2)) + 2*exp(I*phi_1)*sin(theta/2)**2*sin(theta)*Operator(V,1)*Operator(H,1)*Dagger(Operator(V,1))**2 + 2*exp(I*phi_1)*sin(theta/2)**2*sin(theta)*Operator(V,1)*Operator(H,1)*Dagger(Operator(V,2))*Dagger(Operator(V,1)) - 2*exp(I*phi_1)*sin(theta/2)**2*sin(theta)*Operator(V,1)*Operator(H,1)*Dagger(Operator(V,2))**2 - 2*exp(I*phi_1)*sin(theta/2)**2*sin(theta)*Operator(V,1)*Operator(H,2)*Dagger(Operator(V,1))*Dagger(Operator(V,2)) + 2*exp(I*phi_1)*sin(theta/2)**2*sin(theta)*Operator(V,1)*Operator(H,2)*Dagger(Operator(V,1))**2 + 2*exp(I*phi_1)*sin(theta/2)**2*sin(theta)*Operator(V,1)*Operator(H,2)*Dagger(Operator(V,2))*Dagger(Operator(V,1)) - 2*exp(I*phi_1)*sin(theta/2)**2*sin(theta)*Operator(V,1)*Operator(H,2)*Dagger(Operator(V,2))**2 + 2*exp(I*phi_1)*sin(theta/2)**2*sin(theta)*Operator(V,2)*Operator(H,1)*Dagger(Operator(V,1))*Dagger(Operator(V,2)) - 2*exp(I*phi_1)*sin(theta/2)**2*sin(theta)*Operator(V,2)*Operator(H,1)*Dagger(Operator(V,1))**2 - 2*exp(I*phi_1)*sin(theta/2)**2*sin(theta)*Operator(V,2)*Operator(H,1)*Dagger(Operator(V,2))*Dagger(Operator(V,1)) + 2*exp(I*phi_1)*sin(theta/2)**2*sin(theta)*Operator(V,2)*Operator(H,1)*Dagger(Operator(V,2))**2 + 2*exp(I*phi_1)*sin(theta/2)**2*sin(theta)*Operator(V,2)*Operator(H,2)*Dagger(Operator(V,1))*Dagger(Operator(V,2)) - 2*exp(I*phi_1)*sin(theta/2)**2*sin(theta)*Operator(V,2)*Operator(H,2)*Dagger(Operator(V,1))**2 - 2*exp(I*phi_1)*sin(theta/2)**2*sin(theta)*Operator(V,2)*Operator(H,2)*Dagger(Operator(V,2))*Dagger(Operator(V,1)) + 2*exp(I*phi_1)*sin(theta/2)**2*sin(theta)*Operator(V,2)*Operator(H,2)*Dagger(Operator(V,2))**2 + 2*exp(I*phi_1)*sin(theta)*cos(theta/2)**2*Operator(H,1)*Operator(H,2)*Dagger(Operator(V,1))*Dagger(Operator(H,1)) - 2*exp(I*phi_1)*sin(theta)*cos(theta/2)**2*Operator(H,1)*Operator(H,2)*Dagger(Operator(V,1))*Dagger(Operator(H,2)) + 2*exp(I*phi_1)*sin(theta)*cos(theta/2)**2*Operator(H,1)*Operator(H,2)*Dagger(Operator(V,2))*Dagger(Operator(H,1)) - 2*exp(I*phi_1)*sin(theta)*cos(theta/2)**2*Operator(H,1)*Operator(H,2)*Dagger(Operator(V,2))*Dagger(Operator(H,2)) + 2*exp(I*phi_1)*sin(theta)*cos(theta/2)**2*Operator(H,1)**2*Dagger(Operator(V,1))*Dagger(Operator(H,1)) - 2*exp(I*phi_1)*sin(theta)*cos(theta/2)**2*Operator(H,1)**2*Dagger(Operator(V,1))*Dagger(Operator(H,2)) + 2*exp(I*phi_1)*sin(theta)*cos(theta/2)**2*Operator(H,1)**2*Dagger(Operator(V,2))*Dagger(Operator(H,1)) - 2*exp(I*phi_1)*sin(theta)*cos(theta/2)**2*Operator(H,1)**2*Dagger(Operator(V,2))*Dagger(Operator(H,2)) - 2*exp(I*phi_1)*sin(theta)*cos(theta/2)**2*Operator(H,2)*Operator(H,1)*Dagger(Operator(V,1))*Dagger(Operator(H,1)) + 2*exp(I*phi_1)*sin(theta)*cos(theta/2)**2*Operator(H,2)*Operator(H,1)*Dagger(Operator(V,1))*Dagger(Operator(H,2)) - 2*exp(I*phi_1)*sin(theta)*cos(theta/2)**2*Operator(H,2)*Operator(H,1)*Dagger(Operator(V,2))*Dagger(Operator(H,1)) + 2*exp(I*phi_1)*sin(theta)*cos(theta/2)**2*Operator(H,2)*Operator(H,1)*Dagger(Operator(V,2))*Dagger(Operator(H,2)) - 2*exp(I*phi_1)*sin(theta)*cos(theta/2)**2*Operator(H,2)**2*Dagger(Operator(V,1))*Dagger(Operator(H,1)) + 2*exp(I*phi_1)*sin(theta)*cos(theta/2)**2*Operator(H,2)**2*Dagger(Operator(V,1))*Dagger(Operator(H,2)) - 2*exp(I*phi_1)*sin(theta)*cos(theta/2)**2*Operator(H,2)**2*Dagger(Operator(V,2))*Dagger(Operator(H,1)) + 2*exp(I*phi_1)*sin(theta)*cos(theta/2)**2*Operator(H,2)**2*Dagger(Operator(V,2))*Dagger(Operator(H,2)) - 2*exp(I*phi_2)*sin(theta/2)**2*sin(theta)*Operator(H,1)*Operator(V,1)*Dagger(Operator(V,1))*Dagger(Operator(V,2)) + 2*exp(I*phi_2)*sin(theta/2)**2*sin(theta)*Operator(H,1)*Operator(V,1)*Dagger(Operator(V,2))*Dagger(Operator(V,1)) - 2*exp(I*phi_2)*sin(theta/2)**2*sin(theta)*Operator(H,1)*Operator(V,1)*Dagger(Operator(V,2))**2 + 2*exp(I*phi_2)*sin(theta/2)**2*sin(theta)*Operator(H,1)*Operator(V,1)**3 - 2*exp(I*phi_2)*sin(theta/2)**2*sin(theta)*Operator(H,1)*Operator(V,2)*Dagger(Operator(V,1))*Dagger(Operator(V,2)) + 2*exp(I*phi_2)*sin(theta/2)**2*sin(theta)*Operator(H,1)*Operator(V,2)*Dagger(Operator(V,1))**2 + 2*exp(I*phi_2)*sin(theta/2)**2*sin(theta)*Operator(H,1)*Operator(V,2)*Dagger(Operator(V,2))*Dagger(Operator(V,1)) - 2*exp(I*phi_2)*sin(theta/2)**2*sin(theta)*Operator(H,1)*Operator(V,2)**3 + 2*exp(I*phi_2)*sin(theta/2)**2*sin(theta)*Operator(H,2)*Operator(V,1)*Dagger(Operator(V,1))*Dagger(Operator(V,2)) - 2*exp(I*phi_2)*sin(theta/2)**2*sin(theta)*Operator(H,2)*Operator(V,1)*Dagger(Operator(V,2))*Dagger(Operator(V,1)) + 2*exp(I*phi_2)*sin(theta/2)**2*sin(theta)*Operator(H,2)*Operator(V,1)*Dagger(Operator(V,2))**2 - 2*exp(I*phi_2)*sin(theta/2)**2*sin(theta)*Operator(H,2)*Operator(V,1)**3 + 2*exp(I*phi_2)*sin(theta/2)**2*sin(theta)*Operator(H,2)*Operator(V,2)*Dagger(Operator(V,1))*Dagger(Operator(V,2)) - 2*exp(I*phi_2)*sin(theta/2)**2*sin(theta)*Operator(H,2)*Operator(V,2)*Dagger(Operator(V,1))**2 - 2*exp(I*phi_2)*sin(theta/2)**2*sin(theta)*Operator(H,2)*Operator(V,2)*Dagger(Operator(V,2))*Dagger(Operator(V,1)) + 2*exp(I*phi_2)*sin(theta/2)**2*sin(theta)*Operator(H,2)*Operator(V,2)**3 + 2*exp(I*phi_2)*sin(theta)*cos(theta/2)**2*Operator(H,1)*Operator(H,2)*Dagger(Operator(H,1))*Dagger(Operator(V,1)) - 2*exp(I*phi_2)*sin(theta)*cos(theta/2)**2*Operator(H,1)*Operator(H,2)*Dagger(Operator(H,1))*Dagger(Operator(V,2)) + 2*exp(I*phi_2)*sin(theta)*cos(theta/2)**2*Operator(H,1)*Operator(H,2)*Dagger(Operator(H,2))*Dagger(Operator(V,1)) - 2*exp(I*phi_2)*sin(theta)*cos(theta/2)**2*Operator(H,1)*Operator(H,2)*Dagger(Operator(H,2))*Dagger(Operator(V,2)) + 2*exp(I*phi_2)*sin(theta)*cos(theta/2)**2*Operator(H,1)**2*Dagger(Operator(H,1))*Dagger(Operator(V,1)) - 2*exp(I*phi_2)*sin(theta)*cos(theta/2)**2*Operator(H,1)**2*Dagger(Operator(H,1))*Dagger(Operator(V,2)) + 2*exp(I*phi_2)*sin(theta)*cos(theta/2)**2*Operator(H,1)**2*Dagger(Operator(H,2))*Dagger(Operator(V,1)) - 2*exp(I*phi_2)*sin(theta)*cos(theta/2)**2*Operator(H,1)**2*Dagger(Operator(H,2))*Dagger(Operator(V,2)) - 2*exp(I*phi_2)*sin(theta)*cos(theta/2)**2*Operator(H,2)*Operator(H,1)*Dagger(Operator(H,1))*Dagger(Operator(V,1)) + 2*exp(I*phi_2)*sin(theta)*cos(theta/2)**2*Operator(H,2)*Operator(H,1)*Dagger(Operator(H,1))*Dagger(Operator(V,2)) - 2*exp(I*phi_2)*sin(theta)*cos(theta/2)**2*Operator(H,2)*Operator(H,1)*Dagger(Operator(H,2))*Dagger(Operator(V,1)) + 2*exp(I*phi_2)*sin(theta)*cos(theta/2)**2*Operator(H,2)*Operator(H,1)*Dagger(Operator(H,2))*Dagger(Operator(V,2)) - 2*exp(I*phi_2)*sin(theta)*cos(theta/2)**2*Operator(H,2)**2*Dagger(Operator(H,1))*Dagger(Operator(V,1)) + 2*exp(I*phi_2)*sin(theta)*cos(theta/2)**2*Operator(H,2)**2*Dagger(Operator(H,1))*Dagger(Operator(V,2)) - 2*exp(I*phi_2)*sin(theta)*cos(theta/2)**2*Operator(H,2)**2*Dagger(Operator(H,2))*Dagger(Operator(V,1)) + 2*exp(I*phi_2)*sin(theta)*cos(theta/2)**2*Operator(H,2)**2*Dagger(Operator(H,2))*Dagger(Operator(V,2)) - 4*sin(theta/2)**4*Operator(V,1)*Operator(V,2)*Dagger(Operator(V,1))*Dagger(Operator(V,2)) + 4*sin(theta/2)**4*Operator(V,1)*Operator(V,2)*Dagger(Operator(V,1))**2 + 4*sin(theta/2)**4*Operator(V,1)*Operator(V,2)*Dagger(Operator(V,2))*Dagger(Operator(V,1)) - 4*sin(theta/2)**4*Operator(V,1)*Operator(V,2)**3 - 4*sin(theta/2)**4*Operator(V,1)**2*Dagger(Operator(V,1))*Dagger(Operator(V,2)) + 4*sin(theta/2)**4*Operator(V,1)**2*Dagger(Operator(V,1))**2 + 4*sin(theta/2)**4*Operator(V,1)**2*Dagger(Operator(V,2))*Dagger(Operator(V,1)) - 4*sin(theta/2)**4*Operator(V,1)**2*Dagger(Operator(V,2))**2 + 4*sin(theta/2)**4*Operator(V,2)*Operator(V,1)*Dagger(Operator(V,1))*Dagger(Operator(V,2)) - 4*sin(theta/2)**4*Operator(V,2)*Operator(V,1)*Dagger(Operator(V,2))*Dagger(Operator(V,1)) + 4*sin(theta/2)**4*Operator(V,2)*Operator(V,1)*Dagger(Operator(V,2))**2 - 4*sin(theta/2)**4*Operator(V,2)*Operator(V,1)**3 + 4*sin(theta/2)**4*Operator(V,2)**2*Dagger(Operator(V,1))*Dagger(Operator(V,2)) - 4*sin(theta/2)**4*Operator(V,2)**2*Dagger(Operator(V,1))**2 - 4*sin(theta/2)**4*Operator(V,2)**2*Dagger(Operator(V,2))*Dagger(Operator(V,1)) + 4*sin(theta/2)**4*Operator(V,2)**2*Dagger(Operator(V,2))**2 + sin(theta)**2*Operator(H,1)*Operator(V,1)*Dagger(Operator(V,1))*Dagger(Operator(H,1)) - sin(theta)**2*Operator(H,1)*Operator(V,1)*Dagger(Operator(V,1))*Dagger(Operator(H,2)) + sin(theta)**2*Operator(H,1)*Operator(V,1)*Dagger(Operator(V,2))*Dagger(Operator(H,1)) - sin(theta)**2*Operator(H,1)*Operator(V,1)*Dagger(Operator(V,2))*Dagger(Operator(H,2)) + sin(theta)**2*Operator(H,1)*Operator(V,2)*Dagger(Operator(V,1))*Dagger(Operator(H,1)) - sin(theta)**2*Operator(H,1)*Operator(V,2)*Dagger(Operator(V,1))*Dagger(Operator(H,2)) + sin(theta)**2*Operator(H,1)*Operator(V,2)*Dagger(Operator(V,2))*Dagger(Operator(H,1)) - sin(theta)**2*Operator(H,1)*Operator(V,2)*Dagger(Operator(V,2))*Dagger(Operator(H,2)) - sin(theta)**2*Operator(H,2)*Operator(V,1)*Dagger(Operator(V,1))*Dagger(Operator(H,1)) + sin(theta)**2*Operator(H,2)*Operator(V,1)*Dagger(Operator(V,1))*Dagger(Operator(H,2)) - sin(theta)**2*Operator(H,2)*Operator(V,1)*Dagger(Operator(V,2))*Dagger(Operator(H,1)) + sin(theta)**2*Operator(H,2)*Operator(V,1)*Dagger(Operator(V,2))*Dagger(Operator(H,2)) - sin(theta)**2*Operator(H,2)*Operator(V,2)*Dagger(Operator(V,1))*Dagger(Operator(H,1)) + sin(theta)**2*Operator(H,2)*Operator(V,2)*Dagger(Operator(V,1))*Dagger(Operator(H,2)) - sin(theta)**2*Operator(H,2)*Operator(V,2)*Dagger(Operator(V,2))*Dagger(Operator(H,1)) + sin(theta)**2*Operator(H,2)*Operator(V,2)*Dagger(Operator(V,2))*Dagger(Operator(H,2)) + sin(theta)**2*Operator(V,1)*Operator(H,1)*Dagger(Operator(H,1))*Dagger(Operator(V,1)) - sin(theta)**2*Operator(V,1)*Operator(H,1)*Dagger(Operator(H,1))*Dagger(Operator(V,2)) + sin(theta)**2*Operator(V,1)*Operator(H,1)*Dagger(Operator(H,2))*Dagger(Operator(V,1)) - sin(theta)**2*Operator(V,1)*Operator(H,1)*Dagger(Operator(H,2))*Dagger(Operator(V,2)) + sin(theta)**2*Operator(V,1)*Operator(H,2)*Dagger(Operator(H,1))*Dagger(Operator(V,1)) - sin(theta)**2*Operator(V,1)*Operator(H,2)*Dagger(Operator(H,1))*Dagger(Operator(V,2)) + sin(theta)**2*Operator(V,1)*Operator(H,2)*Dagger(Operator(H,2))*Dagger(Operator(V,1)) - sin(theta)**2*Operator(V,1)*Operator(H,2)*Dagger(Operator(H,2))*Dagger(Operator(V,2)) - sin(theta)**2*Operator(V,2)*Operator(H,1)*Dagger(Operator(H,1))*Dagger(Operator(V,1)) + sin(theta)**2*Operator(V,2)*Operator(H,1)*Dagger(Operator(H,1))*Dagger(Operator(V,2)) - sin(theta)**2*Operator(V,2)*Operator(H,1)*Dagger(Operator(H,2))*Dagger(Operator(V,1)) + sin(theta)**2*Operator(V,2)*Operator(H,1)*Dagger(Operator(H,2))*Dagger(Operator(V,2)) - sin(theta)**2*Operator(V,2)*Operator(H,2)*Dagger(Operator(H,1))*Dagger(Operator(V,1)) + sin(theta)**2*Operator(V,2)*Operator(H,2)*Dagger(Operator(H,1))*Dagger(Operator(V,2)) - sin(theta)**2*Operator(V,2)*Operator(H,2)*Dagger(Operator(H,2))*Dagger(Operator(V,1)) + sin(theta)**2*Operator(V,2)*Operator(H,2)*Dagger(Operator(H,2))*Dagger(Operator(V,2)) - 4*cos(theta/2)**4*Operator(H,1)*Operator(H,2)*Dagger(Operator(H,1))*Dagger(Operator(H,2)) + 4*cos(theta/2)**4*Operator(H,1)*Operator(H,2)*Dagger(Operator(H,1))**2 + 4*cos(theta/2)**4*Operator(H,1)*Operator(H,2)*Dagger(Operator(H,2))*Dagger(Operator(H,1)) - 4*cos(theta/2)**4*Operator(H,1)*Operator(H,2)**3 - 4*cos(theta/2)**4*Operator(H,1)**2*Dagger(Operator(H,1))*Dagger(Operator(H,2)) + 4*cos(theta/2)**4*Operator(H,1)**2*Dagger(Operator(H,1))**2 + 4*cos(theta/2)**4*Operator(H,1)**2*Dagger(Operator(H,2))*Dagger(Operator(H,1)) - 4*cos(theta/2)**4*Operator(H,1)**2*Dagger(Operator(H,2))**2 + 4*cos(theta/2)**4*Operator(H,2)*Operator(H,1)*Dagger(Operator(H,1))*Dagger(Operator(H,2)) - 4*cos(theta/2)**4*Operator(H,2)*Operator(H,1)*Dagger(Operator(H,2))*Dagger(Operator(H,1)) + 4*cos(theta/2)**4*Operator(H,2)*Operator(H,1)*Dagger(Operator(H,2))**2 - 4*cos(theta/2)**4*Operator(H,2)*Operator(H,1)**3 + 4*cos(theta/2)**4*Operator(H,2)**2*Dagger(Operator(H,1))*Dagger(Operator(H,2)) - 4*cos(theta/2)**4*Operator(H,2)**2*Dagger(Operator(H,1))**2 - 4*cos(theta/2)**4*Operator(H,2)**2*Dagger(Operator(H,2))*Dagger(Operator(H,1)) + 4*cos(theta/2)**4*Operator(H,2)**2*Dagger(Operator(H,2))**2) + exp(I*(phi_1 + 2*phi_2))*sin(theta)*(exp(I*phi_2)*sin(theta)*Operator(H,1)*Operator(V,1)*Dagger(Operator(H,1))*Dagger(Operator(V,1)) - exp(I*phi_2)*sin(theta)*Operator(H,1)*Operator(V,1)*Dagger(Operator(H,1))*Dagger(Operator(V,2)) + exp(I*phi_2)*sin(theta)*Operator(H,1)*Operator(V,1)*Dagger(Operator(H,2))*Dagger(Operator(V,1)) - exp(I*phi_2)*sin(theta)*Operator(H,1)*Operator(V,1)*Dagger(Operator(H,2))*Dagger(Operator(V,2)) + exp(I*phi_2)*sin(theta)*Operator(H,1)*Operator(V,2)*Dagger(Operator(H,1))*Dagger(Operator(V,1)) - exp(I*phi_2)*sin(theta)*Operator(H,1)*Operator(V,2)*Dagger(Operator(H,1))*Dagger(Operator(V,2)) + exp(I*phi_2)*sin(theta)*Operator(H,1)*Operator(V,2)*Dagger(Operator(H,2))*Dagger(Operator(V,1)) - exp(I*phi_2)*sin(theta)*Operator(H,1)*Operator(V,2)*Dagger(Operator(H,2))*Dagger(Operator(V,2)) - exp(I*phi_2)*sin(theta)*Operator(H,2)*Operator(V,1)*Dagger(Operator(H,1))*Dagger(Operator(V,1)) + exp(I*phi_2)*sin(theta)*Operator(H,2)*Operator(V,1)*Dagger(Operator(H,1))*Dagger(Operator(V,2)) - exp(I*phi_2)*sin(theta)*Operator(H,2)*Operator(V,1)*Dagger(Operator(H,2))*Dagger(Operator(V,1)) + exp(I*phi_2)*sin(theta)*Operator(H,2)*Operator(V,1)*Dagger(Operator(H,2))*Dagger(Operator(V,2)) - exp(I*phi_2)*sin(theta)*Operator(H,2)*Operator(V,2)*Dagger(Operator(H,1))*Dagger(Operator(V,1)) + exp(I*phi_2)*sin(theta)*Operator(H,2)*Operator(V,2)*Dagger(Operator(H,1))*Dagger(Operator(V,2)) - exp(I*phi_2)*sin(theta)*Operator(H,2)*Operator(V,2)*Dagger(Operator(H,2))*Dagger(Operator(V,1)) + exp(I*phi_2)*sin(theta)*Operator(H,2)*Operator(V,2)*Dagger(Operator(H,2))*Dagger(Operator(V,2)) + 2*sin(theta/2)**2*Operator(V,1)*Operator(V,2)*Dagger(Operator(H,1))*Dagger(Operator(V,1)) - 2*sin(theta/2)**2*Operator(V,1)*Operator(V,2)*Dagger(Operator(H,1))*Dagger(Operator(V,2)) + 2*sin(theta/2)**2*Operator(V,1)*Operator(V,2)*Dagger(Operator(H,2))*Dagger(Operator(V,1)) - 2*sin(theta/2)**2*Operator(V,1)*Operator(V,2)*Dagger(Operator(H,2))*Dagger(Operator(V,2)) + 2*sin(theta/2)**2*Operator(V,1)**2*Dagger(Operator(H,1))*Dagger(Operator(V,1)) - 2*sin(theta/2)**2*Operator(V,1)**2*Dagger(Operator(H,1))*Dagger(Operator(V,2)) + 2*sin(theta/2)**2*Operator(V,1)**2*Dagger(Operator(H,2))*Dagger(Operator(V,1)) - 2*sin(theta/2)**2*Operator(V,1)**2*Dagger(Operator(H,2))*Dagger(Operator(V,2)) - 2*sin(theta/2)**2*Operator(V,2)*Operator(V,1)*Dagger(Operator(H,1))*Dagger(Operator(V,1)) + 2*sin(theta/2)**2*Operator(V,2)*Operator(V,1)*Dagger(Operator(H,1))*Dagger(Operator(V,2)) - 2*sin(theta/2)**2*Operator(V,2)*Operator(V,1)*Dagger(Operator(H,2))*Dagger(Operator(V,1)) + 2*sin(theta/2)**2*Operator(V,2)*Operator(V,1)*Dagger(Operator(H,2))*Dagger(Operator(V,2)) - 2*sin(theta/2)**2*Operator(V,2)**2*Dagger(Operator(H,1))*Dagger(Operator(V,1)) + 2*sin(theta/2)**2*Operator(V,2)**2*Dagger(Operator(H,1))*Dagger(Operator(V,2)) - 2*sin(theta/2)**2*Operator(V,2)**2*Dagger(Operator(H,2))*Dagger(Operator(V,1)) + 2*sin(theta/2)**2*Operator(V,2)**2*Dagger(Operator(H,2))*Dagger(Operator(V,2)) - 2*cos(theta/2)**2*Operator(H,1)*Operator(V,1)*Dagger(Operator(H,1))*Dagger(Operator(H,2)) + 2*cos(theta/2)**2*Operator(H,1)*Operator(V,1)*Dagger(Operator(H,1))**2 + 2*cos(theta/2)**2*Operator(H,1)*Operator(V,1)*Dagger(Operator(H,2))*Dagger(Operator(H,1)) - 2*cos(theta/2)**2*Operator(H,1)*Operator(V,1)*Dagger(Operator(H,2))**2 - 2*cos(theta/2)**2*Operator(H,1)*Operator(V,2)*Dagger(Operator(H,1))*Dagger(Operator(H,2)) + 2*cos(theta/2)**2*Operator(H,1)*Operator(V,2)*Dagger(Operator(H,1))**2 + 2*cos(theta/2)**2*Operator(H,1)*Operator(V,2)*Dagger(Operator(H,2))*Dagger(Operator(H,1)) - 2*cos(theta/2)**2*Operator(H,1)*Operator(V,2)*Dagger(Operator(H,2))**2 + 2*cos(theta/2)**2*Operator(H,2)*Operator(V,1)*Dagger(Operator(H,1))*Dagger(Operator(H,2)) - 2*cos(theta/2)**2*Operator(H,2)*Operator(V,1)*Dagger(Operator(H,1))**2 - 2*cos(theta/2)**2*Operator(H,2)*Operator(V,1)*Dagger(Operator(H,2))*Dagger(Operator(H,1)) + 2*cos(theta/2)**2*Operator(H,2)*Operator(V,1)*Dagger(Operator(H,2))**2 + 2*cos(theta/2)**2*Operator(H,2)*Operator(V,2)*Dagger(Operator(H,1))*Dagger(Operator(H,2)) - 2*cos(theta/2)**2*Operator(H,2)*Operator(V,2)*Dagger(Operator(H,1))**2 - 2*cos(theta/2)**2*Operator(H,2)*Operator(V,2)*Dagger(Operator(H,2))*Dagger(Operator(H,1)) + 2*cos(theta/2)**2*Operator(H,2)*Operator(V,2)*Dagger(Operator(H,2))**2) + exp(I*(2*phi_1 + phi_2))*sin(theta)*(exp(I*phi_1)*sin(theta)*Operator(V,1)*Operator(H,1)*Dagger(Operator(V,1))*Dagger(Operator(H,1)) - exp(I*phi_1)*sin(theta)*Operator(V,1)*Operator(H,1)*Dagger(Operator(V,1))*Dagger(Operator(H,2)) + exp(I*phi_1)*sin(theta)*Operator(V,1)*Operator(H,1)*Dagger(Operator(V,2))*Dagger(Operator(H,1)) - exp(I*phi_1)*sin(theta)*Operator(V,1)*Operator(H,1)*Dagger(Operator(V,2))*Dagger(Operator(H,2)) + exp(I*phi_1)*sin(theta)*Operator(V,1)*Operator(H,2)*Dagger(Operator(V,1))*Dagger(Operator(H,1)) - exp(I*phi_1)*sin(theta)*Operator(V,1)*Operator(H,2)*Dagger(Operator(V,1))*Dagger(Operator(H,2)) + exp(I*phi_1)*sin(theta)*Operator(V,1)*Operator(H,2)*Dagger(Operator(V,2))*Dagger(Operator(H,1)) - exp(I*phi_1)*sin(theta)*Operator(V,1)*Operator(H,2)*Dagger(Operator(V,2))*Dagger(Operator(H,2)) - exp(I*phi_1)*sin(theta)*Operator(V,2)*Operator(H,1)*Dagger(Operator(V,1))*Dagger(Operator(H,1)) + exp(I*phi_1)*sin(theta)*Operator(V,2)*Operator(H,1)*Dagger(Operator(V,1))*Dagger(Operator(H,2)) - exp(I*phi_1)*sin(theta)*Operator(V,2)*Operator(H,1)*Dagger(Operator(V,2))*Dagger(Operator(H,1)) + exp(I*phi_1)*sin(theta)*Operator(V,2)*Operator(H,1)*Dagger(Operator(V,2))*Dagger(Operator(H,2)) - exp(I*phi_1)*sin(theta)*Operator(V,2)*Operator(H,2)*Dagger(Operator(V,1))*Dagger(Operator(H,1)) + exp(I*phi_1)*sin(theta)*Operator(V,2)*Operator(H,2)*Dagger(Operator(V,1))*Dagger(Operator(H,2)) - exp(I*phi_1)*sin(theta)*Operator(V,2)*Operator(H,2)*Dagger(Operator(V,2))*Dagger(Operator(H,1)) + exp(I*phi_1)*sin(theta)*Operator(V,2)*Operator(H,2)*Dagger(Operator(V,2))*Dagger(Operator(H,2)) + 2*sin(theta/2)**2*Operator(V,1)*Operator(V,2)*Dagger(Operator(V,1))*Dagger(Operator(H,1)) - 2*sin(theta/2)**2*Operator(V,1)*Operator(V,2)*Dagger(Operator(V,1))*Dagger(Operator(H,2)) + 2*sin(theta/2)**2*Operator(V,1)*Operator(V,2)*Dagger(Operator(V,2))*Dagger(Operator(H,1)) - 2*sin(theta/2)**2*Operator(V,1)*Operator(V,2)*Dagger(Operator(V,2))*Dagger(Operator(H,2)) + 2*sin(theta/2)**2*Operator(V,1)**2*Dagger(Operator(V,1))*Dagger(Operator(H,1)) - 2*sin(theta/2)**2*Operator(V,1)**2*Dagger(Operator(V,1))*Dagger(Operator(H,2)) + 2*sin(theta/2)**2*Operator(V,1)**2*Dagger(Operator(V,2))*Dagger(Operator(H,1)) - 2*sin(theta/2)**2*Operator(V,1)**2*Dagger(Operator(V,2))*Dagger(Operator(H,2)) - 2*sin(theta/2)**2*Operator(V,2)*Operator(V,1)*Dagger(Operator(V,1))*Dagger(Operator(H,1)) + 2*sin(theta/2)**2*Operator(V,2)*Operator(V,1)*Dagger(Operator(V,1))*Dagger(Operator(H,2)) - 2*sin(theta/2)**2*Operator(V,2)*Operator(V,1)*Dagger(Operator(V,2))*Dagger(Operator(H,1)) + 2*sin(theta/2)**2*Operator(V,2)*Operator(V,1)*Dagger(Operator(V,2))*Dagger(Operator(H,2)) - 2*sin(theta/2)**2*Operator(V,2)**2*Dagger(Operator(V,1))*Dagger(Operator(H,1)) + 2*sin(theta/2)**2*Operator(V,2)**2*Dagger(Operator(V,1))*Dagger(Operator(H,2)) - 2*sin(theta/2)**2*Operator(V,2)**2*Dagger(Operator(V,2))*Dagger(Operator(H,1)) + 2*sin(theta/2)**2*Operator(V,2)**2*Dagger(Operator(V,2))*Dagger(Operator(H,2)) - 2*cos(theta/2)**2*Operator(V,1)*Operator(H,1)*Dagger(Operator(H,1))*Dagger(Operator(H,2)) + 2*cos(theta/2)**2*Operator(V,1)*Operator(H,1)*Dagger(Operator(H,2))*Dagger(Operator(H,1)) - 2*cos(theta/2)**2*Operator(V,1)*Operator(H,1)*Dagger(Operator(H,2))**2 + 2*cos(theta/2)**2*Operator(V,1)*Operator(H,1)**3 - 2*cos(theta/2)**2*Operator(V,1)*Operator(H,2)*Dagger(Operator(H,1))*Dagger(Operator(H,2)) + 2*cos(theta/2)**2*Operator(V,1)*Operator(H,2)*Dagger(Operator(H,1))**2 + 2*cos(theta/2)**2*Operator(V,1)*Operator(H,2)*Dagger(Operator(H,2))*Dagger(Operator(H,1)) - 2*cos(theta/2)**2*Operator(V,1)*Operator(H,2)**3 + 2*cos(theta/2)**2*Operator(V,2)*Operator(H,1)*Dagger(Operator(H,1))*Dagger(Operator(H,2)) - 2*cos(theta/2)**2*Operator(V,2)*Operator(H,1)*Dagger(Operator(H,2))*Dagger(Operator(H,1)) + 2*cos(theta/2)**2*Operator(V,2)*Operator(H,1)*Dagger(Operator(H,2))**2 - 2*cos(theta/2)**2*Operator(V,2)*Operator(H,1)**3 + 2*cos(theta/2)**2*Operator(V,2)*Operator(H,2)*Dagger(Operator(H,1))*Dagger(Operator(H,2)) - 2*cos(theta/2)**2*Operator(V,2)*Operator(H,2)*Dagger(Operator(H,1))**2 - 2*cos(theta/2)**2*Operator(V,2)*Operator(H,2)*Dagger(Operator(H,2))*Dagger(Operator(H,1)) + 2*cos(theta/2)**2*Operator(V,2)*Operator(H,2)**3))/16"
      ]
     },
     "execution_count": 31,
     "metadata": {},
     "output_type": "execute_result"
    }
   ],
   "source": [
    "output_state_dag = Dagger(output_state)\n",
    "\n",
    "# Normally order the output state dagger * output state\n",
    "norm = (output_state_dag * output_state).subs(rules)\n",
    "\n",
    "# get the coefficients of the normally ordered expression\n",
    "norm.expand().subs(rules)"
   ]
  },
  {
   "cell_type": "code",
   "execution_count": 15,
   "metadata": {},
   "outputs": [
    {
     "data": {
      "text/latex": [
       "$\\displaystyle \\frac{\\cos^{4}{\\left(\\frac{\\theta}{2} \\right)}}{4}$"
      ],
      "text/plain": [
       "cos(theta/2)**4/4"
      ]
     },
     "execution_count": 15,
     "metadata": {},
     "output_type": "execute_result"
    }
   ],
   "source": [
    "# get the probability of H1, H1\n",
    "p_h1h1 = (sp.Abs(output_state.coeff(a_dag_h_1 * a_dag_h_1)) **2).expand().simplify()\n",
    "p_h1h1"
   ]
  },
  {
   "cell_type": "code",
   "execution_count": 16,
   "metadata": {},
   "outputs": [
    {
     "data": {
      "text/latex": [
       "$\\displaystyle \\frac{\\cos^{4}{\\left(\\frac{\\theta}{2} \\right)}}{4}$"
      ],
      "text/plain": [
       "cos(theta/2)**4/4"
      ]
     },
     "execution_count": 16,
     "metadata": {},
     "output_type": "execute_result"
    }
   ],
   "source": [
    "# get the probability of H2, H2\n",
    "p_h2h2 = (sp.Abs(output_state.coeff(a_dag_h_2 * a_dag_h_2)) **2).expand().simplify()\n",
    "p_h2h2"
   ]
  },
  {
   "cell_type": "code",
   "execution_count": 17,
   "metadata": {},
   "outputs": [
    {
     "data": {
      "text/latex": [
       "$\\displaystyle \\frac{\\sin^{4}{\\left(\\frac{\\theta}{2} \\right)}}{4}$"
      ],
      "text/plain": [
       "sin(theta/2)**4/4"
      ]
     },
     "execution_count": 17,
     "metadata": {},
     "output_type": "execute_result"
    }
   ],
   "source": [
    "p_v1v1 = (sp.Abs(output_state.coeff(a_dag_v_1 * a_dag_v_1)) **2).expand().simplify()\n",
    "p_v2v2 = (sp.Abs(output_state.coeff(a_dag_v_2 * a_dag_v_2)) **2).expand().simplify()\n",
    "\n",
    "p_v1v1"
   ]
  },
  {
   "cell_type": "code",
   "execution_count": 18,
   "metadata": {},
   "outputs": [
    {
     "data": {
      "text/latex": [
       "$\\displaystyle \\frac{\\left(\\cos{\\left(\\phi_{1} - \\phi_{2} \\right)} + 1\\right) \\sin^{2}{\\left(\\theta \\right)}}{8}$"
      ],
      "text/plain": [
       "(cos(phi_1 - phi_2) + 1)*sin(theta)**2/8"
      ]
     },
     "execution_count": 18,
     "metadata": {},
     "output_type": "execute_result"
    }
   ],
   "source": [
    "p_h1v1 = (sp.Abs(output_state.coeff(a_dag_h_1 * a_dag_v_1) + output_state.coeff(a_dag_v_1 * a_dag_h_1)\n",
    "                 ).simplify() **2 ).expand().simplify()\n",
    "p_h1v1"
   ]
  },
  {
   "cell_type": "code",
   "execution_count": 19,
   "metadata": {},
   "outputs": [
    {
     "data": {
      "text/latex": [
       "$\\displaystyle \\frac{\\left(\\cos{\\left(\\phi_{1} - \\phi_{2} \\right)} + 1\\right) \\sin^{2}{\\left(\\theta \\right)}}{8}$"
      ],
      "text/plain": [
       "(cos(phi_1 - phi_2) + 1)*sin(theta)**2/8"
      ]
     },
     "execution_count": 19,
     "metadata": {},
     "output_type": "execute_result"
    }
   ],
   "source": [
    "p_h2v2 = (sp.Abs(output_state.coeff(a_dag_h_2 * a_dag_v_2) + output_state.coeff(a_dag_v_2 * a_dag_h_2)\n",
    "                 ).simplify() **2 ).expand().simplify()\n",
    "p_h2v2"
   ]
  },
  {
   "cell_type": "code",
   "execution_count": 20,
   "metadata": {},
   "outputs": [
    {
     "data": {
      "text/latex": [
       "$\\displaystyle 0$"
      ],
      "text/plain": [
       "0"
      ]
     },
     "execution_count": 20,
     "metadata": {},
     "output_type": "execute_result"
    }
   ],
   "source": [
    "p_h1h2 = (sp.Abs(output_state.coeff(a_dag_h_1 * a_dag_h_2) + output_state.coeff(a_dag_h_2 * a_dag_h_1)\n",
    "                 ).simplify() **2 ).expand().simplify()\n",
    "p_h1h2"
   ]
  },
  {
   "cell_type": "code",
   "execution_count": 21,
   "metadata": {},
   "outputs": [
    {
     "data": {
      "text/latex": [
       "$\\displaystyle 0$"
      ],
      "text/plain": [
       "0"
      ]
     },
     "execution_count": 21,
     "metadata": {},
     "output_type": "execute_result"
    }
   ],
   "source": [
    "p_v1v2 = (sp.Abs(output_state.coeff(a_dag_v_1 * a_dag_v_2) + output_state.coeff(a_dag_v_2 * a_dag_v_1)\n",
    "                 ).simplify() **2 ).expand().simplify()\n",
    "p_v1v2"
   ]
  },
  {
   "cell_type": "code",
   "execution_count": 22,
   "metadata": {},
   "outputs": [
    {
     "data": {
      "text/latex": [
       "$\\displaystyle \\frac{\\left(1 - \\cos{\\left(\\phi_{1} - \\phi_{2} \\right)}\\right) \\sin^{2}{\\left(\\theta \\right)}}{8}$"
      ],
      "text/plain": [
       "(1 - cos(phi_1 - phi_2))*sin(theta)**2/8"
      ]
     },
     "execution_count": 22,
     "metadata": {},
     "output_type": "execute_result"
    }
   ],
   "source": [
    "p_h1v2 = (sp.Abs(output_state.coeff(a_dag_h_1 * a_dag_v_2) + output_state.coeff(a_dag_v_2 * a_dag_h_1)\n",
    "                 ).simplify() **2 ).expand().simplify()\n",
    "p_h1v2"
   ]
  },
  {
   "cell_type": "code",
   "execution_count": 23,
   "metadata": {},
   "outputs": [
    {
     "data": {
      "text/latex": [
       "$\\displaystyle \\frac{\\left(1 - \\cos{\\left(\\phi_{1} - \\phi_{2} \\right)}\\right) \\sin^{2}{\\left(\\theta \\right)}}{8}$"
      ],
      "text/plain": [
       "(1 - cos(phi_1 - phi_2))*sin(theta)**2/8"
      ]
     },
     "execution_count": 23,
     "metadata": {},
     "output_type": "execute_result"
    }
   ],
   "source": [
    "p_v1h2 = (sp.Abs(output_state.coeff(a_dag_v_1 * a_dag_h_2) + output_state.coeff(a_dag_h_2 * a_dag_v_1)\n",
    "                 ).simplify() **2 ).expand().simplify()\n",
    "p_v1h2"
   ]
  },
  {
   "cell_type": "code",
   "execution_count": 24,
   "metadata": {},
   "outputs": [
    {
     "data": {
      "text/latex": [
       "$\\displaystyle - \\sin^{4}{\\left(\\frac{\\theta}{2} \\right)} + \\sin^{2}{\\left(\\frac{\\theta}{2} \\right)} - \\frac{\\sin^{2}{\\left(\\theta \\right)}}{2} + \\frac{1}{2}$"
      ],
      "text/plain": [
       "-sin(theta/2)**4 + sin(theta/2)**2 - sin(theta)**2/2 + 1/2"
      ]
     },
     "execution_count": 24,
     "metadata": {},
     "output_type": "execute_result"
    }
   ],
   "source": [
    "# sum all the probabilities\n",
    "total_probability = (\n",
    "    p_h1h1 + p_h2h2 + p_v1v1 + p_v2v2 +\n",
    "    p_h1v1 + p_h2v2 + p_h1h2 + p_v1v2 +\n",
    "    p_h1v2 + p_v1h2\n",
    ").expand().simplify()\n",
    "(1 - total_probability).expand().simplify()"
   ]
  },
  {
   "cell_type": "code",
   "execution_count": 25,
   "metadata": {},
   "outputs": [
    {
     "data": {
      "text/latex": [
       "$\\displaystyle 0.75$"
      ],
      "text/plain": [
       "0.750000000000000"
      ]
     },
     "execution_count": 25,
     "metadata": {},
     "output_type": "execute_result"
    }
   ],
   "source": [
    "# evaluate the probabilitie for theta = 0\n",
    "theta_value = np.pi / 2\n",
    "total_probability.subs(theta, theta_value).evalf()"
   ]
  },
  {
   "cell_type": "code",
   "execution_count": 26,
   "metadata": {},
   "outputs": [
    {
     "data": {
      "text/latex": [
       "$\\displaystyle \\sin^{4}{\\left(\\frac{\\theta}{2} \\right)} - \\sin^{2}{\\left(\\frac{\\theta}{2} \\right)} + \\frac{\\sin^{2}{\\left(\\theta \\right)}}{2} + \\frac{1}{2}$"
      ],
      "text/plain": [
       "sin(theta/2)**4 - sin(theta/2)**2 + sin(theta)**2/2 + 1/2"
      ]
     },
     "execution_count": 26,
     "metadata": {},
     "output_type": "execute_result"
    }
   ],
   "source": [
    "# check output state is normalized\n",
    "\n",
    "# get all the coefficients of pairs of operators\n",
    "coeffs = {\n",
    "    (a_dag_h_1, a_dag_h_1): output_state.coeff(a_dag_h_1 * a_dag_h_1),\n",
    "    (a_dag_h_2, a_dag_h_2): output_state.coeff(a_dag_h_2 * a_dag_h_2),\n",
    "    (a_dag_v_1, a_dag_v_1): output_state.coeff(a_dag_v_1 * a_dag_v_1),\n",
    "    (a_dag_v_2, a_dag_v_2): output_state.coeff(a_dag_v_2 * a_dag_v_2),\n",
    "    (a_dag_h_1, a_dag_v_1): output_state.coeff(a_dag_h_1 * a_dag_v_1) + output_state.coeff(a_dag_v_1 * a_dag_h_1),\n",
    "    (a_dag_h_2, a_dag_v_2): output_state.coeff(a_dag_h_2 * a_dag_v_2) + output_state.coeff(a_dag_v_2 * a_dag_h_2),\n",
    "    (a_dag_h_1, a_dag_h_2): output_state.coeff(a_dag_h_1 * a_dag_h_2) + output_state.coeff(a_dag_h_2 * a_dag_h_1),\n",
    "    (a_dag_v_1, a_dag_v_2): output_state.coeff(a_dag_v_1 * a_dag_v_2) + output_state.coeff(a_dag_v_2 * a_dag_v_1),\n",
    "    (a_dag_h_1, a_dag_v_2): output_state.coeff(a_dag_h_1 * a_dag_v_2) + output_state.coeff(a_dag_v_2 * a_dag_h_1),\n",
    "    (a_dag_v_1, a_dag_h_2): output_state.coeff(a_dag_v_1 * a_dag_h_2) + output_state.coeff(a_dag_h_2 * a_dag_v_1)\n",
    "}\n",
    "# calculate the norm\n",
    "norm = sum(sp.Abs(coeff) ** 2 for coeff in coeffs.values()).expand().simplify()\n",
    "norm\n",
    "\n",
    "sp.trigsimp(norm)\n"
   ]
  },
  {
   "cell_type": "code",
   "execution_count": 27,
   "metadata": {},
   "outputs": [
    {
     "data": {
      "text/latex": [
       "$\\displaystyle \\sin^{4}{\\left(\\frac{\\theta}{2} \\right)} + \\frac{\\sin^{2}{\\left(\\theta \\right)}}{2} + \\cos^{4}{\\left(\\frac{\\theta}{2} \\right)}$"
      ],
      "text/plain": [
       "sin(theta/2)**4 + sin(theta)**2/2 + cos(theta/2)**4"
      ]
     },
     "execution_count": 27,
     "metadata": {},
     "output_type": "execute_result"
    }
   ],
   "source": [
    "terms = output_state.as_ordered_terms()\n",
    "\n",
    "# Compute the norm by summing inner products\n",
    "norm = 0\n",
    "for term in terms:\n",
    "    coeff = term\n",
    "    for op in [a_dag_h_1, a_dag_h_2, a_dag_v_1, a_dag_v_2]:\n",
    "        coeff = coeff.subs(op, 1)\n",
    "    norm += sp.Abs(coeff)**2\n",
    "\n",
    "norm = sp.simplify(norm)\n",
    "sp.trigsimp(norm)"
   ]
  },
  {
   "cell_type": "code",
   "execution_count": 28,
   "metadata": {},
   "outputs": [
    {
     "data": {
      "text/plain": [
       "[exp(I*phi_1)*exp(I*phi_2)*sin(theta/2)**2*Dagger(Operator(V,1))*Dagger(Operator(V,2))/2,\n",
       " -exp(I*phi_1)*exp(I*phi_2)*sin(theta/2)**2*Dagger(Operator(V,1))**2/2,\n",
       " -exp(I*phi_1)*exp(I*phi_2)*sin(theta/2)**2*Dagger(Operator(V,2))*Dagger(Operator(V,1))/2,\n",
       " exp(I*phi_1)*exp(I*phi_2)*sin(theta/2)**2*Dagger(Operator(V,2))**2/2,\n",
       " -exp(I*phi_1)*sin(theta)*Dagger(Operator(V,1))*Dagger(Operator(H,1))/4,\n",
       " exp(I*phi_1)*sin(theta)*Dagger(Operator(V,1))*Dagger(Operator(H,2))/4,\n",
       " -exp(I*phi_1)*sin(theta)*Dagger(Operator(V,2))*Dagger(Operator(H,1))/4,\n",
       " exp(I*phi_1)*sin(theta)*Dagger(Operator(V,2))*Dagger(Operator(H,2))/4,\n",
       " -exp(I*phi_2)*sin(theta)*Dagger(Operator(H,1))*Dagger(Operator(V,1))/4,\n",
       " exp(I*phi_2)*sin(theta)*Dagger(Operator(H,1))*Dagger(Operator(V,2))/4,\n",
       " -exp(I*phi_2)*sin(theta)*Dagger(Operator(H,2))*Dagger(Operator(V,1))/4,\n",
       " exp(I*phi_2)*sin(theta)*Dagger(Operator(H,2))*Dagger(Operator(V,2))/4,\n",
       " cos(theta/2)**2*Dagger(Operator(H,1))*Dagger(Operator(H,2))/2,\n",
       " -cos(theta/2)**2*Dagger(Operator(H,1))**2/2,\n",
       " -cos(theta/2)**2*Dagger(Operator(H,2))*Dagger(Operator(H,1))/2,\n",
       " cos(theta/2)**2*Dagger(Operator(H,2))**2/2]"
      ]
     },
     "execution_count": 28,
     "metadata": {},
     "output_type": "execute_result"
    }
   ],
   "source": [
    "terms"
   ]
  },
  {
   "cell_type": "markdown",
   "metadata": {},
   "source": [
    "# QUTIP"
   ]
  },
  {
   "cell_type": "code",
   "execution_count": 29,
   "metadata": {},
   "outputs": [],
   "source": [
    "import qutip as qt"
   ]
  },
  {
   "cell_type": "code",
   "execution_count": null,
   "metadata": {},
   "outputs": [],
   "source": []
  }
 ],
 "metadata": {
  "kernelspec": {
   "display_name": ".venv",
   "language": "python",
   "name": "python3"
  },
  "language_info": {
   "codemirror_mode": {
    "name": "ipython",
    "version": 3
   },
   "file_extension": ".py",
   "mimetype": "text/x-python",
   "name": "python",
   "nbconvert_exporter": "python",
   "pygments_lexer": "ipython3",
   "version": "3.13.2"
  }
 },
 "nbformat": 4,
 "nbformat_minor": 2
}
