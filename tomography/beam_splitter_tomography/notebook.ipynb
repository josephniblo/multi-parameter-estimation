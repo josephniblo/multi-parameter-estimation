{
 "cells": [
  {
   "cell_type": "code",
   "execution_count": 47,
   "id": "87bfe5f7",
   "metadata": {},
   "outputs": [],
   "source": [
    "import qutip as qt\n",
    "import pandas as pd\n",
    "import numpy as np\n",
    "\n",
    "import os\n",
    "import glob\n",
    "\n",
    "from scipy.optimize import minimize_scalar\n"
   ]
  },
  {
   "cell_type": "code",
   "execution_count": 2,
   "id": "52b3867e",
   "metadata": {},
   "outputs": [
    {
     "data": {
      "text/plain": [
       "['../data/2025-05-13--16h-14m--2025-05-13--16h-15m_1qb_tomo_sagnac2_40mW_nominally_H',\n",
       " '../data/2025-05-13--16h-29m--2025-05-13--16h-30m_1qb_tomo_sagnac2_40mW_B_nominally_H',\n",
       " '../data/2025-05-13--17h-01m--2025-05-13--17h-03m_1qb_tomo_sagnac2_40mW_B_nominally_H',\n",
       " '../data/2025-05-13--17h-05m--2025-05-13--17h-07m_1qb_tomo_sagnac2_40mW_A_nominally_H',\n",
       " '../data/2025-05-14--10h-04m--2025-05-14--10h-06m_1qb_tomo_sagnac2_40mW_A_nominally_V',\n",
       " '../data/2025-05-14--10h-55m--2025-05-14--10h-56m_1qb_tomo_sagnac2_40mW_A_nominally_D',\n",
       " '../data/2025-05-14--10h-57m--2025-05-14--10h-58m_1qb_tomo_sagnac2_40mW_A_nominally_R',\n",
       " '../data/2025-05-14--10h-59m--2025-05-14--11h-00m_1qb_tomo_sagnac2_40mW_A_nominally_A',\n",
       " '../data/2025-05-14--11h-00m--2025-05-14--11h-02m_1qb_tomo_sagnac2_40mW_B_nominally_L',\n",
       " '../data/2025-05-14--11h-11m--2025-05-14--11h-12m_1qb_tomo_sagnac2_40mW_B_nominally_D',\n",
       " '../data/2025-05-14--11h-13m--2025-05-14--11h-14m_1qb_tomo_sagnac2_40mW_B_nominally_R',\n",
       " '../data/2025-05-14--11h-14m--2025-05-14--11h-16m_1qb_tomo_sagnac2_40mW_B_nominally_A',\n",
       " '../data/2025-05-14--11h-16m--2025-05-14--11h-18m_1qb_tomo_sagnac2_40mW_B_nominally_L']"
      ]
     },
     "execution_count": 2,
     "metadata": {},
     "output_type": "execute_result"
    }
   ],
   "source": [
    "\n",
    "# list the folders in ../data\n",
    "folders = glob.glob(\"../data/*\")\n",
    "\n",
    "folders = [f for f in folders if \"1qb\" in f]\n",
    "\n",
    "# sort the folders by name\n",
    "folders.sort()\n",
    "\n",
    "folders\n"
   ]
  },
  {
   "cell_type": "code",
   "execution_count": 3,
   "id": "875e78a6",
   "metadata": {},
   "outputs": [],
   "source": [
    "def extract_reconstructed_state(data, key=\"reconstructed_state\"):\n",
    "\n",
    "    matrix_11 = data[key][0][0]['real'] + 1j * data[key][0][0]['imag']\n",
    "    matrix_12 = data[key][0][1]['real'] + 1j * data[key][0][1]['imag']\n",
    "    matrix_21 = data[key][1][0]['real'] + 1j * data[key][1][0]['imag']\n",
    "    matrix_22 = data[key][1][1]['real'] + 1j * data[key][1][1]['imag']\n",
    "\n",
    "    matrix = [[matrix_11, matrix_12],\n",
    "                [matrix_21, matrix_22]]\n",
    "    return qt.Qobj(matrix, dims=[[2], [2]])"
   ]
  },
  {
   "cell_type": "code",
   "execution_count": 4,
   "id": "b5269298",
   "metadata": {},
   "outputs": [
    {
     "name": "stdout",
     "output_type": "stream",
     "text": [
      "Skipping ../data/2025-05-13--16h-14m--2025-05-13--16h-15m_1qb_tomo_sagnac2_40mW_nominally_H because one of the files does not exist\n"
     ]
    },
    {
     "data": {
      "text/latex": [
       "Quantum object: dims=[[2], [2]], shape=(2, 2), type='oper', dtype=Dense, isherm=True$$\\left(\\begin{array}{cc}0.498 & (0.321+0.377j)\\\\(0.321-0.377j) & 0.502\\end{array}\\right)$$"
      ],
      "text/plain": [
       "Quantum object: dims=[[2], [2]], shape=(2, 2), type='oper', dtype=Dense, isherm=True\n",
       "Qobj data =\n",
       "[[0.49766767+0.j         0.32104273+0.37656206j]\n",
       " [0.32104273-0.37656206j 0.50233233+0.j        ]]"
      ]
     },
     "execution_count": 4,
     "metadata": {},
     "output_type": "execute_result"
    }
   ],
   "source": [
    "# for each folder, load the data in .../R/tomography_resutls.json and .../T/tomography_results.json\n",
    "\n",
    "reconstructed_states = []\n",
    "\n",
    "for folder in folders:\n",
    "    last_part_of_folder = folder.split(\"/\")[-1]\n",
    "\n",
    "    # folder names like 2025-05-13--16h-29m--2025-05-13--16h-30m_1qb_tomo_sagnac2_40mW_B_nominally_H\n",
    "    # extract the parameters from the folder name\n",
    "\n",
    "    params = last_part_of_folder.split(\"_\")\n",
    "    nominal_state_name = params[-1]\n",
    "    launcher = params[-3]\n",
    "    laser_power = params[-4]\n",
    "\n",
    "    R_file = os.path.join(folder, \"R\", \"tomography_results.json\")\n",
    "    T_file = os.path.join(folder, \"T\", \"tomography_results.json\")\n",
    "\n",
    "    if not os.path.exists(R_file) or not os.path.exists(T_file):\n",
    "        print(f\"Skipping {folder} because one of the files does not exist\")\n",
    "        continue\n",
    "\n",
    "    R_data = pd.read_json(R_file)\n",
    "    T_data = pd.read_json(T_file)\n",
    "\n",
    "    rho_R = extract_reconstructed_state(R_data)\n",
    "    rho_T = extract_reconstructed_state(T_data)\n",
    "    \n",
    "    target_state = extract_reconstructed_state(T_data, key=\"target_state\")\n",
    "\n",
    "    reconstructed_states.append({\n",
    "        \"folder\": folder,\n",
    "        \"nominal_state_name\": nominal_state_name,\n",
    "        \"launcher\": launcher,\n",
    "        \"laser_power\": laser_power,\n",
    "        \"reconstructed_state_T\": rho_T,\n",
    "        \"reconstructed_state_R\": rho_R,\n",
    "        \"target_state\": target_state\n",
    "    })\n",
    "\n",
    "reconstructed_states[-1]['reconstructed_state_R']\n",
    "\n"
   ]
  },
  {
   "cell_type": "code",
   "execution_count": 37,
   "id": "b2634796",
   "metadata": {},
   "outputs": [
    {
     "data": {
      "text/latex": [
       "Quantum object: dims=[[2], [2]], shape=(2, 2), type='oper', dtype=Dense, isherm=True$$\\left(\\begin{array}{cc}0.515 & (-0.094-0.484j)\\\\(-0.094+0.484j) & 0.485\\end{array}\\right)$$"
      ],
      "text/plain": [
       "Quantum object: dims=[[2], [2]], shape=(2, 2), type='oper', dtype=Dense, isherm=True\n",
       "Qobj data =\n",
       "[[ 0.5146096 +0.j         -0.09375157-0.48395731j]\n",
       " [-0.09375157+0.48395731j  0.4853904 +0.j        ]]"
      ]
     },
     "execution_count": 37,
     "metadata": {},
     "output_type": "execute_result"
    }
   ],
   "source": [
    "reconstructed_state_T = reconstructed_states[-1]['reconstructed_state_T']\n",
    "reconstructed_state_T"
   ]
  },
  {
   "cell_type": "code",
   "execution_count": 6,
   "id": "b6deeb87",
   "metadata": {},
   "outputs": [
    {
     "data": {
      "text/plain": [
       "'L'"
      ]
     },
     "execution_count": 6,
     "metadata": {},
     "output_type": "execute_result"
    }
   ],
   "source": [
    "reconstructed_states[-1]['nominal_state_name']"
   ]
  },
  {
   "cell_type": "code",
   "execution_count": 10,
   "id": "6c0a233a",
   "metadata": {},
   "outputs": [
    {
     "data": {
      "text/plain": [
       "'B'"
      ]
     },
     "execution_count": 10,
     "metadata": {},
     "output_type": "execute_result"
    }
   ],
   "source": [
    "reconstructed_states[-1]['launcher']"
   ]
  },
  {
   "cell_type": "code",
   "execution_count": 11,
   "id": "8718c26b",
   "metadata": {},
   "outputs": [],
   "source": [
    "target_state = reconstructed_states[-1]['target_state']"
   ]
  },
  {
   "cell_type": "markdown",
   "id": "5f1e8448",
   "metadata": {},
   "source": [
    "We need to find the unitary rotation of the bloch sphere in the X-Y plane that rotates the target state onto the reconstructed state"
   ]
  },
  {
   "cell_type": "code",
   "execution_count": 28,
   "id": "88bf983d",
   "metadata": {},
   "outputs": [],
   "source": [
    "# rotation around the x axis of the Bloch sphere\n",
    "def rotation_matrix_x(theta):\n",
    "\n",
    "    phase = np.exp(1j * theta / 2)\n",
    "    m = np.array([[1, 0],\n",
    "                     [0, phase]])\n",
    "    return qt.Qobj(m, dims=[[2], [2]])\n",
    "\n",
    "def rotate_target_state(theta, target_state):\n",
    "    \"\"\"\n",
    "    Rotate the target state around the x axis of the Bloch sphere by theta\n",
    "    \"\"\"\n",
    "    rotation = rotation_matrix_x(theta)\n",
    "    return rotation * target_state * rotation.dag()"
   ]
  },
  {
   "cell_type": "code",
   "execution_count": 32,
   "id": "82ca697c",
   "metadata": {},
   "outputs": [
    {
     "data": {
      "text/latex": [
       "Quantum object: dims=[[2], [2]], shape=(2, 2), type='oper', dtype=Dense, isherm=True$$\\left(\\begin{array}{cc}0.500 & (-0.025-0.499j)\\\\(-0.025+0.499j) & 0.500\\end{array}\\right)$$"
      ],
      "text/plain": [
       "Quantum object: dims=[[2], [2]], shape=(2, 2), type='oper', dtype=Dense, isherm=True\n",
       "Qobj data =\n",
       "[[ 0.5       +0.00000000e+00j -0.02498958-4.99375130e-01j]\n",
       " [-0.02498958+4.99375130e-01j  0.5       -2.10657063e-18j]]"
      ]
     },
     "execution_count": 32,
     "metadata": {},
     "output_type": "execute_result"
    }
   ],
   "source": [
    "rotated_target_state = rotate_target_state(0.1, target_state)\n",
    "rotated_target_state"
   ]
  },
  {
   "cell_type": "code",
   "execution_count": 86,
   "id": "98ecbdd9",
   "metadata": {},
   "outputs": [],
   "source": [
    "\n",
    "def trace_norm_distance(rho1, rho2):\n",
    "    \"\"\"\n",
    "    Compute the trace norm distance between two density matrices\n",
    "    \"\"\"\n",
    "    return (rho1 - rho2).norm('tr')\n",
    "\n",
    "def find_best_rotation_angle(target_state, reconstructed_state):\n",
    "    \"\"\"\n",
    "    Use scipy to find the best rotation angle that minimizes the trace norm distance\n",
    "    \"\"\"\n",
    "    def objective_function(theta):\n",
    "        rotated_state = rotate_target_state(theta, target_state)\n",
    "        return trace_norm_distance(rotated_state, reconstructed_state)\n",
    "    result = minimize_scalar(objective_function, bounds=(-2*np.pi, 2*np.pi), method='bounded')\n",
    "    best_angle = result.x\n",
    "    best_distance = result.fun\n",
    "    return best_angle, best_distance\n"
   ]
  },
  {
   "cell_type": "code",
   "execution_count": 87,
   "id": "5c23d702",
   "metadata": {},
   "outputs": [
    {
     "data": {
      "text/plain": [
       "(np.float64(0.3826960619811966), np.float64(0.03243954743465447))"
      ]
     },
     "execution_count": 87,
     "metadata": {},
     "output_type": "execute_result"
    }
   ],
   "source": [
    "best_angle, best_distance = find_best_rotation_angle(target_state, reconstructed_state_T)\n",
    "best_angle, best_distance"
   ]
  },
  {
   "cell_type": "code",
   "execution_count": 72,
   "id": "46e544a4",
   "metadata": {},
   "outputs": [
    {
     "data": {
      "text/latex": [
       "Quantum object: dims=[[2], [2]], shape=(2, 2), type='oper', dtype=Dense, isherm=True$$\\left(\\begin{array}{cc}0.500 & (-0.095-0.491j)\\\\(-0.095+0.491j) & 0.500\\end{array}\\right)$$"
      ],
      "text/plain": [
       "Quantum object: dims=[[2], [2]], shape=(2, 2), type='oper', dtype=Dense, isherm=True\n",
       "Qobj data =\n",
       "[[ 0.5       +0.00000000e+00j -0.09509125-4.90874378e-01j]\n",
       " [-0.09509125+4.90874378e-01j  0.5       +1.15630190e-18j]]"
      ]
     },
     "execution_count": 72,
     "metadata": {},
     "output_type": "execute_result"
    }
   ],
   "source": [
    "# Show the rotated target state\n",
    "rotated_target_state = rotate_target_state(best_angle, target_state)\n",
    "rotated_target_state"
   ]
  },
  {
   "cell_type": "code",
   "execution_count": 73,
   "id": "c7a4bcd7",
   "metadata": {},
   "outputs": [
    {
     "data": {
      "text/latex": [
       "Quantum object: dims=[[2], [2]], shape=(2, 2), type='oper', dtype=Dense, isherm=True$$\\left(\\begin{array}{cc}0.515 & (-0.094-0.484j)\\\\(-0.094+0.484j) & 0.485\\end{array}\\right)$$"
      ],
      "text/plain": [
       "Quantum object: dims=[[2], [2]], shape=(2, 2), type='oper', dtype=Dense, isherm=True\n",
       "Qobj data =\n",
       "[[ 0.5146096 +0.j         -0.09375157-0.48395731j]\n",
       " [-0.09375157+0.48395731j  0.4853904 +0.j        ]]"
      ]
     },
     "execution_count": 73,
     "metadata": {},
     "output_type": "execute_result"
    }
   ],
   "source": [
    "reconstructed_state_T"
   ]
  },
  {
   "cell_type": "code",
   "execution_count": 79,
   "id": "138a180b",
   "metadata": {},
   "outputs": [],
   "source": [
    "# for all the reconstructed states, find the best rotation angle and distance\n",
    "best_angles = []\n",
    "best_distances = []\n",
    "tomos = []\n",
    "for tomo in ['R', 'T']:\n",
    "    for state in reconstructed_states:\n",
    "        target_state = state['target_state']\n",
    "        reconstructed_state = state[f'reconstructed_state_{tomo}']\n",
    "        # find the best rotation angle and distance\n",
    "        best_angle, best_distance = find_best_rotation_angle(target_state, reconstructed_state)\n",
    "        best_angles.append(best_angle * 180 / np.pi % 360)\n",
    "        best_distances.append(best_distance)\n",
    "        tomos.append(tomo)\n",
    "\n",
    "# create a dataframe with the results  \n",
    "df = pd.DataFrame({\n",
    "    \"folder\": [state['folder'] for state in reconstructed_states]*2,\n",
    "    \"tomo\": tomos,\n",
    "    \"best_angle\": best_angles,\n",
    "    \"best_distance\": best_distances,\n",
    "    \"nominal_state_name\": [state['nominal_state_name'] for state in reconstructed_states]*2,\n",
    "    \"launcher\": [state['launcher'] for state in reconstructed_states]*2\n",
    "    })\n",
    "df.to_csv(\"best_angles.csv\", index=False)"
   ]
  },
  {
   "cell_type": "code",
   "execution_count": 80,
   "id": "d9b362d2",
   "metadata": {},
   "outputs": [
    {
     "data": {
      "text/latex": [
       "Quantum object: dims=[[2], [2]], shape=(2, 2), type='oper', dtype=Dense, isherm=True$$\\left(\\begin{array}{cc}0.517 & (-0.485+0.091j)\\\\(-0.485-0.091j) & 0.483\\end{array}\\right)$$"
      ],
      "text/plain": [
       "Quantum object: dims=[[2], [2]], shape=(2, 2), type='oper', dtype=Dense, isherm=True\n",
       "Qobj data =\n",
       "[[ 0.51690695+0.j         -0.48515256+0.09100134j]\n",
       " [-0.48515256-0.09100134j  0.48309305+0.j        ]]"
      ]
     },
     "execution_count": 80,
     "metadata": {},
     "output_type": "execute_result"
    }
   ],
   "source": [
    "reconstructed_states[-4]['reconstructed_state_T']"
   ]
  }
 ],
 "metadata": {
  "kernelspec": {
   "display_name": ".venv",
   "language": "python",
   "name": "python3"
  },
  "language_info": {
   "codemirror_mode": {
    "name": "ipython",
    "version": 3
   },
   "file_extension": ".py",
   "mimetype": "text/x-python",
   "name": "python",
   "nbconvert_exporter": "python",
   "pygments_lexer": "ipython3",
   "version": "3.13.2"
  }
 },
 "nbformat": 4,
 "nbformat_minor": 5
}
